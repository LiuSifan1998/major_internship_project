{
 "cells": [
  {
   "cell_type": "code",
   "execution_count": 1,
   "metadata": {},
   "outputs": [],
   "source": [
    "import numpy as np\n",
    "import pandas as pd\n",
    "from sklearn.datasets import load_digits\n",
    "from scipy.spatial.distance import pdist\n",
    "from sklearn.manifold._t_sne import _joint_probabilities\n",
    "from scipy import linalg\n",
    "from sklearn.metrics import pairwise_distances\n",
    "from scipy.spatial.distance import squareform\n",
    "from sklearn.manifold import TSNE\n",
    "from sklearn.decomposition import PCA\n",
    "from sklearn.cluster import KMeans\n",
    "from sklearn.preprocessing import StandardScaler\n",
    "import matplotlib.pyplot as plt\n",
    "from collections import Counter\n",
    "import seaborn as sns"
   ]
  },
  {
   "cell_type": "code",
   "execution_count": 62,
   "metadata": {
    "collapsed": true,
    "jupyter": {
     "outputs_hidden": true,
     "source_hidden": true
    }
   },
   "outputs": [
    {
     "name": "stderr",
     "output_type": "stream",
     "text": [
      "/Users/liusifan/opt/anaconda3/envs/pytorch/lib/python3.8/site-packages/IPython/core/interactiveshell.py:3165: DtypeWarning: Columns (1281) have mixed types.Specify dtype option on import or set low_memory=False.\n",
      "  has_raised = await self.run_ast_nodes(code_ast.body, cell_name,\n",
      "<ipython-input-62-347b08152486>:12: SettingWithCopyWarning: \n",
      "A value is trying to be set on a copy of a slice from a DataFrame.\n",
      "Try using .loc[row_indexer,col_indexer] = value instead\n",
      "\n",
      "See the caveats in the documentation: https://pandas.pydata.org/pandas-docs/stable/user_guide/indexing.html#returning-a-view-versus-a-copy\n",
      "  symbol_df['symbol'] = ll\n"
     ]
    }
   ],
   "source": [
    "X = pd.read_csv('/Users/liusifan/Desktop/未命名文件夹/cdhit25_esm.csv',index_col = 'id')\n",
    "X = X[X.symbol != 'na']\n",
    "feature_df = X.drop(columns=['symbol'])\n",
    "symbol_df = X.iloc[:,[-1]]\n",
    "X_scaled = StandardScaler().fit_transform(feature_df)\n",
    "ll = []\n",
    "for t in symbol_df['symbol'].tolist():\n",
    "    try:\n",
    "        ll.append(int(t))\n",
    "    except:\n",
    "        ll.append(0)\n",
    "symbol_df['symbol'] = ll"
   ]
  },
  {
   "cell_type": "code",
   "execution_count": 66,
   "metadata": {
    "collapsed": true,
    "jupyter": {
     "outputs_hidden": true,
     "source_hidden": true
    }
   },
   "outputs": [
    {
     "name": "stderr",
     "output_type": "stream",
     "text": [
      "<ipython-input-66-d6f54d6438e5>:2: SettingWithCopyWarning: \n",
      "A value is trying to be set on a copy of a slice from a DataFrame.\n",
      "Try using .loc[row_indexer,col_indexer] = value instead\n",
      "\n",
      "See the caveats in the documentation: https://pandas.pydata.org/pandas-docs/stable/user_guide/indexing.html#returning-a-view-versus-a-copy\n",
      "  symbol_df['scaled_cluster'] = km.labels_\n"
     ]
    },
    {
     "data": {
      "text/html": [
       "<div>\n",
       "<style scoped>\n",
       "    .dataframe tbody tr th:only-of-type {\n",
       "        vertical-align: middle;\n",
       "    }\n",
       "\n",
       "    .dataframe tbody tr th {\n",
       "        vertical-align: top;\n",
       "    }\n",
       "\n",
       "    .dataframe thead th {\n",
       "        text-align: right;\n",
       "    }\n",
       "</style>\n",
       "<table border=\"1\" class=\"dataframe\">\n",
       "  <thead>\n",
       "    <tr style=\"text-align: right;\">\n",
       "      <th></th>\n",
       "      <th>symbol</th>\n",
       "      <th>scaled_cluster</th>\n",
       "    </tr>\n",
       "    <tr>\n",
       "      <th>id</th>\n",
       "      <th></th>\n",
       "      <th></th>\n",
       "    </tr>\n",
       "  </thead>\n",
       "  <tbody>\n",
       "    <tr>\n",
       "      <th>CESG-GO.34554-2</th>\n",
       "      <td>0</td>\n",
       "      <td>0</td>\n",
       "    </tr>\n",
       "    <tr>\n",
       "      <th>MCSG-APC64114-1</th>\n",
       "      <td>1</td>\n",
       "      <td>0</td>\n",
       "    </tr>\n",
       "    <tr>\n",
       "      <th>NYSGRC-013977-1</th>\n",
       "      <td>0</td>\n",
       "      <td>0</td>\n",
       "    </tr>\n",
       "    <tr>\n",
       "      <th>NESG-YT666-2</th>\n",
       "      <td>1</td>\n",
       "      <td>0</td>\n",
       "    </tr>\n",
       "    <tr>\n",
       "      <th>MCSG-APC82443-1</th>\n",
       "      <td>1</td>\n",
       "      <td>0</td>\n",
       "    </tr>\n",
       "    <tr>\n",
       "      <th>...</th>\n",
       "      <td>...</td>\n",
       "      <td>...</td>\n",
       "    </tr>\n",
       "    <tr>\n",
       "      <th>MCSG-APC61409-1</th>\n",
       "      <td>1</td>\n",
       "      <td>1</td>\n",
       "    </tr>\n",
       "    <tr>\n",
       "      <th>JCSG-370037-1</th>\n",
       "      <td>1</td>\n",
       "      <td>1</td>\n",
       "    </tr>\n",
       "    <tr>\n",
       "      <th>NESG-NsR306-1</th>\n",
       "      <td>1</td>\n",
       "      <td>1</td>\n",
       "    </tr>\n",
       "    <tr>\n",
       "      <th>JCSG-379518-1</th>\n",
       "      <td>1</td>\n",
       "      <td>1</td>\n",
       "    </tr>\n",
       "    <tr>\n",
       "      <th>NYSGRC-016812-1</th>\n",
       "      <td>0</td>\n",
       "      <td>1</td>\n",
       "    </tr>\n",
       "  </tbody>\n",
       "</table>\n",
       "<p>23908 rows × 2 columns</p>\n",
       "</div>"
      ],
      "text/plain": [
       "                 symbol  scaled_cluster\n",
       "id                                     \n",
       "CESG-GO.34554-2       0               0\n",
       "MCSG-APC64114-1       1               0\n",
       "NYSGRC-013977-1       0               0\n",
       "NESG-YT666-2          1               0\n",
       "MCSG-APC82443-1       1               0\n",
       "...                 ...             ...\n",
       "MCSG-APC61409-1       1               1\n",
       "JCSG-370037-1         1               1\n",
       "NESG-NsR306-1         1               1\n",
       "JCSG-379518-1         1               1\n",
       "NYSGRC-016812-1       0               1\n",
       "\n",
       "[23908 rows x 2 columns]"
      ]
     },
     "execution_count": 66,
     "metadata": {},
     "output_type": "execute_result"
    }
   ],
   "source": [
    "km = KMeans(n_clusters=2).fit(X_scaled)\n",
    "symbol_df['scaled_cluster'] = km.labels_\n",
    "# labels_为聚类完毕产生的标签值\n",
    "symbol_df.sort_values('scaled_cluster')"
   ]
  },
  {
   "cell_type": "code",
   "execution_count": 68,
   "metadata": {
    "collapsed": true,
    "jupyter": {
     "outputs_hidden": true,
     "source_hidden": true
    }
   },
   "outputs": [
    {
     "data": {
      "text/plain": [
       "Counter({1: 17740, 0: 6168})"
      ]
     },
     "execution_count": 68,
     "metadata": {},
     "output_type": "execute_result"
    }
   ],
   "source": [
    "Counter(symbol_df['scaled_cluster'])\n",
    "Counter(symbol_df['symbol'])"
   ]
  },
  {
   "cell_type": "code",
   "execution_count": 80,
   "metadata": {
    "jupyter": {
     "source_hidden": true
    }
   },
   "outputs": [],
   "source": [
    "tp,tn,fp,fn = 0,0,0,0\n",
    "for ind,row in symbol_df.iterrows():\n",
    "    if row['symbol'] == 1 and row['scaled_cluster'] == 1:\n",
    "        tp += 1\n",
    "    if row['symbol'] == 0 and row['scaled_cluster'] == 0:\n",
    "        tn += 1\n",
    "    if row['symbol'] == 1 and row['scaled_cluster'] == 0:\n",
    "        fn += 1\n",
    "    if row['symbol'] == 0 and row['scaled_cluster'] == 1:\n",
    "        fp += 1"
   ]
  },
  {
   "cell_type": "code",
   "execution_count": 83,
   "metadata": {
    "collapsed": true,
    "jupyter": {
     "outputs_hidden": true,
     "source_hidden": true
    }
   },
   "outputs": [
    {
     "data": {
      "text/plain": [
       "(10778, 1883, 4285, 6962)"
      ]
     },
     "execution_count": 83,
     "metadata": {},
     "output_type": "execute_result"
    }
   ],
   "source": [
    "tp,tn,fp,fn"
   ]
  },
  {
   "cell_type": "code",
   "execution_count": 91,
   "metadata": {
    "collapsed": true,
    "jupyter": {
     "outputs_hidden": true,
     "source_hidden": true
    }
   },
   "outputs": [
    {
     "name": "stdout",
     "output_type": "stream",
     "text": [
      "[t-SNE] Computing 151 nearest neighbors...\n",
      "[t-SNE] Indexed 23908 samples in 0.017s...\n",
      "[t-SNE] Computed neighbors for 23908 samples in 17.020s...\n",
      "[t-SNE] Computed conditional probabilities for sample 1000 / 23908\n",
      "[t-SNE] Computed conditional probabilities for sample 2000 / 23908\n",
      "[t-SNE] Computed conditional probabilities for sample 3000 / 23908\n",
      "[t-SNE] Computed conditional probabilities for sample 4000 / 23908\n",
      "[t-SNE] Computed conditional probabilities for sample 5000 / 23908\n",
      "[t-SNE] Computed conditional probabilities for sample 6000 / 23908\n",
      "[t-SNE] Computed conditional probabilities for sample 7000 / 23908\n",
      "[t-SNE] Computed conditional probabilities for sample 8000 / 23908\n",
      "[t-SNE] Computed conditional probabilities for sample 9000 / 23908\n",
      "[t-SNE] Computed conditional probabilities for sample 10000 / 23908\n",
      "[t-SNE] Computed conditional probabilities for sample 11000 / 23908\n",
      "[t-SNE] Computed conditional probabilities for sample 12000 / 23908\n",
      "[t-SNE] Computed conditional probabilities for sample 13000 / 23908\n",
      "[t-SNE] Computed conditional probabilities for sample 14000 / 23908\n",
      "[t-SNE] Computed conditional probabilities for sample 15000 / 23908\n",
      "[t-SNE] Computed conditional probabilities for sample 16000 / 23908\n",
      "[t-SNE] Computed conditional probabilities for sample 17000 / 23908\n",
      "[t-SNE] Computed conditional probabilities for sample 18000 / 23908\n",
      "[t-SNE] Computed conditional probabilities for sample 19000 / 23908\n",
      "[t-SNE] Computed conditional probabilities for sample 20000 / 23908\n",
      "[t-SNE] Computed conditional probabilities for sample 21000 / 23908\n",
      "[t-SNE] Computed conditional probabilities for sample 22000 / 23908\n",
      "[t-SNE] Computed conditional probabilities for sample 23000 / 23908\n",
      "[t-SNE] Computed conditional probabilities for sample 23908 / 23908\n",
      "[t-SNE] Mean sigma: 6.534997\n",
      "[t-SNE] KL divergence after 250 iterations with early exaggeration: 94.452362\n",
      "[t-SNE] KL divergence after 1000 iterations: 2.482183\n"
     ]
    }
   ],
   "source": [
    "tsne = TSNE(n_components=2, verbose=1, perplexity=50, n_iter=1000, learning_rate=200)\n",
    "z = tsne.fit_transform(feature_df)"
   ]
  },
  {
   "cell_type": "code",
   "execution_count": 95,
   "metadata": {
    "collapsed": true,
    "jupyter": {
     "outputs_hidden": true,
     "source_hidden": true
    }
   },
   "outputs": [
    {
     "name": "stdout",
     "output_type": "stream",
     "text": [
      "[t-SNE] Computing 151 nearest neighbors...\n",
      "[t-SNE] Indexed 23908 samples in 0.016s...\n",
      "[t-SNE] Computed neighbors for 23908 samples in 17.455s...\n",
      "[t-SNE] Computed conditional probabilities for sample 1000 / 23908\n",
      "[t-SNE] Computed conditional probabilities for sample 2000 / 23908\n",
      "[t-SNE] Computed conditional probabilities for sample 3000 / 23908\n",
      "[t-SNE] Computed conditional probabilities for sample 4000 / 23908\n",
      "[t-SNE] Computed conditional probabilities for sample 5000 / 23908\n",
      "[t-SNE] Computed conditional probabilities for sample 6000 / 23908\n",
      "[t-SNE] Computed conditional probabilities for sample 7000 / 23908\n",
      "[t-SNE] Computed conditional probabilities for sample 8000 / 23908\n",
      "[t-SNE] Computed conditional probabilities for sample 9000 / 23908\n",
      "[t-SNE] Computed conditional probabilities for sample 10000 / 23908\n",
      "[t-SNE] Computed conditional probabilities for sample 11000 / 23908\n",
      "[t-SNE] Computed conditional probabilities for sample 12000 / 23908\n",
      "[t-SNE] Computed conditional probabilities for sample 13000 / 23908\n",
      "[t-SNE] Computed conditional probabilities for sample 14000 / 23908\n",
      "[t-SNE] Computed conditional probabilities for sample 15000 / 23908\n",
      "[t-SNE] Computed conditional probabilities for sample 16000 / 23908\n",
      "[t-SNE] Computed conditional probabilities for sample 17000 / 23908\n",
      "[t-SNE] Computed conditional probabilities for sample 18000 / 23908\n",
      "[t-SNE] Computed conditional probabilities for sample 19000 / 23908\n",
      "[t-SNE] Computed conditional probabilities for sample 20000 / 23908\n",
      "[t-SNE] Computed conditional probabilities for sample 21000 / 23908\n",
      "[t-SNE] Computed conditional probabilities for sample 22000 / 23908\n",
      "[t-SNE] Computed conditional probabilities for sample 23000 / 23908\n",
      "[t-SNE] Computed conditional probabilities for sample 23908 / 23908\n",
      "[t-SNE] Mean sigma: 9.676478\n",
      "[t-SNE] KL divergence after 250 iterations with early exaggeration: 97.774071\n",
      "[t-SNE] KL divergence after 1000 iterations: 2.245831\n"
     ]
    }
   ],
   "source": [
    "y = tsne.fit_transform(X_scaled)"
   ]
  },
  {
   "cell_type": "code",
   "execution_count": 96,
   "metadata": {
    "collapsed": true,
    "jupyter": {
     "outputs_hidden": true,
     "source_hidden": true
    }
   },
   "outputs": [
    {
     "name": "stdout",
     "output_type": "stream",
     "text": [
      "Using matplotlib backend: MacOSX\n"
     ]
    }
   ],
   "source": [
    "%matplotlib\n",
    "colors = np.array(['mediumslateblue','darkorange'])\n",
    "sns.set(rc={'figure.figsize':(11.7,8.27)})\n",
    "palette = sns.color_palette(\"bright\", 10)\n",
    "fig = plt.figure(figsize = (10,10))\n",
    "plt.scatter(y[:,0],y[:,1],c=colors[symbol_df['symbol']],cmap=plt.cm.Spectral,alpha = 1/5)\n",
    "plt.title('t-SNE for ESM Representations',fontsize=35)\n",
    "plt.ylabel('2nd Component',fontsize=25)\n",
    "plt.xlabel('1nd Component',fontsize=25)\n",
    "plt.xticks(fontsize=20)\n",
    "plt.yticks(fontsize=20)\n",
    "plt.show()"
   ]
  },
  {
   "cell_type": "code",
   "execution_count": 110,
   "metadata": {},
   "outputs": [],
   "source": [
    "def tsnekmeans(file):\n",
    "    X = pd.read_csv(file,index_col = 'id')\n",
    "    X = X[X.symbol != 'na']\n",
    "    feature_df = X.drop(columns=['symbol'])\n",
    "    symbol_df = X.iloc[:,[-1]]\n",
    "    X_scaled = StandardScaler().fit_transform(feature_df)\n",
    "    ll = []\n",
    "    for t in symbol_df['symbol'].tolist():\n",
    "        try:\n",
    "            ll.append(int(t))\n",
    "        except:\n",
    "            ll.append(0)\n",
    "    symbol_df['symbol'] = ll\n",
    "    \n",
    "    km = KMeans(n_clusters=2).fit(X_scaled)\n",
    "    symbol_df['scaled_cluster'] = km.labels_\n",
    "    symbol_df.sort_values('scaled_cluster')\n",
    "\n",
    "    tp,tn,fp,fn = 0,0,0,0\n",
    "    for ind,row in symbol_df.iterrows():\n",
    "        if row['symbol'] == 1 and row['scaled_cluster'] == 1:\n",
    "            tp += 1\n",
    "        if row['symbol'] == 0 and row['scaled_cluster'] == 0:\n",
    "            tn += 1\n",
    "        if row['symbol'] == 1 and row['scaled_cluster'] == 0:\n",
    "            fn += 1\n",
    "        if row['symbol'] == 0 and row['scaled_cluster'] == 1:\n",
    "            fp += 1\n",
    "            \n",
    "    metric_df = pd.DataFrame(columns=['tp','tn','fp','fn'])\n",
    "    metric_df['tp'] = [tp]\n",
    "    metric_df['tn'] = [tn]\n",
    "    metric_df['fp'] = [fp]\n",
    "    metric_df['fn'] = [fn]\n",
    "    \n",
    "    tsne = TSNE(n_components=2, verbose=1, perplexity=50, n_iter=1000, learning_rate=200)\n",
    "    z = tsne.fit_transform(X_scaled)\n",
    "    \n",
    "    return(z,metric_df,symbol_df)"
   ]
  },
  {
   "cell_type": "code",
   "execution_count": 117,
   "metadata": {
    "collapsed": true,
    "jupyter": {
     "outputs_hidden": true
    }
   },
   "outputs": [
    {
     "name": "stderr",
     "output_type": "stream",
     "text": [
      "<ipython-input-110-974189ebfbec>:13: SettingWithCopyWarning: \n",
      "A value is trying to be set on a copy of a slice from a DataFrame.\n",
      "Try using .loc[row_indexer,col_indexer] = value instead\n",
      "\n",
      "See the caveats in the documentation: https://pandas.pydata.org/pandas-docs/stable/user_guide/indexing.html#returning-a-view-versus-a-copy\n",
      "  symbol_df['symbol'] = ll\n",
      "<ipython-input-110-974189ebfbec>:16: SettingWithCopyWarning: \n",
      "A value is trying to be set on a copy of a slice from a DataFrame.\n",
      "Try using .loc[row_indexer,col_indexer] = value instead\n",
      "\n",
      "See the caveats in the documentation: https://pandas.pydata.org/pandas-docs/stable/user_guide/indexing.html#returning-a-view-versus-a-copy\n",
      "  symbol_df['scaled_cluster'] = km.labels_\n"
     ]
    },
    {
     "name": "stdout",
     "output_type": "stream",
     "text": [
      "[t-SNE] Computing 151 nearest neighbors...\n",
      "[t-SNE] Indexed 22695 samples in 0.011s...\n",
      "[t-SNE] Computed neighbors for 22695 samples in 15.328s...\n",
      "[t-SNE] Computed conditional probabilities for sample 1000 / 22695\n",
      "[t-SNE] Computed conditional probabilities for sample 2000 / 22695\n",
      "[t-SNE] Computed conditional probabilities for sample 3000 / 22695\n",
      "[t-SNE] Computed conditional probabilities for sample 4000 / 22695\n",
      "[t-SNE] Computed conditional probabilities for sample 5000 / 22695\n",
      "[t-SNE] Computed conditional probabilities for sample 6000 / 22695\n",
      "[t-SNE] Computed conditional probabilities for sample 7000 / 22695\n",
      "[t-SNE] Computed conditional probabilities for sample 8000 / 22695\n",
      "[t-SNE] Computed conditional probabilities for sample 9000 / 22695\n",
      "[t-SNE] Computed conditional probabilities for sample 10000 / 22695\n",
      "[t-SNE] Computed conditional probabilities for sample 11000 / 22695\n",
      "[t-SNE] Computed conditional probabilities for sample 12000 / 22695\n",
      "[t-SNE] Computed conditional probabilities for sample 13000 / 22695\n",
      "[t-SNE] Computed conditional probabilities for sample 14000 / 22695\n",
      "[t-SNE] Computed conditional probabilities for sample 15000 / 22695\n",
      "[t-SNE] Computed conditional probabilities for sample 16000 / 22695\n",
      "[t-SNE] Computed conditional probabilities for sample 17000 / 22695\n",
      "[t-SNE] Computed conditional probabilities for sample 18000 / 22695\n",
      "[t-SNE] Computed conditional probabilities for sample 19000 / 22695\n",
      "[t-SNE] Computed conditional probabilities for sample 20000 / 22695\n",
      "[t-SNE] Computed conditional probabilities for sample 21000 / 22695\n",
      "[t-SNE] Computed conditional probabilities for sample 22000 / 22695\n",
      "[t-SNE] Computed conditional probabilities for sample 22695 / 22695\n",
      "[t-SNE] Mean sigma: 0.000000\n",
      "[t-SNE] KL divergence after 250 iterations with early exaggeration: 96.115540\n",
      "[t-SNE] KL divergence after 1000 iterations: 2.655155\n",
      "Using matplotlib backend: MacOSX\n"
     ]
    }
   ],
   "source": [
    "files = '/Users/liusifan/Desktop/未命名文件夹/cdhit_xlnet.csv'\n",
    "\n",
    "z,metric_df,symbol_df = tsnekmeans(files)\n",
    "\n",
    "if 'esm' in file:\n",
    "    title = 't-SNE for ESM Representations'\n",
    "if 'bert' in files:\n",
    "    title = 't-SNE for ProtTrans_BERT Representations'\n",
    "if 'xl' in files:\n",
    "    title = 't-SNE for ProtTrans_XL Representations'\n",
    "if 'xlnet' in files:\n",
    "    title = 't-SNE for ProtTrans_XLNET Representations'\n",
    "\n",
    "%matplotlib\n",
    "colors = np.array(['mediumslateblue','darkorange'])\n",
    "sns.set(rc={'figure.figsize':(11.7,8.27)})\n",
    "palette = sns.color_palette(\"bright\", 10)\n",
    "fig = plt.figure(figsize = (10,10))\n",
    "plt.scatter(z[:,0],z[:,1],c=colors[symbol_df['symbol']],cmap=plt.cm.Spectral,alpha = 1/5)\n",
    "plt.title(title,fontsize=35)\n",
    "plt.ylabel('2nd Component',fontsize=25)\n",
    "plt.xlabel('1nd Component',fontsize=25)\n",
    "plt.xticks(fontsize=20)\n",
    "plt.yticks(fontsize=20)\n",
    "plt.show()"
   ]
  },
  {
   "cell_type": "code",
   "execution_count": null,
   "metadata": {
    "jupyter": {
     "source_hidden": true
    }
   },
   "outputs": [],
   "source": [
    "sns.set(font='SimHei',style='ticks')\n",
    "centers = symbol_df.groupby('scaled_cluster').mean().reset_index()\n",
    "colors = np.array(['blue','yellow'])\n",
    "plt.figure(figsize=(10,8))\n",
    "plt.scatter(symbol_df['symbol'],symbol_df['scaled_cluster'],c=colors[symbol_df['scaled_cluster']],edgecolor='w',s=100)\n",
    "plt.scatter(centers['symbol'],centers['scaled_cluste'],linewidths=5,marker='x',s=200, c='black')\n",
    "plt.tick_params(labelsize = 13)\n",
    "plt.title('K-Means')\n",
    "plt.xlabel('calories')\n",
    "plt.ylabel('alcohol')\n",
    "sns.despine()"
   ]
  },
  {
   "cell_type": "code",
   "execution_count": 30,
   "metadata": {
    "collapsed": true,
    "jupyter": {
     "outputs_hidden": true,
     "source_hidden": true
    }
   },
   "outputs": [
    {
     "data": {
      "image/png": "[encoded data removed]",
      "text/plain": [
       "<Figure size 720x360 with 1 Axes>"
      ]
     },
     "metadata": {
      "needs_background": "light"
     },
     "output_type": "display_data"
    }
   ],
   "source": [
    "MSE = []\n",
    "X_scaled = StandardScaler().fit_transform(X)\n",
    "for k in range(2,20):\n",
    "    km = KMeans(n_clusters=k)  # 构造聚类器\n",
    "    km.fit(X_scaled)\n",
    "    MSE.append(km.inertia_)\n",
    "    \n",
    "plt.figure(figsize=(10,5))   \n",
    "plt.plot(range(2,20),MSE,'o-')\n",
    "plt.xticks(range(0,22,1)) \n",
    "plt.grid(linestyle='--')\n",
    "plt.xlabel(\"Number of Clusters Initialized\")\n",
    "plt.ylabel('SSE')\n",
    "plt.title(\"SSE\")\n",
    "sns.despine()"
   ]
  }
 ],
 "metadata": {
  "kernelspec": {
   "display_name": "Python 3",
   "language": "python",
   "name": "python3"
  },
  "language_info": {
   "codemirror_mode": {
    "name": "ipython",
    "version": 3
   },
   "file_extension": ".py",
   "mimetype": "text/x-python",
   "name": "python",
   "nbconvert_exporter": "python",
   "pygments_lexer": "ipython3",
   "version": "3.8.8"
  }
 },
 "nbformat": 4,
 "nbformat_minor": 4
}
