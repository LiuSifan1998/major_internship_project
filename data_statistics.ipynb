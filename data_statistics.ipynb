{
 "cells": [
  {
   "cell_type": "code",
   "execution_count": 1,
   "metadata": {},
   "outputs": [],
   "source": [
    "import numpy as np\n",
    "import pandas as pd\n",
    "from collections import Counter"
   ]
  },
  {
   "cell_type": "markdown",
   "metadata": {},
   "source": [
    "# number of unique proteins: 250365\n",
    "# number of trails whose expression levels are listed in protocolDetail section (protocol_expresslevel): 2824\n",
    "# number of trails whose expression levels are listed in trailOutcom section (trail_expresslevel): 123327\n",
    "# number of trails that have both protocol_expresslevel and trail_expresslevel: 0\n",
    "# number of \"expression & purified\" in trail_his_status: 422615"
   ]
  },
  {
   "cell_type": "code",
   "execution_count": 2,
   "metadata": {},
   "outputs": [],
   "source": [
    "target_data = pd.read_csv(\"target_protein.csv\")"
   ]
  },
  {
   "cell_type": "code",
   "execution_count": 13,
   "metadata": {},
   "outputs": [],
   "source": [
    "target_proteins_list = target_data['protein_name']"
   ]
  },
  {
   "cell_type": "code",
   "execution_count": 17,
   "metadata": {},
   "outputs": [],
   "source": [
    "stat_target_proteins_dict = Counter(target_proteins_list)"
   ]
  },
  {
   "cell_type": "code",
   "execution_count": 18,
   "metadata": {},
   "outputs": [
    {
     "data": {
      "text/plain": [
       "250365"
      ]
     },
     "execution_count": 18,
     "metadata": {},
     "output_type": "execute_result"
    }
   ],
   "source": [
    "len(stat_target_proteins_dict) # number of unique proteins"
   ]
  },
  {
   "cell_type": "code",
   "execution_count": 29,
   "metadata": {},
   "outputs": [],
   "source": [
    "unique_protein_list = str(stat_target_proteins_dict.keys()).split(\"dict_keys(['\")[1]"
   ]
  },
  {
   "cell_type": "code",
   "execution_count": 32,
   "metadata": {},
   "outputs": [],
   "source": [
    "unique_protein_list = unique_protein_list.split(\"\\', \\'\")"
   ]
  },
  {
   "cell_type": "code",
   "execution_count": 35,
   "metadata": {},
   "outputs": [],
   "source": [
    "species_list = []\n",
    "for proteins in unique_protein_list:\n",
    "    species = proteins.split(\": \")[0]\n",
    "    species_list.append(species)\n",
    "stat_species_dict = Counter(species_list)"
   ]
  },
  {
   "cell_type": "code",
   "execution_count": 4,
   "metadata": {},
   "outputs": [
    {
     "name": "stderr",
     "output_type": "stream",
     "text": [
      "/Users/liusifan/opt/anaconda3/envs/pytorch/lib/python3.8/site-packages/IPython/core/interactiveshell.py:3165: DtypeWarning: Columns (1,7,10,12) have mixed types.Specify dtype option on import or set low_memory=False.\n",
      "  has_raised = await self.run_ast_nodes(code_ast.body, cell_name,\n"
     ]
    }
   ],
   "source": [
    "trail_data = pd.read_csv(\"trail_info&host&eb.csv\")"
   ]
  },
  {
   "cell_type": "code",
   "execution_count": 5,
   "metadata": {},
   "outputs": [],
   "source": [
    "status_df = pd.DataFrame(columns = ['id','trail_status','stop_detail','his_status'])"
   ]
  },
  {
   "cell_type": "code",
   "execution_count": 6,
   "metadata": {},
   "outputs": [],
   "source": [
    "status_df['id'] = trail_data['trail_id']\n",
    "status_df['trail_status'] = trail_data['trail_status']\n",
    "status_df['stop_detail'] = trail_data['trail_stopdes']\n",
    "status_df['his_status'] = trail_data['trail_his_status']"
   ]
  },
  {
   "cell_type": "code",
   "execution_count": 8,
   "metadata": {},
   "outputs": [],
   "source": [
    "trail_his_status_list = status_df['his_status']\n",
    "trail_his_status_list_processed = []\n",
    "for ele in trail_his_status_list:\n",
    "    sta_string = ''\n",
    "    ele = ele.split('{')[1].split('}')[0].split(',')\n",
    "    for ind in range(len(ele)):\n",
    "        e = ele[ind].split(\"': '\")[1].split(\"'\")[0]\n",
    "        if ind != 0:\n",
    "            sta_string = sta_string + '-' + e\n",
    "        else:\n",
    "            sta_string = e\n",
    "    trail_his_status_list_processed.append(sta_string)\n",
    "status_df['his_status'] = trail_his_status_list_processed"
   ]
  },
  {
   "cell_type": "code",
   "execution_count": 10,
   "metadata": {},
   "outputs": [],
   "source": [
    "trail_data['trail_his_status'] = trail_his_status_list_processed"
   ]
  },
  {
   "cell_type": "code",
   "execution_count": 11,
   "metadata": {},
   "outputs": [],
   "source": [
    "outpath = 'trail_info.csv'\n",
    "trail_data.to_csv(outpath,sep=',',index=False,header=True)"
   ]
  },
  {
   "cell_type": "code",
   "execution_count": 9,
   "metadata": {},
   "outputs": [],
   "source": [
    "outpath = 'status.csv'\n",
    "status_df.to_csv(outpath,sep=',',index=False,header=True)"
   ]
  },
  {
   "cell_type": "code",
   "execution_count": 40,
   "metadata": {},
   "outputs": [
    {
     "data": {
      "text/plain": [
       "False    555449\n",
       "True     406099\n",
       "Name: protein_name, dtype: int64"
      ]
     },
     "execution_count": 40,
     "metadata": {},
     "output_type": "execute_result"
    }
   ],
   "source": [
    "trail_data['protein_name'].isnull().value_counts() # 406099 trails have no protein names"
   ]
  },
  {
   "cell_type": "code",
   "execution_count": 4,
   "metadata": {},
   "outputs": [],
   "source": [
    "pro_exp_list = trail_data['protocol_expresslevel']"
   ]
  },
  {
   "cell_type": "code",
   "execution_count": 12,
   "metadata": {},
   "outputs": [
    {
     "data": {
      "text/plain": [
       "True     958724\n",
       "False      2824\n",
       "Name: protocol_expresslevel, dtype: int64"
      ]
     },
     "execution_count": 12,
     "metadata": {},
     "output_type": "execute_result"
    }
   ],
   "source": [
    "trail_data['protocol_expresslevel'].isnull().value_counts() # 2824 trails have expression levels in <protocolDetail> section"
   ]
  },
  {
   "cell_type": "code",
   "execution_count": 13,
   "metadata": {},
   "outputs": [
    {
     "data": {
      "text/plain": [
       "H    1809\n",
       "M     759\n",
       "W     247\n",
       "w       6\n",
       "m       2\n",
       "L       1\n",
       "Name: protocol_expresslevel, dtype: int64"
      ]
     },
     "execution_count": 13,
     "metadata": {},
     "output_type": "execute_result"
    }
   ],
   "source": [
    "trail_data['protocol_expresslevel'].value_counts() # number of diiferent labels protocol expression level"
   ]
  },
  {
   "cell_type": "code",
   "execution_count": 5,
   "metadata": {},
   "outputs": [
    {
     "data": {
      "text/plain": [
       "True     838221\n",
       "False    123327\n",
       "Name: trail_expresslevel, dtype: int64"
      ]
     },
     "execution_count": 5,
     "metadata": {},
     "output_type": "execute_result"
    }
   ],
   "source": [
    "trail_data['trail_expresslevel'].isnull().value_counts() #123327 trails have expression levels in <trailOutcome> section"
   ]
  },
  {
   "cell_type": "code",
   "execution_count": 6,
   "metadata": {},
   "outputs": [
    {
     "data": {
      "text/plain": [
       "0.0      44123\n",
       "100.0    24248\n",
       "67.0     14821\n",
       "90.0      9774\n",
       "80.0      5969\n",
       "30.0      5953\n",
       "33.0      4484\n",
       "60.0      3970\n",
       "40.0      2201\n",
       "20.0      1600\n",
       "15.0      1442\n",
       "10.0      1423\n",
       "25.0       894\n",
       "5.0        872\n",
       "70.0       854\n",
       "50.0       623\n",
       "35.0        50\n",
       "2.0         21\n",
       "1.0          3\n",
       "167.0        1\n",
       "3.0          1\n",
       "Name: trail_expresslevel, dtype: int64"
      ]
     },
     "execution_count": 6,
     "metadata": {},
     "output_type": "execute_result"
    }
   ],
   "source": [
    "trail_data['trail_expresslevel'].value_counts() "
   ]
  },
  {
   "cell_type": "code",
   "execution_count": 5,
   "metadata": {},
   "outputs": [
    {
     "data": {
      "image/png": "[encoded data removed]",
      "text/plain": [
       "<Figure size 576x360 with 1 Axes>"
      ]
     },
     "metadata": {
      "needs_background": "light"
     },
     "output_type": "display_data"
    }
   ],
   "source": [
    "import matplotlib.pyplot as plt\n",
    "trail_explev_distribution = trail_data['trail_expresslevel']\n",
    "x1 = trail_explev_distribution.to_numpy()\n",
    "plt.figure(figsize=(8,5))\n",
    "plt.hist(x1, bins=100)\n",
    "plt.title('Bar plot of trail expression level')\n",
    "plt.ylabel('Count')\n",
    "plt.xlabel('Expression level %')\n",
    "plt.xlim(0, 100)\n",
    "plt.show()"
   ]
  },
  {
   "cell_type": "code",
   "execution_count": 62,
   "metadata": {},
   "outputs": [],
   "source": [
    "sub_df = trail_data[trail_data['protocol_expresslevel'].notnull()]"
   ]
  },
  {
   "cell_type": "code",
   "execution_count": 64,
   "metadata": {},
   "outputs": [],
   "source": [
    "sub_sub_df = sub_df[sub_df['trail_expresslevel'].notnull()]"
   ]
  },
  {
   "cell_type": "code",
   "execution_count": 65,
   "metadata": {},
   "outputs": [
    {
     "data": {
      "text/html": [
       "<div>\n",
       "<style scoped>\n",
       "    .dataframe tbody tr th:only-of-type {\n",
       "        vertical-align: middle;\n",
       "    }\n",
       "\n",
       "    .dataframe tbody tr th {\n",
       "        vertical-align: top;\n",
       "    }\n",
       "\n",
       "    .dataframe thead th {\n",
       "        text-align: right;\n",
       "    }\n",
       "</style>\n",
       "<table border=\"1\" class=\"dataframe\">\n",
       "  <thead>\n",
       "    <tr style=\"text-align: right;\">\n",
       "      <th></th>\n",
       "      <th>trail_id</th>\n",
       "      <th>protein_name</th>\n",
       "      <th>lab</th>\n",
       "      <th>target_status</th>\n",
       "      <th>source_organism</th>\n",
       "      <th>database_info</th>\n",
       "      <th>trail_status</th>\n",
       "      <th>trail_stopdes</th>\n",
       "      <th>trail_his_status</th>\n",
       "      <th>trail_protocol_info</th>\n",
       "      <th>protocol_expresslevel</th>\n",
       "      <th>trail_expresslevel</th>\n",
       "    </tr>\n",
       "  </thead>\n",
       "  <tbody>\n",
       "  </tbody>\n",
       "</table>\n",
       "</div>"
      ],
      "text/plain": [
       "Empty DataFrame\n",
       "Columns: [trail_id, protein_name, lab, target_status, source_organism, database_info, trail_status, trail_stopdes, trail_his_status, trail_protocol_info, protocol_expresslevel, trail_expresslevel]\n",
       "Index: []"
      ]
     },
     "execution_count": 65,
     "metadata": {},
     "output_type": "execute_result"
    }
   ],
   "source": [
    "sub_sub_df # no trail has both protocol expression level and trail expression level, merge protocol_expresslevel and "
   ]
  },
  {
   "cell_type": "markdown",
   "metadata": {},
   "source": [
    "# no trail has both protocol expression level and trail expression level, merge protocol_expresslevel and trail_expresslevel into one column, how to determin threshold for trail_expresslevel to convert percent into letter"
   ]
  },
  {
   "cell_type": "code",
   "execution_count": 7,
   "metadata": {},
   "outputs": [
    {
     "data": {
      "text/plain": [
       "work stopped                        181220\n",
       "diffraction-quality crystals        177530\n",
       "purified                            177212\n",
       "cloned                               99351\n",
       "expressed                            91050\n",
       "selected                             80312\n",
       "soluble                              68163\n",
       "expression tested                    24668\n",
       "crystallized                         23970\n",
       "in PDB                               15718\n",
       "diffraction                           7808\n",
       "mass spec verified                    4899\n",
       "crystal structure                     4498\n",
       "native diffraction-data               2890\n",
       "HSQC satisfactory                     1446\n",
       "NMR structure                          290\n",
       "phasing diffraction-data               193\n",
       "membrane protein solubilized           144\n",
       "NMR assigned                            90\n",
       "biological assay                        73\n",
       "EM images                               10\n",
       "biophysical analysis                     9\n",
       "EM fitted model                          2\n",
       "test target                              1\n",
       "NMR backbone resonances assigned         1\n",
       "Name: trail_status, dtype: int64"
      ]
     },
     "execution_count": 7,
     "metadata": {},
     "output_type": "execute_result"
    }
   ],
   "source": [
    "trail_data['trail_status'].value_counts() "
   ]
  },
  {
   "cell_type": "code",
   "execution_count": 4,
   "metadata": {},
   "outputs": [],
   "source": [
    "trail_his_status_list = trail_data['trail_his_status']"
   ]
  },
  {
   "cell_type": "code",
   "execution_count": 49,
   "metadata": {},
   "outputs": [],
   "source": [
    "trail_his_status_list_processed = []\n",
    "for ele in trail_his_status_list:\n",
    "    sta_string = ''\n",
    "    ele = ele.split('{')[1].split('}')[0].split(',')\n",
    "    for ind in range(len(ele)):\n",
    "        e = ele[ind].split(\"': '\")[1].split(\"'\")[0]\n",
    "        if ind != 0:\n",
    "            sta_string = sta_string + '-' + e\n",
    "        else:\n",
    "            sta_string = e\n",
    "    trail_his_status_list_processed.append(sta_string)\n"
   ]
  },
  {
   "cell_type": "code",
   "execution_count": 53,
   "metadata": {},
   "outputs": [],
   "source": [
    "trail_his_status_dict = Counter(trail_his_status_list_processed)"
   ]
  },
  {
   "cell_type": "code",
   "execution_count": 54,
   "metadata": {},
   "outputs": [
    {
     "data": {
      "text/plain": [
       "600"
      ]
     },
     "execution_count": 54,
     "metadata": {},
     "output_type": "execute_result"
    }
   ],
   "source": [
    "len(trail_his_status_dict)"
   ]
  },
  {
   "cell_type": "code",
   "execution_count": 4,
   "metadata": {},
   "outputs": [],
   "source": [
    "trail_his_status_list = trail_data['trail_his_status']\n",
    "expression_bool = []\n",
    "for ele in trail_his_status_list:\n",
    "    if 'expressed' in ele or 'expression tested' in ele:\n",
    "        expression_bool.append(1)\n",
    "    else:\n",
    "        expression_bool.append(0)"
   ]
  },
  {
   "cell_type": "code",
   "execution_count": 5,
   "metadata": {},
   "outputs": [
    {
     "data": {
      "text/plain": [
       "[0, 0, 0, 0, 0, 0, 0, 0, 0, 0, 0, 0, 1, 0, 0, 0, 0, 1, 0, 0]"
      ]
     },
     "execution_count": 5,
     "metadata": {},
     "output_type": "execute_result"
    }
   ],
   "source": [
    "expression_bool[:20]"
   ]
  },
  {
   "cell_type": "code",
   "execution_count": 7,
   "metadata": {},
   "outputs": [],
   "source": [
    "trail_data['expression_bool'] = expression_bool"
   ]
  },
  {
   "cell_type": "code",
   "execution_count": 8,
   "metadata": {},
   "outputs": [],
   "source": [
    "outputpath='trail_info&host&eb.csv'\n",
    "trail_data.to_csv(outputpath,sep=',',index=False,header=True)"
   ]
  },
  {
   "cell_type": "code",
   "execution_count": 61,
   "metadata": {},
   "outputs": [],
   "source": [
    "from pandas import Series, DataFrame\n",
    "trail_his_status_d = dict(sorted(trail_his_status_dict.items(), key=lambda x: x[1], reverse=True))\n",
    "trail_his_status_df = pd.DataFrame(pd.Series(trail_his_status_d),columns = ['count'])\n",
    "trail_his_status_df = trail_his_status_df.reset_index().rename({'index':'type'})\n",
    "outputpath='trail_his_status_df.csv'\n",
    "trail_his_status_df.to_csv(outputpath,sep=',',index=False,header=True)"
   ]
  },
  {
   "cell_type": "code",
   "execution_count": 22,
   "metadata": {},
   "outputs": [],
   "source": [
    "sub_sub_df = list(trail_data[trail_data['trail_expresslevel'].notnull()]['trail_his_status'])"
   ]
  },
  {
   "cell_type": "code",
   "execution_count": 26,
   "metadata": {},
   "outputs": [],
   "source": [
    "num = 0\n",
    "for i in range(len(sub_sub_df)):\n",
    "    if 'expressed' in sub_sub_df[i] and 'purified' in sub_sub_df[i]:\n",
    "        num += 1\n",
    "        continue\n",
    "    if 'expression tested ' in sub_sub_df[i] and 'purified' in sub_sub_df[i]:\n",
    "        num += 1"
   ]
  },
  {
   "cell_type": "code",
   "execution_count": 27,
   "metadata": {},
   "outputs": [
    {
     "data": {
      "text/plain": [
       "32418"
      ]
     },
     "execution_count": 27,
     "metadata": {},
     "output_type": "execute_result"
    }
   ],
   "source": [
    "num"
   ]
  },
  {
   "cell_type": "code",
   "execution_count": 25,
   "metadata": {},
   "outputs": [
    {
     "data": {
      "text/plain": [
       "123327"
      ]
     },
     "execution_count": 25,
     "metadata": {},
     "output_type": "execute_result"
    }
   ],
   "source": [
    "len(sub_sub_df)"
   ]
  },
  {
   "cell_type": "code",
   "execution_count": null,
   "metadata": {},
   "outputs": [],
   "source": [
    "# number of \"expression & purified\" in trail_his_status: 422615"
   ]
  },
  {
   "cell_type": "code",
   "execution_count": 30,
   "metadata": {},
   "outputs": [],
   "source": [
    "protocol_data = pd.read_csv(\"protocol_info.csv\")"
   ]
  },
  {
   "cell_type": "code",
   "execution_count": 33,
   "metadata": {},
   "outputs": [],
   "source": [
    "protocol_in_trial = list(trail_data['trail_protocol_info'])"
   ]
  },
  {
   "cell_type": "code",
   "execution_count": 49,
   "metadata": {},
   "outputs": [],
   "source": [
    "protocol_dict = dict(zip(protocol_data['protocol_id'],protocol_data['host']))"
   ]
  },
  {
   "cell_type": "code",
   "execution_count": 52,
   "metadata": {},
   "outputs": [],
   "source": [
    "trail_host_list = []\n",
    "for ind in range(len(protocol_in_trial)):\n",
    "    pro_id = re.findall(r\"'expression': '(\\w)'\",protocol_in_trial[ind])\n",
    "    if pro_id != []:\n",
    "        trail_host_list.append(protocol_dict[pro_id[0]])\n",
    "    else:\n",
    "        trail_host_list.append('NA')"
   ]
  },
  {
   "cell_type": "code",
   "execution_count": 35,
   "metadata": {},
   "outputs": [],
   "source": [
    "sd = \"{'other': None,'expression': 'expression_2', 'selection':'selec_1'}\""
   ]
  },
  {
   "cell_type": "code",
   "execution_count": 48,
   "metadata": {},
   "outputs": [
    {
     "data": {
      "text/plain": [
       "['expression_2']"
      ]
     },
     "execution_count": 48,
     "metadata": {},
     "output_type": "execute_result"
    }
   ],
   "source": [
    "import re\n",
    "re.findall(r\"'expression': '(\\w+)'\", sd, re.M)"
   ]
  },
  {
   "cell_type": "code",
   "execution_count": 53,
   "metadata": {},
   "outputs": [
    {
     "data": {
      "text/plain": [
       "961548"
      ]
     },
     "execution_count": 53,
     "metadata": {},
     "output_type": "execute_result"
    }
   ],
   "source": [
    "len(trail_host_list)"
   ]
  },
  {
   "cell_type": "code",
   "execution_count": 57,
   "metadata": {},
   "outputs": [
    {
     "data": {
      "text/plain": [
       "Counter({'NA': 961196, nan: 49, 'e. coli': 303})"
      ]
     },
     "execution_count": 57,
     "metadata": {},
     "output_type": "execute_result"
    }
   ],
   "source": [
    "Counter(trail_host_list)"
   ]
  },
  {
   "cell_type": "code",
   "execution_count": 58,
   "metadata": {},
   "outputs": [],
   "source": [
    "trail_data['host_info'] = trail_host_list"
   ]
  },
  {
   "cell_type": "code",
   "execution_count": 64,
   "metadata": {},
   "outputs": [
    {
     "name": "stdout",
     "output_type": "stream",
     "text": [
      "933248\n",
      "933272\n",
      "933366\n",
      "933514\n",
      "933515\n",
      "933516\n",
      "933517\n",
      "933707\n",
      "935040\n",
      "935585\n",
      "935593\n",
      "935600\n",
      "935627\n",
      "935631\n",
      "935633\n",
      "935636\n",
      "935639\n",
      "935651\n",
      "935666\n",
      "935671\n",
      "935672\n",
      "935674\n",
      "935675\n",
      "935684\n",
      "935697\n",
      "935698\n",
      "935703\n",
      "935705\n",
      "935733\n",
      "935746\n",
      "935748\n",
      "935765\n",
      "935766\n",
      "935769\n",
      "935770\n",
      "935773\n",
      "935774\n",
      "935834\n",
      "936115\n",
      "936710\n",
      "936714\n",
      "937266\n",
      "937273\n",
      "937339\n",
      "937350\n",
      "937383\n",
      "938930\n",
      "939159\n",
      "939175\n",
      "939347\n",
      "939410\n",
      "939630\n",
      "939679\n",
      "939789\n",
      "939948\n",
      "939992\n",
      "940099\n",
      "940138\n",
      "940145\n",
      "940148\n",
      "940151\n",
      "940152\n",
      "940164\n",
      "940180\n",
      "940181\n",
      "940196\n",
      "940205\n",
      "940221\n",
      "940227\n",
      "940228\n",
      "940232\n",
      "940233\n",
      "940242\n",
      "940246\n",
      "940250\n",
      "940251\n",
      "940252\n",
      "940253\n",
      "940254\n",
      "940255\n",
      "940260\n",
      "940261\n",
      "940262\n",
      "940270\n",
      "940272\n",
      "940280\n",
      "940284\n",
      "940285\n",
      "940313\n",
      "940322\n",
      "940326\n",
      "940327\n",
      "940334\n",
      "940342\n",
      "940344\n",
      "940346\n",
      "940350\n",
      "940355\n",
      "940363\n",
      "940376\n",
      "940380\n",
      "940385\n",
      "941962\n",
      "941968\n",
      "942177\n",
      "942317\n",
      "942647\n",
      "943743\n",
      "943749\n",
      "943965\n",
      "944000\n",
      "944030\n",
      "944034\n",
      "944038\n",
      "944108\n",
      "944241\n",
      "944787\n",
      "946270\n",
      "946277\n",
      "946278\n",
      "946281\n",
      "946282\n",
      "946283\n",
      "946284\n",
      "946287\n",
      "946288\n",
      "946290\n",
      "946296\n",
      "946301\n",
      "946302\n",
      "946303\n",
      "946304\n",
      "946306\n",
      "946307\n",
      "946308\n",
      "946309\n",
      "946310\n",
      "946311\n",
      "946312\n",
      "946314\n",
      "946316\n",
      "946326\n",
      "946330\n",
      "946331\n",
      "946334\n",
      "946337\n",
      "946341\n",
      "946348\n",
      "946354\n",
      "947628\n",
      "947640\n",
      "947644\n",
      "947648\n",
      "947649\n",
      "947650\n",
      "947651\n",
      "947652\n",
      "947653\n",
      "947655\n",
      "947656\n",
      "947658\n",
      "947659\n",
      "947660\n",
      "947661\n",
      "947662\n",
      "947663\n",
      "947665\n",
      "947668\n",
      "947670\n",
      "947671\n",
      "947673\n",
      "947674\n",
      "947675\n",
      "947677\n",
      "947678\n",
      "947679\n",
      "947680\n",
      "947681\n",
      "947683\n",
      "947684\n",
      "947685\n",
      "947688\n",
      "947689\n",
      "947690\n",
      "947691\n",
      "947692\n",
      "947693\n",
      "947694\n",
      "947695\n",
      "947696\n",
      "947697\n",
      "947698\n",
      "947699\n",
      "947700\n",
      "947701\n",
      "947702\n",
      "947703\n",
      "947705\n",
      "947706\n",
      "947707\n",
      "947708\n",
      "947711\n",
      "947712\n",
      "947717\n",
      "947718\n",
      "947719\n",
      "947720\n",
      "947721\n",
      "947723\n",
      "947725\n",
      "947728\n",
      "947735\n",
      "947737\n",
      "947738\n",
      "947740\n",
      "947741\n",
      "948079\n",
      "948081\n",
      "948082\n",
      "948084\n",
      "948086\n",
      "948091\n",
      "948093\n",
      "948094\n",
      "948095\n",
      "948099\n",
      "948100\n",
      "948101\n",
      "948105\n",
      "948107\n",
      "948109\n",
      "948114\n",
      "948115\n",
      "948116\n",
      "948117\n",
      "948118\n",
      "948122\n",
      "948133\n",
      "948135\n",
      "948138\n",
      "948139\n",
      "948142\n",
      "948144\n",
      "948153\n",
      "948154\n",
      "948157\n",
      "948158\n",
      "948159\n",
      "948161\n",
      "948163\n",
      "948165\n",
      "948167\n",
      "948168\n",
      "948169\n",
      "948170\n",
      "948175\n",
      "948176\n",
      "948177\n",
      "948181\n",
      "948182\n",
      "948185\n",
      "948186\n",
      "948190\n",
      "948200\n",
      "948201\n",
      "948204\n",
      "948206\n",
      "948278\n",
      "948495\n",
      "948518\n",
      "948524\n",
      "948529\n",
      "951313\n",
      "951511\n",
      "951837\n",
      "951838\n",
      "951842\n",
      "951864\n",
      "951906\n",
      "951907\n",
      "951908\n",
      "951940\n",
      "951990\n",
      "952274\n",
      "952570\n",
      "952650\n",
      "952651\n",
      "952652\n",
      "952653\n",
      "952723\n",
      "952724\n",
      "952780\n",
      "952781\n",
      "952782\n",
      "952783\n",
      "952784\n",
      "952831\n",
      "952832\n",
      "952847\n",
      "952848\n",
      "952850\n",
      "952851\n",
      "952852\n"
     ]
    }
   ],
   "source": [
    "j= 0 \n",
    "for i in trail_data['host_info']:\n",
    "    j += 1\n",
    "    if i == 'e. coli':\n",
    "        print(j)"
   ]
  },
  {
   "cell_type": "code",
   "execution_count": 59,
   "metadata": {},
   "outputs": [],
   "source": [
    "outputpath='trail_info&host.csv'\n",
    "trail_data.to_csv(outputpath,sep=',',index=False,header=True)"
   ]
  },
  {
   "cell_type": "code",
   "execution_count": 65,
   "metadata": {},
   "outputs": [],
   "source": [
    "sequence_df = pd.read_csv(\"trail_sequence.csv\")\n",
    "trailid_list = list(sequence_df['index'])\n",
    "sequence_dict = dict(zip(sequence_df['index'],sequence_df['sequence']))\n",
    "\n",
    "with open('sequences_for_esm.fasta','w') as fa:\n",
    "    for ids in trailid_list:\n",
    "        fa.write('>'+ids)\n",
    "        fa.write('\\r\\n')\n",
    "        fa.write(sequence_dict[ids])\n",
    "        fa.write('\\r\\n')\n"
   ]
  },
  {
   "cell_type": "code",
   "execution_count": 1,
   "metadata": {},
   "outputs": [],
   "source": [
    "import numpy as np\n",
    "import pandas as pd"
   ]
  },
  {
   "cell_type": "code",
   "execution_count": 2,
   "metadata": {},
   "outputs": [
    {
     "name": "stderr",
     "output_type": "stream",
     "text": [
      "/Users/liusifan/opt/anaconda3/envs/pytorch/lib/python3.8/site-packages/IPython/core/interactiveshell.py:3165: DtypeWarning: Columns (2) have mixed types.Specify dtype option on import or set low_memory=False.\n",
      "  has_raised = await self.run_ast_nodes(code_ast.body, cell_name,\n"
     ]
    }
   ],
   "source": [
    "status_df = pd.read_csv(\"status_symbol.csv\")"
   ]
  },
  {
   "cell_type": "code",
   "execution_count": 3,
   "metadata": {},
   "outputs": [],
   "source": [
    "his_sta = ['purified','crystallized','diffraction','in PDB']"
   ]
  },
  {
   "cell_type": "code",
   "execution_count": 4,
   "metadata": {},
   "outputs": [],
   "source": [
    "status_df['symbol'] = status_df.apply(lambda _: '', axis=1)\n",
    "status_df['reason'] = status_df.apply(lambda _: '', axis=1)"
   ]
  },
  {
   "cell_type": "code",
   "execution_count": 10,
   "metadata": {},
   "outputs": [
    {
     "data": {
      "text/html": [
       "<div>\n",
       "<style scoped>\n",
       "    .dataframe tbody tr th:only-of-type {\n",
       "        vertical-align: middle;\n",
       "    }\n",
       "\n",
       "    .dataframe tbody tr th {\n",
       "        vertical-align: top;\n",
       "    }\n",
       "\n",
       "    .dataframe thead th {\n",
       "        text-align: right;\n",
       "    }\n",
       "</style>\n",
       "<table border=\"1\" class=\"dataframe\">\n",
       "  <thead>\n",
       "    <tr style=\"text-align: right;\">\n",
       "      <th></th>\n",
       "      <th>id</th>\n",
       "      <th>trail_status</th>\n",
       "      <th>stop_detail</th>\n",
       "      <th>his_status</th>\n",
       "      <th>symbol</th>\n",
       "      <th>reason</th>\n",
       "    </tr>\n",
       "  </thead>\n",
       "  <tbody>\n",
       "    <tr>\n",
       "      <th>0</th>\n",
       "      <td>ATCG3D-ATCG3D_1-1</td>\n",
       "      <td>work stopped</td>\n",
       "      <td>NaN</td>\n",
       "      <td>selected-cloned-work stopped</td>\n",
       "      <td>-1</td>\n",
       "      <td>work stoped at expression step</td>\n",
       "    </tr>\n",
       "    <tr>\n",
       "      <th>1</th>\n",
       "      <td>ATCG3D-ATCG3D_10-1</td>\n",
       "      <td>work stopped</td>\n",
       "      <td>NaN</td>\n",
       "      <td>selected-cloned-work stopped</td>\n",
       "      <td>-1</td>\n",
       "      <td>work stoped at expression step</td>\n",
       "    </tr>\n",
       "  </tbody>\n",
       "</table>\n",
       "</div>"
      ],
      "text/plain": [
       "                   id  trail_status stop_detail                    his_status  \\\n",
       "0   ATCG3D-ATCG3D_1-1  work stopped         NaN  selected-cloned-work stopped   \n",
       "1  ATCG3D-ATCG3D_10-1  work stopped         NaN  selected-cloned-work stopped   \n",
       "\n",
       "  symbol                          reason  \n",
       "0     -1  work stoped at expression step  \n",
       "1     -1  work stoped at expression step  "
      ]
     },
     "execution_count": 10,
     "metadata": {},
     "output_type": "execute_result"
    }
   ],
   "source": [
    "status_df[:2]"
   ]
  },
  {
   "cell_type": "code",
   "execution_count": 7,
   "metadata": {},
   "outputs": [],
   "source": [
    "stop_list = ['selected','selected-work stopped','other-selected-work stopped','other-selected',\n",
    "             'cloned','work stopped','']"
   ]
  },
  {
   "cell_type": "code",
   "execution_count": 21,
   "metadata": {
    "jupyter": {
     "source_hidden": true
    }
   },
   "outputs": [],
   "source": [
    "for ind, row in status_df.iterrows():\n",
    "    if row['stop_detail'] == 'sequencing failed' or row['stop_detail'] == 'cloning failed':\n",
    "        row['symbol'] = -1\n",
    "        row['reason'] = 'stoped before expression, stop detail'\n",
    "        continue\n",
    "    \n",
    "    if row['stop_detail'] == 'expression failed':\n",
    "        row['symbol'] = 0\n",
    "        row['reason'] = 'expression failed, stop detail'\n",
    "        continue\n",
    "\n",
    "    if 'cloned-work stopped' in row['his_status']:\n",
    "        row['symbol'] = 0\n",
    "        row['reason'] = 'work stoped at expression step'\n",
    "        continue\n",
    "        \n",
    "    if 'expressed' in row['his_status'] or 'expression tested' in row['his_status']:\n",
    "        if row['stop_detail'] != 'expression failed':\n",
    "            row['symbol'] = 1\n",
    "            row['reason'] = 'expressed in his status'\n",
    "            continue\n",
    "\n",
    "    if 'expressed' not in row['his_status'] and 'expression tested' not in row['his_status']:\n",
    "        if row['his_status'] in stop_list:\n",
    "            row['symbol'] = -1\n",
    "            row['reason'] = 'no expression or further step in his_status'\n",
    "            continue\n",
    "\n",
    "        else:\n",
    "            if 'purified' in row['his_status'] or 'crystallized' in row['his_status'] or 'diffraction' in row['his_status'] or 'in PDB' in row['his_status']:\n",
    "                if row['stop_detail'] != 'expression failed':\n",
    "                    row['symbol'] = 1\n",
    "                    row['reason'] = 'no expression but purified ect'\n",
    "                               "
   ]
  },
  {
   "cell_type": "code",
   "execution_count": 9,
   "metadata": {},
   "outputs": [],
   "source": [
    "for ind, row in status_df.iterrows():\n",
    "    if row['stop_detail'] == 'sequencing failed' or row['stop_detail'] == 'cloning failed':\n",
    "        row['symbol'] = -1\n",
    "        row['reason'] = 'stoped before expression, stop detail'\n",
    "        continue\n",
    "    \n",
    "    if row['stop_detail'] == 'expression failed':\n",
    "        row['symbol'] = 0\n",
    "        row['reason'] = 'expression failed, stop detail'\n",
    "        continue\n",
    "\n",
    "    if 'cloned-work stopped' in row['his_status']:\n",
    "        row['symbol'] = -1\n",
    "        row['reason'] = 'work stoped at expression step'\n",
    "        continue\n",
    "        \n",
    "    if 'expressed' in row['his_status'] or 'expression tested' in row['his_status']:\n",
    "        if row['stop_detail'] != 'expression failed':\n",
    "            if not row['his_status'].endswith('expressed') or not row['his_status'].endswith('expression tested') or not row['his_status'].endswith('expression tested-work stopped') or not row['his_status'].endswith('expressed-work stopped'):\n",
    "                row['symbol'] = 1\n",
    "                row['reason'] = 'expressed in his status'\n",
    "                continue\n",
    "\n",
    "    if 'expressed' not in row['his_status'] and 'expression tested' not in row['his_status']:\n",
    "        if row['his_status'] in stop_list:\n",
    "            row['symbol'] = -1\n",
    "            row['reason'] = 'no expression or further step in his_status'\n",
    "            continue\n",
    "\n",
    "        else:\n",
    "            if 'purified' in row['his_status'] or 'crystallized' in row['his_status'] or 'diffraction' in row['his_status'] or 'in PDB' in row['his_status'] or 'soluble' in row['his_status'] or 'mass spec verified' in row['his_status'] or 'HSQC satisfactory' in row['his_status'] or 'biological assay' in row['his_status']:\n",
    "                if row['stop_detail'] != 'expression failed':\n",
    "                    row['symbol'] = 1\n",
    "                    row['reason'] = 'no expression but purified ect'"
   ]
  },
  {
   "cell_type": "code",
   "execution_count": 11,
   "metadata": {},
   "outputs": [
    {
     "data": {
      "text/plain": [
       "Counter({-1: 171884, 1: 649623, '': 99224, 0: 40817})"
      ]
     },
     "execution_count": 11,
     "metadata": {},
     "output_type": "execute_result"
    }
   ],
   "source": [
    "from collections import Counter\n",
    "Counter(status_df['symbol'])"
   ]
  },
  {
   "cell_type": "code",
   "execution_count": 26,
   "metadata": {},
   "outputs": [],
   "source": [
    "output_path = 'status_symbol.csv'\n",
    "status_df.to_csv(output_path,sep=',',index=False,header=True)"
   ]
  },
  {
   "cell_type": "code",
   "execution_count": 12,
   "metadata": {},
   "outputs": [
    {
     "name": "stderr",
     "output_type": "stream",
     "text": [
      "/Users/liusifan/opt/anaconda3/envs/pytorch/lib/python3.8/site-packages/IPython/core/interactiveshell.py:3165: DtypeWarning: Columns (1,7,10,12) have mixed types.Specify dtype option on import or set low_memory=False.\n",
      "  has_raised = await self.run_ast_nodes(code_ast.body, cell_name,\n"
     ]
    }
   ],
   "source": [
    "trail_df = pd.read_csv(\"trail_info.csv\")"
   ]
  },
  {
   "cell_type": "code",
   "execution_count": 13,
   "metadata": {},
   "outputs": [],
   "source": [
    "ecoli_lab_list = ['NESG','JCSG','TB','MCSG','BSGI','BSGC']"
   ]
  },
  {
   "cell_type": "code",
   "execution_count": 23,
   "metadata": {},
   "outputs": [],
   "source": [
    "sub0_df = trail_df[trail_df.host_info == 'e. coli']"
   ]
  },
  {
   "cell_type": "code",
   "execution_count": 17,
   "metadata": {},
   "outputs": [],
   "source": [
    "sub1_df = trail_df[trail_df.lab == 'NESG']"
   ]
  },
  {
   "cell_type": "code",
   "execution_count": 18,
   "metadata": {},
   "outputs": [],
   "source": [
    "sub2_df = trail_df[trail_df.lab == 'JCSG']"
   ]
  },
  {
   "cell_type": "code",
   "execution_count": 19,
   "metadata": {},
   "outputs": [],
   "source": [
    "sub3_df = trail_df[trail_df.lab == 'TB']"
   ]
  },
  {
   "cell_type": "code",
   "execution_count": 20,
   "metadata": {},
   "outputs": [],
   "source": [
    "sub4_df = trail_df[trail_df.lab == 'MCSG']"
   ]
  },
  {
   "cell_type": "code",
   "execution_count": 21,
   "metadata": {},
   "outputs": [],
   "source": [
    "sub5_df = trail_df[trail_df.lab == 'BSGI']"
   ]
  },
  {
   "cell_type": "code",
   "execution_count": 22,
   "metadata": {},
   "outputs": [],
   "source": [
    "sub6_df = trail_df[trail_df.lab == 'BSGC']"
   ]
  },
  {
   "cell_type": "code",
   "execution_count": 27,
   "metadata": {},
   "outputs": [],
   "source": [
    "ecoli_trial_df = sub0_df\n",
    "ecoli_trial_df = ecoli_trial_df.append(sub1_df)\n",
    "ecoli_trial_df = ecoli_trial_df.append(sub2_df)\n",
    "ecoli_trial_df = ecoli_trial_df.append(sub3_df)\n",
    "ecoli_trial_df = ecoli_trial_df.append(sub4_df)\n",
    "ecoli_trial_df = ecoli_trial_df.append(sub5_df)\n",
    "ecoli_trial_df = ecoli_trial_df.append(sub6_df)"
   ]
  },
  {
   "cell_type": "code",
   "execution_count": 108,
   "metadata": {},
   "outputs": [
    {
     "data": {
      "text/plain": [
       "5226"
      ]
     },
     "execution_count": 108,
     "metadata": {},
     "output_type": "execute_result"
    }
   ],
   "source": [
    "len(sub3_df)"
   ]
  },
  {
   "cell_type": "code",
   "execution_count": 29,
   "metadata": {},
   "outputs": [],
   "source": [
    "ecoli_trial_df['host_info'] = ecoli_trial_df.apply(lambda _: 'e. coli', axis=1)"
   ]
  },
  {
   "cell_type": "code",
   "execution_count": 30,
   "metadata": {},
   "outputs": [
    {
     "data": {
      "text/html": [
       "<div>\n",
       "<style scoped>\n",
       "    .dataframe tbody tr th:only-of-type {\n",
       "        vertical-align: middle;\n",
       "    }\n",
       "\n",
       "    .dataframe tbody tr th {\n",
       "        vertical-align: top;\n",
       "    }\n",
       "\n",
       "    .dataframe thead th {\n",
       "        text-align: right;\n",
       "    }\n",
       "</style>\n",
       "<table border=\"1\" class=\"dataframe\">\n",
       "  <thead>\n",
       "    <tr style=\"text-align: right;\">\n",
       "      <th></th>\n",
       "      <th>id</th>\n",
       "      <th>trail_status</th>\n",
       "      <th>stop_detail</th>\n",
       "      <th>his_status</th>\n",
       "      <th>symbol</th>\n",
       "      <th>reason</th>\n",
       "    </tr>\n",
       "  </thead>\n",
       "  <tbody>\n",
       "    <tr>\n",
       "      <th>0</th>\n",
       "      <td>ATCG3D-ATCG3D_1-1</td>\n",
       "      <td>work stopped</td>\n",
       "      <td>NaN</td>\n",
       "      <td>selected-cloned-work stopped</td>\n",
       "      <td>-1</td>\n",
       "      <td>work stoped at expression step</td>\n",
       "    </tr>\n",
       "    <tr>\n",
       "      <th>1</th>\n",
       "      <td>ATCG3D-ATCG3D_10-1</td>\n",
       "      <td>work stopped</td>\n",
       "      <td>NaN</td>\n",
       "      <td>selected-cloned-work stopped</td>\n",
       "      <td>-1</td>\n",
       "      <td>work stoped at expression step</td>\n",
       "    </tr>\n",
       "  </tbody>\n",
       "</table>\n",
       "</div>"
      ],
      "text/plain": [
       "                   id  trail_status stop_detail                    his_status  \\\n",
       "0   ATCG3D-ATCG3D_1-1  work stopped         NaN  selected-cloned-work stopped   \n",
       "1  ATCG3D-ATCG3D_10-1  work stopped         NaN  selected-cloned-work stopped   \n",
       "\n",
       "  symbol                          reason  \n",
       "0     -1  work stoped at expression step  \n",
       "1     -1  work stoped at expression step  "
      ]
     },
     "execution_count": 30,
     "metadata": {},
     "output_type": "execute_result"
    }
   ],
   "source": [
    "status_df[:2]"
   ]
  },
  {
   "cell_type": "code",
   "execution_count": 32,
   "metadata": {},
   "outputs": [],
   "source": [
    "status_df = status_df.drop(columns=['trail_status','stop_detail','his_status'])"
   ]
  },
  {
   "cell_type": "code",
   "execution_count": 33,
   "metadata": {},
   "outputs": [
    {
     "data": {
      "text/html": [
       "<div>\n",
       "<style scoped>\n",
       "    .dataframe tbody tr th:only-of-type {\n",
       "        vertical-align: middle;\n",
       "    }\n",
       "\n",
       "    .dataframe tbody tr th {\n",
       "        vertical-align: top;\n",
       "    }\n",
       "\n",
       "    .dataframe thead th {\n",
       "        text-align: right;\n",
       "    }\n",
       "</style>\n",
       "<table border=\"1\" class=\"dataframe\">\n",
       "  <thead>\n",
       "    <tr style=\"text-align: right;\">\n",
       "      <th></th>\n",
       "      <th>trail_id</th>\n",
       "      <th>protein_name</th>\n",
       "      <th>lab</th>\n",
       "      <th>target_status</th>\n",
       "      <th>source_organism</th>\n",
       "      <th>database_info</th>\n",
       "      <th>trail_status</th>\n",
       "      <th>trail_stopdes</th>\n",
       "      <th>trail_his_status</th>\n",
       "      <th>trail_protocol_info</th>\n",
       "      <th>protocol_expresslevel</th>\n",
       "      <th>trail_expresslevel</th>\n",
       "      <th>host_info</th>\n",
       "      <th>expression_bool</th>\n",
       "    </tr>\n",
       "  </thead>\n",
       "  <tbody>\n",
       "    <tr>\n",
       "      <th>933247</th>\n",
       "      <td>SSGCID-BaheA.00553.a-1</td>\n",
       "      <td>recombination protein RecR</td>\n",
       "      <td>University of Washington Protein Production Group</td>\n",
       "      <td>expressed</td>\n",
       "      <td>Bartonella henselae</td>\n",
       "      <td>{'OrthoMCL': 'OG5_132580', 'PATRIC ID': 'fig|2...</td>\n",
       "      <td>expressed</td>\n",
       "      <td>NaN</td>\n",
       "      <td>selected-cloned-expressed</td>\n",
       "      <td>{'expression': '8', 'PCR': '15', 'selection': ...</td>\n",
       "      <td>NaN</td>\n",
       "      <td>NaN</td>\n",
       "      <td>e. coli</td>\n",
       "      <td>1</td>\n",
       "    </tr>\n",
       "    <tr>\n",
       "      <th>933271</th>\n",
       "      <td>SSGCID-BaheA.00720.b-1</td>\n",
       "      <td>TrwD protein</td>\n",
       "      <td>Beryllium</td>\n",
       "      <td>diffraction</td>\n",
       "      <td>Bartonella henselae</td>\n",
       "      <td>{'OrthoMCL': 'OG5_130713', 'PATRIC ID': 'fig|2...</td>\n",
       "      <td>diffraction</td>\n",
       "      <td>NaN</td>\n",
       "      <td>selected-cloned-expression tested-expressed-so...</td>\n",
       "      <td>{'crystallization': '100', 'PCR': '16', 'cloni...</td>\n",
       "      <td>NaN</td>\n",
       "      <td>NaN</td>\n",
       "      <td>e. coli</td>\n",
       "      <td>1</td>\n",
       "    </tr>\n",
       "  </tbody>\n",
       "</table>\n",
       "</div>"
      ],
      "text/plain": [
       "                      trail_id                protein_name  \\\n",
       "933247  SSGCID-BaheA.00553.a-1  recombination protein RecR   \n",
       "933271  SSGCID-BaheA.00720.b-1                TrwD protein   \n",
       "\n",
       "                                                      lab target_status  \\\n",
       "933247  University of Washington Protein Production Group     expressed   \n",
       "933271                                          Beryllium   diffraction   \n",
       "\n",
       "            source_organism  \\\n",
       "933247  Bartonella henselae   \n",
       "933271  Bartonella henselae   \n",
       "\n",
       "                                            database_info trail_status  \\\n",
       "933247  {'OrthoMCL': 'OG5_132580', 'PATRIC ID': 'fig|2...    expressed   \n",
       "933271  {'OrthoMCL': 'OG5_130713', 'PATRIC ID': 'fig|2...  diffraction   \n",
       "\n",
       "       trail_stopdes                                   trail_his_status  \\\n",
       "933247           NaN                          selected-cloned-expressed   \n",
       "933271           NaN  selected-cloned-expression tested-expressed-so...   \n",
       "\n",
       "                                      trail_protocol_info  \\\n",
       "933247  {'expression': '8', 'PCR': '15', 'selection': ...   \n",
       "933271  {'crystallization': '100', 'PCR': '16', 'cloni...   \n",
       "\n",
       "       protocol_expresslevel  trail_expresslevel host_info  expression_bool  \n",
       "933247                   NaN                 NaN   e. coli                1  \n",
       "933271                   NaN                 NaN   e. coli                1  "
      ]
     },
     "execution_count": 33,
     "metadata": {},
     "output_type": "execute_result"
    }
   ],
   "source": [
    "ecoli_trial_df[:2]"
   ]
  },
  {
   "cell_type": "code",
   "execution_count": 35,
   "metadata": {},
   "outputs": [],
   "source": [
    "ecoli_trial_df = ecoli_trial_df.drop(columns=['expression_bool'])"
   ]
  },
  {
   "cell_type": "code",
   "execution_count": 36,
   "metadata": {},
   "outputs": [],
   "source": [
    "ecoli_trial_df = ecoli_trial_df.rename(columns={'trail_id':'id'})\n",
    "ecoli_bool_df = pd.merge(ecoli_trial_df,status_df,on='id')"
   ]
  },
  {
   "cell_type": "code",
   "execution_count": 37,
   "metadata": {},
   "outputs": [
    {
     "data": {
      "text/plain": [
       "255989"
      ]
     },
     "execution_count": 37,
     "metadata": {},
     "output_type": "execute_result"
    }
   ],
   "source": [
    "len(ecoli_bool_df)"
   ]
  },
  {
   "cell_type": "code",
   "execution_count": 38,
   "metadata": {},
   "outputs": [
    {
     "data": {
      "text/html": [
       "<div>\n",
       "<style scoped>\n",
       "    .dataframe tbody tr th:only-of-type {\n",
       "        vertical-align: middle;\n",
       "    }\n",
       "\n",
       "    .dataframe tbody tr th {\n",
       "        vertical-align: top;\n",
       "    }\n",
       "\n",
       "    .dataframe thead th {\n",
       "        text-align: right;\n",
       "    }\n",
       "</style>\n",
       "<table border=\"1\" class=\"dataframe\">\n",
       "  <thead>\n",
       "    <tr style=\"text-align: right;\">\n",
       "      <th></th>\n",
       "      <th>id</th>\n",
       "      <th>protein_name</th>\n",
       "      <th>lab</th>\n",
       "      <th>target_status</th>\n",
       "      <th>source_organism</th>\n",
       "      <th>database_info</th>\n",
       "      <th>trail_status</th>\n",
       "      <th>trail_stopdes</th>\n",
       "      <th>trail_his_status</th>\n",
       "      <th>trail_protocol_info</th>\n",
       "      <th>protocol_expresslevel</th>\n",
       "      <th>trail_expresslevel</th>\n",
       "      <th>host_info</th>\n",
       "      <th>symbol</th>\n",
       "      <th>reason</th>\n",
       "    </tr>\n",
       "  </thead>\n",
       "  <tbody>\n",
       "    <tr>\n",
       "      <th>0</th>\n",
       "      <td>SSGCID-BaheA.00553.a-1</td>\n",
       "      <td>recombination protein RecR</td>\n",
       "      <td>University of Washington Protein Production Group</td>\n",
       "      <td>expressed</td>\n",
       "      <td>Bartonella henselae</td>\n",
       "      <td>{'OrthoMCL': 'OG5_132580', 'PATRIC ID': 'fig|2...</td>\n",
       "      <td>expressed</td>\n",
       "      <td>NaN</td>\n",
       "      <td>selected-cloned-expressed</td>\n",
       "      <td>{'expression': '8', 'PCR': '15', 'selection': ...</td>\n",
       "      <td>NaN</td>\n",
       "      <td>NaN</td>\n",
       "      <td>e. coli</td>\n",
       "      <td>1</td>\n",
       "      <td>expressed in his status</td>\n",
       "    </tr>\n",
       "    <tr>\n",
       "      <th>1</th>\n",
       "      <td>SSGCID-BaheA.00720.b-1</td>\n",
       "      <td>TrwD protein</td>\n",
       "      <td>Beryllium</td>\n",
       "      <td>diffraction</td>\n",
       "      <td>Bartonella henselae</td>\n",
       "      <td>{'OrthoMCL': 'OG5_130713', 'PATRIC ID': 'fig|2...</td>\n",
       "      <td>diffraction</td>\n",
       "      <td>NaN</td>\n",
       "      <td>selected-cloned-expression tested-expressed-so...</td>\n",
       "      <td>{'crystallization': '100', 'PCR': '16', 'cloni...</td>\n",
       "      <td>NaN</td>\n",
       "      <td>NaN</td>\n",
       "      <td>e. coli</td>\n",
       "      <td>1</td>\n",
       "      <td>expressed in his status</td>\n",
       "    </tr>\n",
       "  </tbody>\n",
       "</table>\n",
       "</div>"
      ],
      "text/plain": [
       "                       id                protein_name  \\\n",
       "0  SSGCID-BaheA.00553.a-1  recombination protein RecR   \n",
       "1  SSGCID-BaheA.00720.b-1                TrwD protein   \n",
       "\n",
       "                                                 lab target_status  \\\n",
       "0  University of Washington Protein Production Group     expressed   \n",
       "1                                          Beryllium   diffraction   \n",
       "\n",
       "       source_organism                                      database_info  \\\n",
       "0  Bartonella henselae  {'OrthoMCL': 'OG5_132580', 'PATRIC ID': 'fig|2...   \n",
       "1  Bartonella henselae  {'OrthoMCL': 'OG5_130713', 'PATRIC ID': 'fig|2...   \n",
       "\n",
       "  trail_status trail_stopdes  \\\n",
       "0    expressed           NaN   \n",
       "1  diffraction           NaN   \n",
       "\n",
       "                                    trail_his_status  \\\n",
       "0                          selected-cloned-expressed   \n",
       "1  selected-cloned-expression tested-expressed-so...   \n",
       "\n",
       "                                 trail_protocol_info protocol_expresslevel  \\\n",
       "0  {'expression': '8', 'PCR': '15', 'selection': ...                   NaN   \n",
       "1  {'crystallization': '100', 'PCR': '16', 'cloni...                   NaN   \n",
       "\n",
       "   trail_expresslevel host_info symbol                   reason  \n",
       "0                 NaN   e. coli      1  expressed in his status  \n",
       "1                 NaN   e. coli      1  expressed in his status  "
      ]
     },
     "execution_count": 38,
     "metadata": {},
     "output_type": "execute_result"
    }
   ],
   "source": [
    "ecoli_bool_df[:2]"
   ]
  },
  {
   "cell_type": "code",
   "execution_count": 39,
   "metadata": {},
   "outputs": [],
   "source": [
    "output_path = 'ecoli_trials.csv'\n",
    "ecoli_bool_df.to_csv(output_path,sep=',',index=False,header=True)"
   ]
  },
  {
   "cell_type": "code",
   "execution_count": 40,
   "metadata": {},
   "outputs": [
    {
     "data": {
      "text/plain": [
       "Counter({1: 141921, '': 43483, -1: 70585})"
      ]
     },
     "execution_count": 40,
     "metadata": {},
     "output_type": "execute_result"
    }
   ],
   "source": [
    "Counter(ecoli_bool_df['symbol'])"
   ]
  },
  {
   "cell_type": "code",
   "execution_count": 41,
   "metadata": {},
   "outputs": [],
   "source": [
    "JCSG_df = pd.read_csv('JSCG_esm_reps.csv')"
   ]
  },
  {
   "cell_type": "code",
   "execution_count": 59,
   "metadata": {},
   "outputs": [],
   "source": [
    "tem_df = pd.DataFrame(columns=['id','lab'])\n",
    "tem_df['id'] = ecoli_bool_df.iloc[:,0]"
   ]
  },
  {
   "cell_type": "code",
   "execution_count": 61,
   "metadata": {},
   "outputs": [],
   "source": [
    "tem_df['lab'] = [e.split('-')[0] for e in tem_df['id']]"
   ]
  },
  {
   "cell_type": "code",
   "execution_count": 64,
   "metadata": {},
   "outputs": [],
   "source": [
    "tem_df = tem_df[tem_df.lab=='JCSG']"
   ]
  },
  {
   "cell_type": "code",
   "execution_count": 71,
   "metadata": {},
   "outputs": [],
   "source": [
    "tem_df = tem_df.drop(columns=['lab'])"
   ]
  },
  {
   "cell_type": "code",
   "execution_count": 72,
   "metadata": {},
   "outputs": [],
   "source": [
    "JCSG_selected_df = pd.merge(tem_df,JSCG_df,on='id')"
   ]
  },
  {
   "cell_type": "code",
   "execution_count": 73,
   "metadata": {},
   "outputs": [],
   "source": [
    "JCSG_selected_df.to_csv('JCSG_esm_reps.csv',sep=',',header=True,index=False)"
   ]
  },
  {
   "cell_type": "code",
   "execution_count": 74,
   "metadata": {},
   "outputs": [],
   "source": [
    "df = pd.read_csv('MCSG_esm_reps.csv')\n",
    "tem_df = pd.DataFrame(columns=['id','lab'])\n",
    "tem_df['id'] = ecoli_bool_df.iloc[:,0]\n",
    "tem_df['lab'] = [e.split('-')[0] for e in tem_df['id']]\n",
    "tem_df = tem_df[tem_df.lab=='MCSG']\n",
    "tem_df = tem_df.drop(columns=['lab'])\n",
    "MCSG_selected_df = pd.merge(tem_df,df,on='id')"
   ]
  },
  {
   "cell_type": "code",
   "execution_count": 76,
   "metadata": {},
   "outputs": [],
   "source": [
    "output_path = 'MCSG_selected.csv'\n",
    "MCSG_selected_df.to_csv(output_path,sep=',',index=False,header=True)"
   ]
  },
  {
   "cell_type": "code",
   "execution_count": 77,
   "metadata": {},
   "outputs": [],
   "source": [
    "df = pd.read_csv('NESG_esm_reps.csv')\n",
    "tem_df = pd.DataFrame(columns=['id','lab'])\n",
    "tem_df['id'] = ecoli_bool_df.iloc[:,0]\n",
    "tem_df['lab'] = [e.split('-')[0] for e in tem_df['id']]\n",
    "tem_df = tem_df[tem_df.lab=='NESG']\n",
    "tem_df = tem_df.drop(columns=['lab'])\n",
    "NESG_selected_df = pd.merge(tem_df,df,on='id')"
   ]
  },
  {
   "cell_type": "code",
   "execution_count": 79,
   "metadata": {},
   "outputs": [],
   "source": [
    "df = pd.read_csv('TB_esm_reps.csv')\n",
    "tem_df = pd.DataFrame(columns=['id','lab'])\n",
    "tem_df['id'] = ecoli_bool_df.iloc[:,0]\n",
    "tem_df['lab'] = [e.split('-')[0] for e in tem_df['id']]\n",
    "tem_df = tem_df[tem_df.lab=='TB']\n",
    "tem_df = tem_df.drop(columns=['lab'])\n",
    "TB_selected_df = pd.merge(tem_df,df,on='id')"
   ]
  },
  {
   "cell_type": "code",
   "execution_count": 81,
   "metadata": {},
   "outputs": [],
   "source": [
    "SSGCID_selected_df = pd.read_csv('SSGCID_esm_reps.csv')"
   ]
  },
  {
   "cell_type": "code",
   "execution_count": 101,
   "metadata": {},
   "outputs": [],
   "source": [
    "BSGI_selected_df = pd.read_csv('BSGI_esm_reps.csv')"
   ]
  },
  {
   "cell_type": "code",
   "execution_count": 102,
   "metadata": {},
   "outputs": [],
   "source": [
    "BSGC_selected_df = pd.read_csv('BSGC_esm_reps.csv')"
   ]
  },
  {
   "cell_type": "code",
   "execution_count": 107,
   "metadata": {},
   "outputs": [
    {
     "data": {
      "text/plain": [
       "5226"
      ]
     },
     "execution_count": 107,
     "metadata": {},
     "output_type": "execute_result"
    }
   ],
   "source": [
    "len(TB_selected_df)"
   ]
  },
  {
   "cell_type": "code",
   "execution_count": 105,
   "metadata": {},
   "outputs": [],
   "source": [
    "sub_total_df = pd.concat([SSGCID_selected_df,NESG_selected_df,JCSG_selected_df,TB_selected_df,MCSG_selected_df,BSGI_selected_df,BSGC_selected_df])"
   ]
  },
  {
   "cell_type": "code",
   "execution_count": 106,
   "metadata": {},
   "outputs": [
    {
     "data": {
      "text/plain": [
       "255966"
      ]
     },
     "execution_count": 106,
     "metadata": {},
     "output_type": "execute_result"
    }
   ],
   "source": [
    "len(sub_total_df)"
   ]
  },
  {
   "cell_type": "code",
   "execution_count": 109,
   "metadata": {},
   "outputs": [],
   "source": [
    "output = 'esm_reps.csv'\n",
    "sub_total_df.to_csv(output,sep=',',header=True,index=False)"
   ]
  },
  {
   "cell_type": "code",
   "execution_count": 2,
   "metadata": {},
   "outputs": [],
   "source": [
    "reps_df = pd.read_csv('esm_reps.csv')"
   ]
  },
  {
   "cell_type": "code",
   "execution_count": 3,
   "metadata": {},
   "outputs": [
    {
     "name": "stderr",
     "output_type": "stream",
     "text": [
      "/Users/liusifan/opt/anaconda3/envs/pytorch/lib/python3.8/site-packages/IPython/core/interactiveshell.py:3165: DtypeWarning: Columns (1,7) have mixed types.Specify dtype option on import or set low_memory=False.\n",
      "  has_raised = await self.run_ast_nodes(code_ast.body, cell_name,\n"
     ]
    }
   ],
   "source": [
    "ecoli_bool_df = pd.read_csv('ecoli_trials.csv')\n",
    "ecoli_bool_df = ecoli_bool_df.iloc[:,[0,13,14]]"
   ]
  },
  {
   "cell_type": "code",
   "execution_count": 4,
   "metadata": {},
   "outputs": [],
   "source": [
    "tem_ss_df = ecoli_bool_df.iloc[0:303,:]\n",
    "reps_ss_df = reps_df[reps_df.lab=='SSGCID']\n",
    "com_ss_df = pd.merge(reps_ss_df,tem_ss_df, on='id')\n",
    "\n",
    "tem_nesg_df = ecoli_bool_df.iloc[302:133552,:]\n",
    "reps_nesg_df = reps_df[reps_df.lab=='NESG']\n",
    "com_nesg_df = pd.merge(reps_nesg_df,tem_nesg_df, on='id')\n",
    "\n",
    "tem_jcsg_df = ecoli_bool_df.iloc[133550:177109,:]\n",
    "reps_jcsg_df = reps_df[reps_df.lab=='JCSG']\n",
    "com_jcsg_df = pd.merge(reps_jcsg_df,tem_jcsg_df, on='id')\n",
    "\n",
    "tem_tb_df = ecoli_bool_df.iloc[177109:182335,:]\n",
    "reps_tb_df = reps_df[reps_df.lab=='TB']\n",
    "com_tb_df = pd.merge(reps_tb_df,tem_tb_df, on='id')\n",
    "\n",
    "tem_mcsg_df = ecoli_bool_df.iloc[182335:253020,:]\n",
    "reps_mcsg_df = reps_df[reps_df.lab=='MCSG']\n",
    "com_mcsg_df = pd.merge(reps_mcsg_df,tem_mcsg_df, on='id')"
   ]
  },
  {
   "cell_type": "code",
   "execution_count": 48,
   "metadata": {},
   "outputs": [],
   "source": [
    "reps_bsgi_df = reps_df[reps_df.lab=='BSGI']\n",
    "reps_bsgi_df1 = reps_bsgi_df.sort_values(by=['id'])\n",
    "com_bsgi_df = reps_bsgi_df1\n",
    "com_bsgi_df['symbol'] = ecoli_bool_df.iloc[253020:254953,1]\n",
    "com_bsgi_df['reason'] = ecoli_bool_df.iloc[253020:254953,2]"
   ]
  },
  {
   "cell_type": "code",
   "execution_count": 53,
   "metadata": {},
   "outputs": [],
   "source": [
    "com_bsgi_df = com_bsgi_df.reset_index().drop(columns=['index'])"
   ]
  },
  {
   "cell_type": "code",
   "execution_count": 19,
   "metadata": {},
   "outputs": [],
   "source": [
    "tem_bsgc_df = ecoli_bool_df.iloc[254953:255989,:]\n",
    "reps_bsgc_df = reps_df[reps_df.lab=='BSGC']\n",
    "com_bsgc_df = pd.merge(reps_bsgc_df,tem_bsgc_df, on='id')"
   ]
  },
  {
   "cell_type": "code",
   "execution_count": 33,
   "metadata": {},
   "outputs": [],
   "source": [
    "esm_reps_bool_df = com_ss_df.append(com_nesg_df)"
   ]
  },
  {
   "cell_type": "code",
   "execution_count": 55,
   "metadata": {},
   "outputs": [],
   "source": [
    "esm_reps_bool_df = esm_reps_bool_df.append(com_jcsg_df)\n",
    "esm_reps_bool_df = esm_reps_bool_df.append(com_tb_df)\n",
    "esm_reps_bool_df = esm_reps_bool_df.append(com_mcsg_df)\n",
    "esm_reps_bool_df = esm_reps_bool_df.append(com_bsgi_df)\n",
    "esm_reps_bool_df = esm_reps_bool_df.append(com_bsgc_df)"
   ]
  },
  {
   "cell_type": "code",
   "execution_count": 56,
   "metadata": {},
   "outputs": [],
   "source": [
    "esm_reps_bool_df.to_csv('esm_reps_bool.csv',sep=',',header=True,index=False)"
   ]
  },
  {
   "cell_type": "code",
   "execution_count": 43,
   "metadata": {},
   "outputs": [],
   "source": [
    "com_bsgi_df = com_bsgi_df.drop(columns=['index'])"
   ]
  },
  {
   "cell_type": "code",
   "execution_count": 55,
   "metadata": {},
   "outputs": [],
   "source": [
    "names = locals()\n",
    "for i in range(26):\n",
    "    pre_ind = i * 10000\n",
    "    if i == 25:\n",
    "        pos_ind = i * 10000 + 5974\n",
    "    else:\n",
    "        pos_ind = i * 10000 + 10000\n",
    "    \n",
    "    names['sub_seq_df' + str(i)] = sub_seq_df[pre_ind:pos_ind]\n",
    "    \n",
    "    trailid_list = list(names['sub_seq_df' + str(i)]['index'])\n",
    "    \n",
    "    sequence_dict = dict(zip(names['sub_seq_df' + str(i)]['index'],names['sub_seq_df' + str(i)]['sequence']))\n",
    "    \n",
    "    with open('subset' + str(i) + '.fasta','w') as fa:\n",
    "        for ids in trailid_list:\n",
    "            fa.write('>'+ids)\n",
    "            fa.write('\\r\\n')\n",
    "            fa.write(sequence_dict[ids])\n",
    "            fa.write('\\r\\n')\n",
    "    "
   ]
  },
  {
   "cell_type": "code",
   "execution_count": 56,
   "metadata": {},
   "outputs": [],
   "source": [
    "names = locals()\n",
    "for i in range(52):\n",
    "    pre_ind = i * 5000\n",
    "    if i == 51:\n",
    "        pos_ind = i * 5000 + 974\n",
    "    else:\n",
    "        pos_ind = i * 5000 + 5000\n",
    "    \n",
    "    names['sub_seq_df' + str(i)] = sub_seq_df[pre_ind:pos_ind]\n",
    "    \n",
    "    trailid_list = list(names['sub_seq_df' + str(i)]['index'])\n",
    "    \n",
    "    sequence_dict = dict(zip(names['sub_seq_df' + str(i)]['index'],names['sub_seq_df' + str(i)]['sequence']))\n",
    "    \n",
    "    with open('subset' + str(i) + '.fasta','w') as fa:\n",
    "        for ids in trailid_list:\n",
    "            fa.write('>'+ids)\n",
    "            fa.write('\\r\\n')\n",
    "            fa.write(sequence_dict[ids])\n",
    "            fa.write('\\r\\n')\n",
    "    "
   ]
  },
  {
   "cell_type": "code",
   "execution_count": 57,
   "metadata": {},
   "outputs": [],
   "source": [
    "names = locals()\n",
    "for i in range(256):\n",
    "    pre_ind = i * 1000\n",
    "    if i == 255:\n",
    "        pos_ind = i * 1000 + 974\n",
    "    else:\n",
    "        pos_ind = i * 1000 + 1000\n",
    "    \n",
    "    names['sub_seq_df' + str(i)] = sub_seq_df[pre_ind:pos_ind]\n",
    "    \n",
    "    trailid_list = list(names['sub_seq_df' + str(i)]['index'])\n",
    "    \n",
    "    sequence_dict = dict(zip(names['sub_seq_df' + str(i)]['index'],names['sub_seq_df' + str(i)]['sequence']))\n",
    "    \n",
    "    with open('/Users/liusifan/Desktop/Machine_learning/worksheets-master/xml_practice/sub_seq_1000/subset' + str(i) + '.fasta','w') as fa:\n",
    "        for ids in trailid_list:\n",
    "            fa.write('>'+ids)\n",
    "            fa.write('\\r\\n')\n",
    "            fa.write(sequence_dict[ids])\n",
    "            fa.write('\\r\\n')"
   ]
  },
  {
   "cell_type": "code",
   "execution_count": 2,
   "metadata": {},
   "outputs": [],
   "source": [
    "import pandas as pd\n",
    "from matplotlib import pyplot as plt"
   ]
  },
  {
   "cell_type": "code",
   "execution_count": 3,
   "metadata": {},
   "outputs": [],
   "source": [
    "reps_df = pd.read_csv('esm_reps_bool.csv')"
   ]
  },
  {
   "cell_type": "code",
   "execution_count": 6,
   "metadata": {},
   "outputs": [
    {
     "data": {
      "image/png": "[encoded data removed]",
      "text/plain": [
       "<Figure size 1296x1080 with 1 Axes>"
      ]
     },
     "metadata": {
      "needs_background": "light"
     },
     "output_type": "display_data"
    }
   ],
   "source": [
    "esm_distribution = reps_df['esm_1001']\n",
    "x1 = esm_distribution.to_numpy()\n",
    "plt.figure(figsize=(18,15))\n",
    "plt.hist(x1, bins=1000)\n",
    "plt.title('Distribution for esm_1001')\n",
    "plt.ylabel('Count')\n",
    "plt.xlabel('Values')\n",
    "plt.xlim(-4, 4)\n",
    "plt.show()\n",
    "#fig=plt.gcf()\n",
    "#fig.savefig('mood value of dataset for CML.jpg')"
   ]
  },
  {
   "cell_type": "code",
   "execution_count": 1,
   "metadata": {},
   "outputs": [
    {
     "name": "stderr",
     "output_type": "stream",
     "text": [
      "/Users/liusifan/opt/anaconda3/envs/pytorch/lib/python3.8/site-packages/IPython/core/interactiveshell.py:3165: DtypeWarning: Columns (1,7,10,12) have mixed types.Specify dtype option on import or set low_memory=False.\n",
      "  has_raised = await self.run_ast_nodes(code_ast.body, cell_name,\n"
     ]
    }
   ],
   "source": [
    "import pandas as pd\n",
    "df = pd.read_csv('trail_info.csv')"
   ]
  },
  {
   "cell_type": "code",
   "execution_count": 3,
   "metadata": {},
   "outputs": [
    {
     "data": {
      "text/plain": [
       "40817"
      ]
     },
     "execution_count": 3,
     "metadata": {},
     "output_type": "execute_result"
    }
   ],
   "source": [
    "sub_df = df[df.trail_stopdes == 'expression failed']\n",
    "len(sub_df)"
   ]
  },
  {
   "cell_type": "code",
   "execution_count": 4,
   "metadata": {},
   "outputs": [],
   "source": [
    "lab_list = sub_df['lab']"
   ]
  },
  {
   "cell_type": "code",
   "execution_count": 7,
   "metadata": {},
   "outputs": [
    {
     "data": {
      "text/plain": [
       "Counter({'CESG': 3900,\n",
       "         'CHTSB': 8,\n",
       "         'UCL': 395,\n",
       "         'JCVI': 9912,\n",
       "         'UVA': 9,\n",
       "         'UT': 6,\n",
       "         'NU': 140,\n",
       "         'AECOM': 26210,\n",
       "         'ANL': 32,\n",
       "         'MPP': 28,\n",
       "         'Dumont': 5,\n",
       "         'Wiener': 1,\n",
       "         'Malkowski': 1,\n",
       "         'BNL': 42,\n",
       "         'CELLMAT': 82,\n",
       "         'SECSG': 45,\n",
       "         'TMPC': 1})"
      ]
     },
     "execution_count": 7,
     "metadata": {},
     "output_type": "execute_result"
    }
   ],
   "source": [
    "from collections import Counter\n",
    "Counter(lab_list)"
   ]
  },
  {
   "cell_type": "code",
   "execution_count": 8,
   "metadata": {},
   "outputs": [
    {
     "data": {
      "text/plain": [
       "3463    {'expression': 'Combined_Small_Scale_Expressio...\n",
       "3464                   {'selection': 'Inactive Protocol'}\n",
       "3474    {'cloning': 'Inactive Protocol', 'selection': ...\n",
       "3476                   {'selection': 'Inactive Protocol'}\n",
       "3477    {'cloning': 'Inactive Protocol', 'selection': ...\n",
       "3479    {'cloning': 'Inactive Protocol', 'selection': ...\n",
       "3484    {'cloning': 'Inactive Protocol', 'selection': ...\n",
       "3493    {'expression': 'Combined_Small_Scale_Expressio...\n",
       "3499                   {'selection': 'Inactive Protocol'}\n",
       "3538    {'expression': 'Combined_Small_Scale_Expressio...\n",
       "Name: trail_protocol_info, dtype: object"
      ]
     },
     "execution_count": 8,
     "metadata": {},
     "output_type": "execute_result"
    }
   ],
   "source": [
    "protocol_list = sub_df['trail_protocol_info']\n",
    "protocol_list[:10]"
   ]
  },
  {
   "cell_type": "code",
   "execution_count": 13,
   "metadata": {},
   "outputs": [],
   "source": [
    "protocol_list = protocol_list.reindex()"
   ]
  },
  {
   "cell_type": "code",
   "execution_count": 16,
   "metadata": {},
   "outputs": [
    {
     "data": {
      "text/plain": [
       "304"
      ]
     },
     "execution_count": 16,
     "metadata": {},
     "output_type": "execute_result"
    }
   ],
   "source": [
    "c = Counter(protocol_list)"
   ]
  },
  {
   "cell_type": "code",
   "execution_count": 36,
   "metadata": {},
   "outputs": [],
   "source": [
    "import re\n",
    "l = []\n",
    "for ele in protocol_list:\n",
    "    if \"expression\" in ele:\n",
    "        #pro_exp = re.findall(r\"'expression': (\\w+)\",ele, re.M)\n",
    "        l.append(ele)"
   ]
  },
  {
   "cell_type": "code",
   "execution_count": 75,
   "metadata": {},
   "outputs": [],
   "source": [
    "l = [None for x in range(40817)]\n",
    "i = 0\n",
    "for ele in protocol_list:\n",
    "    sta_string = ''\n",
    "    ele = ele.split('{')[1].split('}')[0].split(',')\n",
    "    for e in ele:\n",
    "        if \"'expression':\" in e:\n",
    "            p = e.split(\":\")[1].split(\"'\")[1]\n",
    "            l[i] = p\n",
    "            break\n",
    "    i += 1"
   ]
  },
  {
   "cell_type": "code",
   "execution_count": 76,
   "metadata": {},
   "outputs": [
    {
     "data": {
      "text/plain": [
       "Counter({'Combined_Small_Scale_Expression_Testing_Growth_Purification_V2.0.0': 545,\n",
       "         None: 1297,\n",
       "         'Small_Scale_Expression_Testing_V2.0.0': 1134,\n",
       "         'SMALL-SCALE CELL-FREE SCREENING PROTOCOL v.4.1.1': 5,\n",
       "         'SMALL-SCALE EXPRESSION TESTING v5.0.0': 3,\n",
       "         'SMALL-SCALE SCREENING (N)-HIS TAG PROTOCOL V.3.0.0': 417,\n",
       "         'SMALL-SCALE EXPRESSION TESTING V.3.0.0': 518,\n",
       "         'Cell_Free_GST_Tag_V2.0.0': 2,\n",
       "         'Cell_Free_His_Tag_V2.0.0': 36,\n",
       "         'SMALL-SCALE SCREENING (N)-GST TAG PROTOCOL V.3.0.0': 93,\n",
       "         'exp1': 8,\n",
       "         'standard expression_ANL': 822,\n",
       "         'CSG-004_Transformation': 9657,\n",
       "         'UTSW_standard expression': 1,\n",
       "         'NU_native_expression': 3,\n",
       "         'JCVI_OverExpression_HT_protocol': 1,\n",
       "         'WU_native_soluble_expression_1': 2,\n",
       "         'NU_SelMet_expression': 6,\n",
       "         'SS Expression and Purification': 22990,\n",
       "         'Large-Scale Native LEX48 Expression': 233,\n",
       "         'LEX48 PASM-5052 Large Scale Expression': 407,\n",
       "         'Large-Scale HY-Media LEX48 Fermentation': 12,\n",
       "         'Large-Scale Expression - Gerlt Lab': 1,\n",
       "         'Large-Scale Automated Protein Purification': 1,\n",
       "         'LP.2251': 26,\n",
       "         'LP.6301': 1,\n",
       "         'LP.1684': 2,\n",
       "         'exp2': 7,\n",
       "         'BEVS Small Scale Expression Low MOI with Kifunensine and Deglycosylation Screen': 637,\n",
       "         'SS-refold-b1': 143,\n",
       "         'Mammalian Small-Scale expression/purification': 206,\n",
       "         'pDAD Small-scale Transfection/purification': 124,\n",
       "         'BEVS Small Scale Expression/Purification': 121,\n",
       "         'BEVS Small Scale Expression Low MOI - Secreted': 190,\n",
       "         'BEVS Small Scale Expression Low MOI with Kifunensine and TEV Screen - Secreted': 281,\n",
       "         'Large scale insect expression- secreted': 106,\n",
       "         'Large scale insect expression- secreted plus kifunensine': 53,\n",
       "         'SS Expression - SF9': 249,\n",
       "         'Large Scale Insect- Secreted Batch Ni/Size': 4,\n",
       "         'Lenti': 74,\n",
       "         'Lentivirus Production & Large-Scale Expression': 2,\n",
       "         'Small Scale Expression - Hi5': 148,\n",
       "         'Large scale insect expression- cytosolic': 63,\n",
       "         'Large Scale Insect Expression High MOI - Cytosolic': 40,\n",
       "         'BEVS Large Scale Expression/Purification - Cytosolic': 2,\n",
       "         'BEVS Small Scale Expression Low MOI - Cytosolic': 2,\n",
       "         'Small Scale Expression of Secreted Targets in S2 Cells': 24,\n",
       "         'NPC-COEX 019330': 1,\n",
       "         'AECOM_default_expression': 71,\n",
       "         'uva_expression_semet_1': 1,\n",
       "         'Crystallomics_Expression_01': 45})"
      ]
     },
     "execution_count": 76,
     "metadata": {},
     "output_type": "execute_result"
    }
   ],
   "source": [
    "Counter(l)"
   ]
  },
  {
   "cell_type": "code",
   "execution_count": 78,
   "metadata": {},
   "outputs": [
    {
     "name": "stderr",
     "output_type": "stream",
     "text": [
      "<ipython-input-78-bb76aa055a6d>:1: SettingWithCopyWarning: \n",
      "A value is trying to be set on a copy of a slice from a DataFrame.\n",
      "Try using .loc[row_indexer,col_indexer] = value instead\n",
      "\n",
      "See the caveats in the documentation: https://pandas.pydata.org/pandas-docs/stable/user_guide/indexing.html#returning-a-view-versus-a-copy\n",
      "  sub_df['protocol'] = l\n"
     ]
    }
   ],
   "source": [
    "sub_df['protocol'] = l"
   ]
  },
  {
   "cell_type": "code",
   "execution_count": 77,
   "metadata": {},
   "outputs": [
    {
     "data": {
      "text/plain": [
       "40817"
      ]
     },
     "execution_count": 77,
     "metadata": {},
     "output_type": "execute_result"
    }
   ],
   "source": [
    "len(l)"
   ]
  },
  {
   "cell_type": "code",
   "execution_count": 79,
   "metadata": {},
   "outputs": [],
   "source": [
    "pdf = pd.read_csv('protocol_info.csv')"
   ]
  },
  {
   "cell_type": "code",
   "execution_count": 92,
   "metadata": {},
   "outputs": [],
   "source": [
    "from pandas import Series, DataFrame\n",
    "subp_d = dict(sorted(Counter(l).items(), key=lambda x: x[1], reverse=True))\n",
    "subp_df = pd.DataFrame(pd.Series(subp_d),columns = ['count'])\n",
    "subp_df = subp_df.reset_index().rename({'index':'type'})\n",
    "#outputpath='trail_his_status_df.csv'\n",
    "#trail_his_status_df.to_csv(outputpath,sep=',',index=False,header=True)"
   ]
  },
  {
   "cell_type": "code",
   "execution_count": 93,
   "metadata": {},
   "outputs": [
    {
     "data": {
      "text/html": [
       "<div>\n",
       "<style scoped>\n",
       "    .dataframe tbody tr th:only-of-type {\n",
       "        vertical-align: middle;\n",
       "    }\n",
       "\n",
       "    .dataframe tbody tr th {\n",
       "        vertical-align: top;\n",
       "    }\n",
       "\n",
       "    .dataframe thead th {\n",
       "        text-align: right;\n",
       "    }\n",
       "</style>\n",
       "<table border=\"1\" class=\"dataframe\">\n",
       "  <thead>\n",
       "    <tr style=\"text-align: right;\">\n",
       "      <th></th>\n",
       "      <th>index</th>\n",
       "      <th>count</th>\n",
       "    </tr>\n",
       "  </thead>\n",
       "  <tbody>\n",
       "    <tr>\n",
       "      <th>0</th>\n",
       "      <td>SS Expression and Purification</td>\n",
       "      <td>22990</td>\n",
       "    </tr>\n",
       "    <tr>\n",
       "      <th>1</th>\n",
       "      <td>CSG-004_Transformation</td>\n",
       "      <td>9657</td>\n",
       "    </tr>\n",
       "    <tr>\n",
       "      <th>2</th>\n",
       "      <td>None</td>\n",
       "      <td>1297</td>\n",
       "    </tr>\n",
       "    <tr>\n",
       "      <th>3</th>\n",
       "      <td>Small_Scale_Expression_Testing_V2.0.0</td>\n",
       "      <td>1134</td>\n",
       "    </tr>\n",
       "    <tr>\n",
       "      <th>4</th>\n",
       "      <td>standard expression_ANL</td>\n",
       "      <td>822</td>\n",
       "    </tr>\n",
       "    <tr>\n",
       "      <th>5</th>\n",
       "      <td>BEVS Small Scale Expression Low MOI with Kifun...</td>\n",
       "      <td>637</td>\n",
       "    </tr>\n",
       "    <tr>\n",
       "      <th>6</th>\n",
       "      <td>Combined_Small_Scale_Expression_Testing_Growth...</td>\n",
       "      <td>545</td>\n",
       "    </tr>\n",
       "    <tr>\n",
       "      <th>7</th>\n",
       "      <td>SMALL-SCALE EXPRESSION TESTING V.3.0.0</td>\n",
       "      <td>518</td>\n",
       "    </tr>\n",
       "    <tr>\n",
       "      <th>8</th>\n",
       "      <td>SMALL-SCALE SCREENING (N)-HIS TAG PROTOCOL V.3...</td>\n",
       "      <td>417</td>\n",
       "    </tr>\n",
       "    <tr>\n",
       "      <th>9</th>\n",
       "      <td>LEX48 PASM-5052 Large Scale Expression</td>\n",
       "      <td>407</td>\n",
       "    </tr>\n",
       "    <tr>\n",
       "      <th>10</th>\n",
       "      <td>BEVS Small Scale Expression Low MOI with Kifun...</td>\n",
       "      <td>281</td>\n",
       "    </tr>\n",
       "    <tr>\n",
       "      <th>11</th>\n",
       "      <td>SS Expression - SF9</td>\n",
       "      <td>249</td>\n",
       "    </tr>\n",
       "    <tr>\n",
       "      <th>12</th>\n",
       "      <td>Large-Scale Native LEX48 Expression</td>\n",
       "      <td>233</td>\n",
       "    </tr>\n",
       "    <tr>\n",
       "      <th>13</th>\n",
       "      <td>Mammalian Small-Scale expression/purification</td>\n",
       "      <td>206</td>\n",
       "    </tr>\n",
       "    <tr>\n",
       "      <th>14</th>\n",
       "      <td>BEVS Small Scale Expression Low MOI - Secreted</td>\n",
       "      <td>190</td>\n",
       "    </tr>\n",
       "    <tr>\n",
       "      <th>15</th>\n",
       "      <td>Small Scale Expression - Hi5</td>\n",
       "      <td>148</td>\n",
       "    </tr>\n",
       "    <tr>\n",
       "      <th>16</th>\n",
       "      <td>SS-refold-b1</td>\n",
       "      <td>143</td>\n",
       "    </tr>\n",
       "    <tr>\n",
       "      <th>17</th>\n",
       "      <td>pDAD Small-scale Transfection/purification</td>\n",
       "      <td>124</td>\n",
       "    </tr>\n",
       "    <tr>\n",
       "      <th>18</th>\n",
       "      <td>BEVS Small Scale Expression/Purification</td>\n",
       "      <td>121</td>\n",
       "    </tr>\n",
       "    <tr>\n",
       "      <th>19</th>\n",
       "      <td>Large scale insect expression- secreted</td>\n",
       "      <td>106</td>\n",
       "    </tr>\n",
       "    <tr>\n",
       "      <th>20</th>\n",
       "      <td>SMALL-SCALE SCREENING (N)-GST TAG PROTOCOL V.3...</td>\n",
       "      <td>93</td>\n",
       "    </tr>\n",
       "    <tr>\n",
       "      <th>21</th>\n",
       "      <td>Lenti</td>\n",
       "      <td>74</td>\n",
       "    </tr>\n",
       "    <tr>\n",
       "      <th>22</th>\n",
       "      <td>AECOM_default_expression</td>\n",
       "      <td>71</td>\n",
       "    </tr>\n",
       "    <tr>\n",
       "      <th>23</th>\n",
       "      <td>Large scale insect expression- cytosolic</td>\n",
       "      <td>63</td>\n",
       "    </tr>\n",
       "    <tr>\n",
       "      <th>24</th>\n",
       "      <td>Large scale insect expression- secreted plus k...</td>\n",
       "      <td>53</td>\n",
       "    </tr>\n",
       "    <tr>\n",
       "      <th>25</th>\n",
       "      <td>Crystallomics_Expression_01</td>\n",
       "      <td>45</td>\n",
       "    </tr>\n",
       "    <tr>\n",
       "      <th>26</th>\n",
       "      <td>Large Scale Insect Expression High MOI - Cytos...</td>\n",
       "      <td>40</td>\n",
       "    </tr>\n",
       "    <tr>\n",
       "      <th>27</th>\n",
       "      <td>Cell_Free_His_Tag_V2.0.0</td>\n",
       "      <td>36</td>\n",
       "    </tr>\n",
       "    <tr>\n",
       "      <th>28</th>\n",
       "      <td>LP.2251</td>\n",
       "      <td>26</td>\n",
       "    </tr>\n",
       "    <tr>\n",
       "      <th>29</th>\n",
       "      <td>Small Scale Expression of Secreted Targets in ...</td>\n",
       "      <td>24</td>\n",
       "    </tr>\n",
       "    <tr>\n",
       "      <th>30</th>\n",
       "      <td>Large-Scale HY-Media LEX48 Fermentation</td>\n",
       "      <td>12</td>\n",
       "    </tr>\n",
       "    <tr>\n",
       "      <th>31</th>\n",
       "      <td>exp1</td>\n",
       "      <td>8</td>\n",
       "    </tr>\n",
       "    <tr>\n",
       "      <th>32</th>\n",
       "      <td>exp2</td>\n",
       "      <td>7</td>\n",
       "    </tr>\n",
       "    <tr>\n",
       "      <th>33</th>\n",
       "      <td>NU_SelMet_expression</td>\n",
       "      <td>6</td>\n",
       "    </tr>\n",
       "    <tr>\n",
       "      <th>34</th>\n",
       "      <td>SMALL-SCALE CELL-FREE SCREENING PROTOCOL v.4.1.1</td>\n",
       "      <td>5</td>\n",
       "    </tr>\n",
       "    <tr>\n",
       "      <th>35</th>\n",
       "      <td>Large Scale Insect- Secreted Batch Ni/Size</td>\n",
       "      <td>4</td>\n",
       "    </tr>\n",
       "    <tr>\n",
       "      <th>36</th>\n",
       "      <td>SMALL-SCALE EXPRESSION TESTING v5.0.0</td>\n",
       "      <td>3</td>\n",
       "    </tr>\n",
       "    <tr>\n",
       "      <th>37</th>\n",
       "      <td>NU_native_expression</td>\n",
       "      <td>3</td>\n",
       "    </tr>\n",
       "    <tr>\n",
       "      <th>38</th>\n",
       "      <td>Cell_Free_GST_Tag_V2.0.0</td>\n",
       "      <td>2</td>\n",
       "    </tr>\n",
       "    <tr>\n",
       "      <th>39</th>\n",
       "      <td>WU_native_soluble_expression_1</td>\n",
       "      <td>2</td>\n",
       "    </tr>\n",
       "    <tr>\n",
       "      <th>40</th>\n",
       "      <td>LP.1684</td>\n",
       "      <td>2</td>\n",
       "    </tr>\n",
       "    <tr>\n",
       "      <th>41</th>\n",
       "      <td>Lentivirus Production &amp; Large-Scale Expression</td>\n",
       "      <td>2</td>\n",
       "    </tr>\n",
       "    <tr>\n",
       "      <th>42</th>\n",
       "      <td>BEVS Large Scale Expression/Purification - Cyt...</td>\n",
       "      <td>2</td>\n",
       "    </tr>\n",
       "    <tr>\n",
       "      <th>43</th>\n",
       "      <td>BEVS Small Scale Expression Low MOI - Cytosolic</td>\n",
       "      <td>2</td>\n",
       "    </tr>\n",
       "    <tr>\n",
       "      <th>44</th>\n",
       "      <td>UTSW_standard expression</td>\n",
       "      <td>1</td>\n",
       "    </tr>\n",
       "    <tr>\n",
       "      <th>45</th>\n",
       "      <td>JCVI_OverExpression_HT_protocol</td>\n",
       "      <td>1</td>\n",
       "    </tr>\n",
       "    <tr>\n",
       "      <th>46</th>\n",
       "      <td>Large-Scale Expression - Gerlt Lab</td>\n",
       "      <td>1</td>\n",
       "    </tr>\n",
       "    <tr>\n",
       "      <th>47</th>\n",
       "      <td>Large-Scale Automated Protein Purification</td>\n",
       "      <td>1</td>\n",
       "    </tr>\n",
       "    <tr>\n",
       "      <th>48</th>\n",
       "      <td>LP.6301</td>\n",
       "      <td>1</td>\n",
       "    </tr>\n",
       "    <tr>\n",
       "      <th>49</th>\n",
       "      <td>NPC-COEX 019330</td>\n",
       "      <td>1</td>\n",
       "    </tr>\n",
       "    <tr>\n",
       "      <th>50</th>\n",
       "      <td>uva_expression_semet_1</td>\n",
       "      <td>1</td>\n",
       "    </tr>\n",
       "  </tbody>\n",
       "</table>\n",
       "</div>"
      ],
      "text/plain": [
       "                                                index  count\n",
       "0                      SS Expression and Purification  22990\n",
       "1                              CSG-004_Transformation   9657\n",
       "2                                                None   1297\n",
       "3               Small_Scale_Expression_Testing_V2.0.0   1134\n",
       "4                             standard expression_ANL    822\n",
       "5   BEVS Small Scale Expression Low MOI with Kifun...    637\n",
       "6   Combined_Small_Scale_Expression_Testing_Growth...    545\n",
       "7              SMALL-SCALE EXPRESSION TESTING V.3.0.0    518\n",
       "8   SMALL-SCALE SCREENING (N)-HIS TAG PROTOCOL V.3...    417\n",
       "9              LEX48 PASM-5052 Large Scale Expression    407\n",
       "10  BEVS Small Scale Expression Low MOI with Kifun...    281\n",
       "11                                SS Expression - SF9    249\n",
       "12                Large-Scale Native LEX48 Expression    233\n",
       "13      Mammalian Small-Scale expression/purification    206\n",
       "14     BEVS Small Scale Expression Low MOI - Secreted    190\n",
       "15                       Small Scale Expression - Hi5    148\n",
       "16                                       SS-refold-b1    143\n",
       "17         pDAD Small-scale Transfection/purification    124\n",
       "18           BEVS Small Scale Expression/Purification    121\n",
       "19            Large scale insect expression- secreted    106\n",
       "20  SMALL-SCALE SCREENING (N)-GST TAG PROTOCOL V.3...     93\n",
       "21                                              Lenti     74\n",
       "22                           AECOM_default_expression     71\n",
       "23           Large scale insect expression- cytosolic     63\n",
       "24  Large scale insect expression- secreted plus k...     53\n",
       "25                        Crystallomics_Expression_01     45\n",
       "26  Large Scale Insect Expression High MOI - Cytos...     40\n",
       "27                           Cell_Free_His_Tag_V2.0.0     36\n",
       "28                                            LP.2251     26\n",
       "29  Small Scale Expression of Secreted Targets in ...     24\n",
       "30            Large-Scale HY-Media LEX48 Fermentation     12\n",
       "31                                               exp1      8\n",
       "32                                               exp2      7\n",
       "33                               NU_SelMet_expression      6\n",
       "34   SMALL-SCALE CELL-FREE SCREENING PROTOCOL v.4.1.1      5\n",
       "35         Large Scale Insect- Secreted Batch Ni/Size      4\n",
       "36              SMALL-SCALE EXPRESSION TESTING v5.0.0      3\n",
       "37                               NU_native_expression      3\n",
       "38                           Cell_Free_GST_Tag_V2.0.0      2\n",
       "39                     WU_native_soluble_expression_1      2\n",
       "40                                            LP.1684      2\n",
       "41     Lentivirus Production & Large-Scale Expression      2\n",
       "42  BEVS Large Scale Expression/Purification - Cyt...      2\n",
       "43    BEVS Small Scale Expression Low MOI - Cytosolic      2\n",
       "44                           UTSW_standard expression      1\n",
       "45                    JCVI_OverExpression_HT_protocol      1\n",
       "46                 Large-Scale Expression - Gerlt Lab      1\n",
       "47         Large-Scale Automated Protein Purification      1\n",
       "48                                            LP.6301      1\n",
       "49                                    NPC-COEX 019330      1\n",
       "50                             uva_expression_semet_1      1"
      ]
     },
     "execution_count": 93,
     "metadata": {},
     "output_type": "execute_result"
    }
   ],
   "source": [
    "subp_df"
   ]
  },
  {
   "cell_type": "code",
   "execution_count": 113,
   "metadata": {},
   "outputs": [],
   "source": [
    "host_l = []\n",
    "hl = pdf['host'].tolist()\n",
    "pl = pdf['protocol_id'].tolist()\n",
    "for s in l:\n",
    "    if s != None:\n",
    "        #subdf = pdf[pdf.protocol_id==s]\n",
    "        try:\n",
    "            ind = pl.index(s)\n",
    "            host_l.append(hl[ind])\n",
    "        except:\n",
    "            host_l.append(None)\n",
    "    else:\n",
    "        host_l.append(None)\n",
    "    \n",
    "        "
   ]
  },
  {
   "cell_type": "code",
   "execution_count": 123,
   "metadata": {},
   "outputs": [],
   "source": [
    "l3 = ['bl21','de3']\n",
    "host_l1 = ['e. coli' if i in l3 else i for i in host_l]"
   ]
  },
  {
   "cell_type": "code",
   "execution_count": 124,
   "metadata": {},
   "outputs": [
    {
     "data": {
      "text/plain": [
       "Counter({'e. coli': 25999,\n",
       "         None: 11666,\n",
       "         'cell-free': 70,\n",
       "         'cellfree': 510,\n",
       "         's. cerevisiae': 15,\n",
       "         nan: 1379,\n",
       "         '293-f': 330,\n",
       "         'sf9': 847,\n",
       "         'b834': 1})"
      ]
     },
     "execution_count": 124,
     "metadata": {},
     "output_type": "execute_result"
    }
   ],
   "source": [
    "Counter(host_l1)"
   ]
  },
  {
   "cell_type": "code",
   "execution_count": 125,
   "metadata": {},
   "outputs": [
    {
     "name": "stderr",
     "output_type": "stream",
     "text": [
      "<ipython-input-125-d8e35042a7c5>:1: SettingWithCopyWarning: \n",
      "A value is trying to be set on a copy of a slice from a DataFrame.\n",
      "Try using .loc[row_indexer,col_indexer] = value instead\n",
      "\n",
      "See the caveats in the documentation: https://pandas.pydata.org/pandas-docs/stable/user_guide/indexing.html#returning-a-view-versus-a-copy\n",
      "  sub_df['host'] = host_l1\n"
     ]
    }
   ],
   "source": [
    "sub_df['host'] = host_l1"
   ]
  },
  {
   "cell_type": "code",
   "execution_count": 127,
   "metadata": {},
   "outputs": [],
   "source": [
    "ecoli_subdf = sub_df[sub_df.host=='e. coli']"
   ]
  },
  {
   "cell_type": "code",
   "execution_count": 131,
   "metadata": {},
   "outputs": [],
   "source": [
    "ecoli_subdf.to_csv('0_ecoli_trials.csv',sep=',',header=True,index=False)"
   ]
  },
  {
   "cell_type": "code",
   "execution_count": 130,
   "metadata": {},
   "outputs": [],
   "source": [
    "ecoli_subdf = ecoli_subdf.drop(columns = ['host_info','trail_protocol_info'])"
   ]
  },
  {
   "cell_type": "code",
   "execution_count": 133,
   "metadata": {},
   "outputs": [],
   "source": [
    "sub_df = sub_df.drop(columns = ['host_info','trail_protocol_info'])"
   ]
  },
  {
   "cell_type": "code",
   "execution_count": 134,
   "metadata": {},
   "outputs": [],
   "source": [
    "sub_df.to_csv('0_trials.csv',sep=',',header=True,index=False)"
   ]
  },
  {
   "cell_type": "code",
   "execution_count": 1,
   "metadata": {},
   "outputs": [],
   "source": [
    "import pandas as pd"
   ]
  },
  {
   "cell_type": "code",
   "execution_count": 2,
   "metadata": {},
   "outputs": [],
   "source": [
    "df = pd.read_csv('0_ecoli_trials.csv')"
   ]
  },
  {
   "cell_type": "code",
   "execution_count": 4,
   "metadata": {},
   "outputs": [],
   "source": [
    "ids_0_df = pd.DataFrame(columns=['id'])\n",
    "ids_0_df['id'] = df['trail_id']"
   ]
  },
  {
   "cell_type": "code",
   "execution_count": 5,
   "metadata": {},
   "outputs": [
    {
     "data": {
      "text/plain": [
       "25999"
      ]
     },
     "execution_count": 5,
     "metadata": {},
     "output_type": "execute_result"
    }
   ],
   "source": [
    "len(ids_0_df)"
   ]
  },
  {
   "cell_type": "code",
   "execution_count": 6,
   "metadata": {},
   "outputs": [],
   "source": [
    "ids_0_df.to_csv('ids_0.csv',sep=',',header=True,index=False)"
   ]
  },
  {
   "cell_type": "code",
   "execution_count": 7,
   "metadata": {},
   "outputs": [],
   "source": [
    "df = pd.read_csv('0_trials.csv')\n",
    "ids_0_df = pd.DataFrame(columns=['id'])\n",
    "ids_0_df['id'] = df['trail_id']\n",
    "ids_0_df.to_csv('ids_0.csv',sep=',',header=True,index=False)"
   ]
  },
  {
   "cell_type": "code",
   "execution_count": null,
   "metadata": {},
   "outputs": [],
   "source": [
    "import pandas as pd\n",
    "df = pd.read_csv('esm_reps_bool.csv')\n",
    "df.loc[df['symbol'].isnull(), 'symbol'] = -1\n",
    "df.to_csv('esm_rep&bool.csv',sep=',',header=True,index=False)"
   ]
  },
  {
   "cell_type": "code",
   "execution_count": 3,
   "metadata": {},
   "outputs": [
    {
     "data": {
      "text/plain": [
       "['sfg']"
      ]
     },
     "execution_count": 3,
     "metadata": {},
     "output_type": "execute_result"
    }
   ],
   "source": [
    "['sfg']"
   ]
  },
  {
   "cell_type": "code",
   "execution_count": 4,
   "metadata": {},
   "outputs": [],
   "source": [
    "l = ['-'.join(list('sfg'))]"
   ]
  },
  {
   "cell_type": "code",
   "execution_count": 5,
   "metadata": {},
   "outputs": [
    {
     "data": {
      "text/plain": [
       "['s-f-g']"
      ]
     },
     "execution_count": 5,
     "metadata": {},
     "output_type": "execute_result"
    }
   ],
   "source": [
    "l"
   ]
  },
  {
   "cell_type": "code",
   "execution_count": null,
   "metadata": {},
   "outputs": [],
   "source": []
  }
 ],
 "metadata": {
  "kernelspec": {
   "display_name": "Python 3",
   "language": "python",
   "name": "python3"
  },
  "language_info": {
   "codemirror_mode": {
    "name": "ipython",
    "version": 3
   },
   "file_extension": ".py",
   "mimetype": "text/x-python",
   "name": "python",
   "nbconvert_exporter": "python",
   "pygments_lexer": "ipython3",
   "version": "3.8.8"
  }
 },
 "nbformat": 4,
 "nbformat_minor": 4
}
