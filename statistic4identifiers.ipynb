{
 "cells": [
  {
   "cell_type": "code",
   "execution_count": 1,
   "metadata": {},
   "outputs": [],
   "source": [
    "import pandas as pd\n",
    "from collections import Counter\n",
    "from pandas import Series, DataFrame\n",
    "from Bio import SeqIO"
   ]
  },
  {
   "cell_type": "markdown",
   "metadata": {},
   "source": [
    "# statistic based on uniprot identifiers"
   ]
  },
  {
   "cell_type": "code",
   "execution_count": 2,
   "metadata": {},
   "outputs": [],
   "source": [
    "unique_df = pd.read_csv('seq&idens_unique.csv',low_memory=False)\n",
    "uniprot_tt = pd.read_csv('uniprot_tt.csv')\n",
    "uniprot_re = pd.read_csv('uniprot_rest.csv')\n",
    "p2u_df = pd.read_csv('/Users/liusifan/Desktop/pdb2uni_kws.csv')"
   ]
  },
  {
   "cell_type": "code",
   "execution_count": 7,
   "metadata": {},
   "outputs": [],
   "source": [
    "uniprot_tt = uniprot_tt.drop(columns=['protein_name'])\n",
    "uniprot_tt = uniprot_tt.fillna('na')\n",
    "uniprot_re = uniprot_re.fillna('na')"
   ]
  },
  {
   "cell_type": "code",
   "execution_count": 11,
   "metadata": {},
   "outputs": [],
   "source": [
    "for ind,row in uniprot_tt.iterrows():\n",
    "    if row['mf'] == 'na' and row['bp'] == 'na' and row['cc'] == 'na':\n",
    "        uniprot_tt = uniprot_tt.drop([ind]) "
   ]
  },
  {
   "cell_type": "code",
   "execution_count": 13,
   "metadata": {},
   "outputs": [],
   "source": [
    "for ind,row in uniprot_re.iterrows():\n",
    "    if row['mf'] == 'na' and row['bp'] == 'na' and row['cc'] == 'na':\n",
    "        uniprot_re = uniprot_re.drop([ind])"
   ]
  },
  {
   "cell_type": "code",
   "execution_count": 18,
   "metadata": {},
   "outputs": [],
   "source": [
    "p2u_df = p2u_df.fillna('na')\n",
    "for ind,row in p2u_df.iterrows():\n",
    "    if row['mf'] == 'na' and row['bp'] == 'na' and row['cc'] == 'na':\n",
    "        p2u_df = p2u_df.drop([ind])"
   ]
  },
  {
   "cell_type": "code",
   "execution_count": 51,
   "metadata": {},
   "outputs": [],
   "source": [
    "uniprot_list = uniprot_tt['id'].tolist()\n",
    "l = uniprot_re['id'].tolist()"
   ]
  },
  {
   "cell_type": "code",
   "execution_count": 52,
   "metadata": {},
   "outputs": [],
   "source": [
    "for ele in l:\n",
    "    uniprot_list.append(ele)"
   ]
  },
  {
   "cell_type": "code",
   "execution_count": 53,
   "metadata": {},
   "outputs": [
    {
     "data": {
      "text/plain": [
       "43494"
      ]
     },
     "execution_count": 53,
     "metadata": {},
     "output_type": "execute_result"
    }
   ],
   "source": [
    "len(uniprot_list)"
   ]
  },
  {
   "cell_type": "code",
   "execution_count": 55,
   "metadata": {},
   "outputs": [],
   "source": [
    "pdb_list = p2u_df['pdb'].tolist()"
   ]
  },
  {
   "cell_type": "code",
   "execution_count": 57,
   "metadata": {},
   "outputs": [],
   "source": [
    "rest_nonuniprot_df = unique_df\n",
    "for ind,row in rest_nonuniprot_df.iterrows():\n",
    "    if row['id'] in uniprot_list or row[\"'PDB'\"] in pdb_list:\n",
    "        rest_nonuniprot_df = rest_nonuniprot_df.drop([ind])"
   ]
  },
  {
   "cell_type": "code",
   "execution_count": 56,
   "metadata": {},
   "outputs": [
    {
     "data": {
      "text/plain": [
       "Index(['id', 'seq', 'bool', 'source_organism', 'database_info', ''BMRB'',\n",
       "       ''ViPR'', ''PDB'', ''Swiss-Prot'', ''INTERPRO'', ''RefSeq'', ''ORNL'',\n",
       "       ''NCBI'', ''CATH'', ''GenBank'', ''EFI'', ''HGNC'', ''OrthoMCL'',\n",
       "       ''NCBI ENTREZ'', ''PepcDB-CloneId'', ''MEGA'', ''WormBase'',\n",
       "       ''NCBITAXONOMY'', ''ATCC'', ''GOA'', ''UNIPROTKB'', ''PATRIC ID'',\n",
       "       ''BIG'', ''SuperFamily'', ''WUSTL J. Gordon'', ''EuPathDB'',\n",
       "       ''Genbank'', ''TIGR'', ''NCBI gene'', ''Protocol_56'', ''TubercuList'',\n",
       "       ''PUMA2'', ''Stanford SGD'', ''Protocol_73'', ''UniProt'', ''CSGID'',\n",
       "       ''MCSGdb'', ''SWISSPROT'', ''Genome Project'', ''TSRI'', ''SPINE'',\n",
       "       ''PFAM'', ''NCBI RefSeq'', ''seguid'', ''PFAM-B'', ''GNF'', ''GOS'',\n",
       "       ''target'', ''PSICNT'', ''PSI-MR'', ''NYSGRC''],\n",
       "      dtype='object')"
      ]
     },
     "execution_count": 56,
     "metadata": {},
     "output_type": "execute_result"
    }
   ],
   "source": [
    "unique_df.columns"
   ]
  },
  {
   "cell_type": "code",
   "execution_count": 58,
   "metadata": {},
   "outputs": [
    {
     "data": {
      "text/plain": [
       "65583"
      ]
     },
     "execution_count": 58,
     "metadata": {},
     "output_type": "execute_result"
    }
   ],
   "source": [
    "len(rest_nonuniprot_df)"
   ]
  },
  {
   "cell_type": "code",
   "execution_count": 59,
   "metadata": {},
   "outputs": [],
   "source": [
    "rest_nonuniprot_df.to_csv('no_uniprot_iden.csv',sep=',',header=True,index=False)"
   ]
  },
  {
   "cell_type": "code",
   "execution_count": 60,
   "metadata": {},
   "outputs": [],
   "source": [
    "ncbi_df  = rest_nonuniprot_df.iloc[:,[0,2,3,10,12,18,22,33,47]]"
   ]
  },
  {
   "cell_type": "code",
   "execution_count": 62,
   "metadata": {},
   "outputs": [],
   "source": [
    "ncbi_df = ncbi_df.fillna('na')\n",
    "for ind,row in ncbi_df.iterrows():\n",
    "    if row[\"'RefSeq'\"] == 'na' and row[\"'NCBI'\"] == 'na' and row[\"'NCBI ENTREZ'\"] == 'na' and row[\"'NCBITAXONOMY'\"] == 'na' and row[\"'NCBI gene'\"] == 'na' and row[\"'NCBI RefSeq'\"] == 'na':\n",
    "        ncbi_df = ncbi_df.drop([ind])\n",
    "    "
   ]
  },
  {
   "cell_type": "code",
   "execution_count": 63,
   "metadata": {},
   "outputs": [
    {
     "data": {
      "text/html": [
       "<div>\n",
       "<style scoped>\n",
       "    .dataframe tbody tr th:only-of-type {\n",
       "        vertical-align: middle;\n",
       "    }\n",
       "\n",
       "    .dataframe tbody tr th {\n",
       "        vertical-align: top;\n",
       "    }\n",
       "\n",
       "    .dataframe thead th {\n",
       "        text-align: right;\n",
       "    }\n",
       "</style>\n",
       "<table border=\"1\" class=\"dataframe\">\n",
       "  <thead>\n",
       "    <tr style=\"text-align: right;\">\n",
       "      <th></th>\n",
       "      <th>id</th>\n",
       "      <th>bool</th>\n",
       "      <th>source_organism</th>\n",
       "      <th>'RefSeq'</th>\n",
       "      <th>'NCBI'</th>\n",
       "      <th>'NCBI ENTREZ'</th>\n",
       "      <th>'NCBITAXONOMY'</th>\n",
       "      <th>'NCBI gene'</th>\n",
       "      <th>'NCBI RefSeq'</th>\n",
       "    </tr>\n",
       "  </thead>\n",
       "  <tbody>\n",
       "    <tr>\n",
       "      <th>0</th>\n",
       "      <td>MCSG-APC60832-1</td>\n",
       "      <td>1.0</td>\n",
       "      <td>Nitrosomonas europaea ATCC 19718</td>\n",
       "      <td>na</td>\n",
       "      <td>CAD85401.1</td>\n",
       "      <td>na</td>\n",
       "      <td>na</td>\n",
       "      <td>na</td>\n",
       "      <td>na</td>\n",
       "    </tr>\n",
       "    <tr>\n",
       "      <th>3</th>\n",
       "      <td>MCSG-APC62631.1-1</td>\n",
       "      <td>1.0</td>\n",
       "      <td>Clostridium difficile 630</td>\n",
       "      <td>na</td>\n",
       "      <td>CAJ67297.1</td>\n",
       "      <td>na</td>\n",
       "      <td>na</td>\n",
       "      <td>na</td>\n",
       "      <td>na</td>\n",
       "    </tr>\n",
       "    <tr>\n",
       "      <th>5</th>\n",
       "      <td>MCSG-APC83984-1</td>\n",
       "      <td>1.0</td>\n",
       "      <td>Neisseria meningitidis MC58</td>\n",
       "      <td>na</td>\n",
       "      <td>AAF40564.1</td>\n",
       "      <td>na</td>\n",
       "      <td>na</td>\n",
       "      <td>na</td>\n",
       "      <td>na</td>\n",
       "    </tr>\n",
       "    <tr>\n",
       "      <th>6</th>\n",
       "      <td>MCSG-APC22678-1</td>\n",
       "      <td>1.0</td>\n",
       "      <td>Bacillus cereus</td>\n",
       "      <td>na</td>\n",
       "      <td>AAP07159</td>\n",
       "      <td>na</td>\n",
       "      <td>na</td>\n",
       "      <td>na</td>\n",
       "      <td>na</td>\n",
       "    </tr>\n",
       "    <tr>\n",
       "      <th>7</th>\n",
       "      <td>EFI-500607-2</td>\n",
       "      <td>0.0</td>\n",
       "      <td>Ralstonia eutropha H16</td>\n",
       "      <td>na</td>\n",
       "      <td>na</td>\n",
       "      <td>na</td>\n",
       "      <td>na</td>\n",
       "      <td>na</td>\n",
       "      <td>YP_726595.1</td>\n",
       "    </tr>\n",
       "    <tr>\n",
       "      <th>...</th>\n",
       "      <td>...</td>\n",
       "      <td>...</td>\n",
       "      <td>...</td>\n",
       "      <td>...</td>\n",
       "      <td>...</td>\n",
       "      <td>...</td>\n",
       "      <td>...</td>\n",
       "      <td>...</td>\n",
       "      <td>...</td>\n",
       "    </tr>\n",
       "    <tr>\n",
       "      <th>83005</th>\n",
       "      <td>NYSGRC-010831-1</td>\n",
       "      <td>0.0</td>\n",
       "      <td>Gallus gallus</td>\n",
       "      <td>na</td>\n",
       "      <td>na</td>\n",
       "      <td>na</td>\n",
       "      <td>na</td>\n",
       "      <td>na</td>\n",
       "      <td>NP_001012923.1</td>\n",
       "    </tr>\n",
       "    <tr>\n",
       "      <th>83006</th>\n",
       "      <td>NESG-YT736-2</td>\n",
       "      <td>1.0</td>\n",
       "      <td>Saccharomyces cerevisiae</td>\n",
       "      <td>NP_013390.1; NP_014825.1</td>\n",
       "      <td>na</td>\n",
       "      <td>na</td>\n",
       "      <td>na</td>\n",
       "      <td>850994</td>\n",
       "      <td>na</td>\n",
       "    </tr>\n",
       "    <tr>\n",
       "      <th>83007</th>\n",
       "      <td>MCSG-APC23605-1</td>\n",
       "      <td>1.0</td>\n",
       "      <td>Salmonella typhimurium LT2</td>\n",
       "      <td>na</td>\n",
       "      <td>NP_461555</td>\n",
       "      <td>na</td>\n",
       "      <td>na</td>\n",
       "      <td>na</td>\n",
       "      <td>na</td>\n",
       "    </tr>\n",
       "    <tr>\n",
       "      <th>83008</th>\n",
       "      <td>MCSG-APC38450.3-1</td>\n",
       "      <td>1.0</td>\n",
       "      <td>Rhodobacter sphaeroides ATCC 17025</td>\n",
       "      <td>na</td>\n",
       "      <td>ABP72858.1</td>\n",
       "      <td>na</td>\n",
       "      <td>na</td>\n",
       "      <td>na</td>\n",
       "      <td>na</td>\n",
       "    </tr>\n",
       "    <tr>\n",
       "      <th>83009</th>\n",
       "      <td>EFI-500350-1</td>\n",
       "      <td>0.0</td>\n",
       "      <td>Streptomyces coelicolor A3(2)</td>\n",
       "      <td>na</td>\n",
       "      <td>na</td>\n",
       "      <td>na</td>\n",
       "      <td>na</td>\n",
       "      <td>na</td>\n",
       "      <td>NP_625091.1</td>\n",
       "    </tr>\n",
       "  </tbody>\n",
       "</table>\n",
       "<p>53593 rows × 9 columns</p>\n",
       "</div>"
      ],
      "text/plain": [
       "                      id  bool                     source_organism  \\\n",
       "0        MCSG-APC60832-1   1.0    Nitrosomonas europaea ATCC 19718   \n",
       "3      MCSG-APC62631.1-1   1.0           Clostridium difficile 630   \n",
       "5        MCSG-APC83984-1   1.0         Neisseria meningitidis MC58   \n",
       "6        MCSG-APC22678-1   1.0                     Bacillus cereus   \n",
       "7           EFI-500607-2   0.0              Ralstonia eutropha H16   \n",
       "...                  ...   ...                                 ...   \n",
       "83005    NYSGRC-010831-1   0.0                       Gallus gallus   \n",
       "83006       NESG-YT736-2   1.0            Saccharomyces cerevisiae   \n",
       "83007    MCSG-APC23605-1   1.0          Salmonella typhimurium LT2   \n",
       "83008  MCSG-APC38450.3-1   1.0  Rhodobacter sphaeroides ATCC 17025   \n",
       "83009       EFI-500350-1   0.0       Streptomyces coelicolor A3(2)   \n",
       "\n",
       "                       'RefSeq'      'NCBI' 'NCBI ENTREZ' 'NCBITAXONOMY'  \\\n",
       "0                            na  CAD85401.1            na             na   \n",
       "3                            na  CAJ67297.1            na             na   \n",
       "5                            na  AAF40564.1            na             na   \n",
       "6                            na    AAP07159            na             na   \n",
       "7                            na          na            na             na   \n",
       "...                         ...         ...           ...            ...   \n",
       "83005                        na          na            na             na   \n",
       "83006  NP_013390.1; NP_014825.1          na            na             na   \n",
       "83007                        na   NP_461555            na             na   \n",
       "83008                        na  ABP72858.1            na             na   \n",
       "83009                        na          na            na             na   \n",
       "\n",
       "      'NCBI gene'   'NCBI RefSeq'  \n",
       "0              na              na  \n",
       "3              na              na  \n",
       "5              na              na  \n",
       "6              na              na  \n",
       "7              na     YP_726595.1  \n",
       "...           ...             ...  \n",
       "83005          na  NP_001012923.1  \n",
       "83006      850994              na  \n",
       "83007          na              na  \n",
       "83008          na              na  \n",
       "83009          na     NP_625091.1  \n",
       "\n",
       "[53593 rows x 9 columns]"
      ]
     },
     "execution_count": 63,
     "metadata": {},
     "output_type": "execute_result"
    }
   ],
   "source": [
    "ncbi_df"
   ]
  },
  {
   "cell_type": "code",
   "execution_count": 73,
   "metadata": {},
   "outputs": [],
   "source": [
    "i = 0\n",
    "for ind,row in ncbi_df.iterrows():\n",
    "    if row[\"'NCBI'\"] != 'na' and row[\"'NCBI ENTREZ'\"] != 'na':\n",
    "        i += 1"
   ]
  },
  {
   "cell_type": "code",
   "execution_count": 74,
   "metadata": {},
   "outputs": [
    {
     "data": {
      "text/plain": [
       "100"
      ]
     },
     "execution_count": 74,
     "metadata": {},
     "output_type": "execute_result"
    }
   ],
   "source": [
    "i"
   ]
  },
  {
   "cell_type": "code",
   "execution_count": 78,
   "metadata": {},
   "outputs": [],
   "source": [
    "refseq_df = ncbi_df[ncbi_df[\"'RefSeq'\"] != 'na']"
   ]
  },
  {
   "cell_type": "code",
   "execution_count": 80,
   "metadata": {},
   "outputs": [],
   "source": [
    "refseq_re_df = ncbi_df[ncbi_df[\"'NCBI RefSeq'\"] != 'na']"
   ]
  },
  {
   "cell_type": "code",
   "execution_count": 82,
   "metadata": {},
   "outputs": [],
   "source": [
    "refseq_total_df = refseq_df.append(refseq_re_df)"
   ]
  },
  {
   "cell_type": "code",
   "execution_count": 84,
   "metadata": {},
   "outputs": [
    {
     "name": "stderr",
     "output_type": "stream",
     "text": [
      "<ipython-input-84-50f1264c4aa7>:3: SettingWithCopyWarning: \n",
      "A value is trying to be set on a copy of a slice from a DataFrame\n",
      "\n",
      "See the caveats in the documentation: https://pandas.pydata.org/pandas-docs/stable/user_guide/indexing.html#returning-a-view-versus-a-copy\n",
      "  refseq_total_df[\"'RefSeq'\"][ind] = refseq_total_df[\"'NCBI RefSeq'\"][ind]\n"
     ]
    }
   ],
   "source": [
    "for ind,row in refseq_total_df.iterrows():\n",
    "    if row[\"'RefSeq'\"] == 'na':\n",
    "        refseq_total_df[\"'RefSeq'\"][ind] = refseq_total_df[\"'NCBI RefSeq'\"][ind]"
   ]
  },
  {
   "cell_type": "code",
   "execution_count": 87,
   "metadata": {},
   "outputs": [],
   "source": [
    "ref_seq_id_list = refseq_total_df[\"'RefSeq'\"].tolist()\n",
    "ref_seq_trial_id_list = refseq_total_df['id'].tolist()"
   ]
  },
  {
   "cell_type": "code",
   "execution_count": 88,
   "metadata": {},
   "outputs": [],
   "source": [
    "ncbi_ent_df = ncbi_df\n",
    "for ind,row in ncbi_ent_df.iterrows():\n",
    "    if row['id'] in ref_seq_trial_id_list:\n",
    "        ncbi_ent_df = ncbi_ent_df.drop([ind])"
   ]
  },
  {
   "cell_type": "code",
   "execution_count": 93,
   "metadata": {},
   "outputs": [
    {
     "data": {
      "text/plain": [
       "False"
      ]
     },
     "execution_count": 93,
     "metadata": {},
     "output_type": "execute_result"
    }
   ],
   "source": [
    "'na' in ncbi_ent_df[\"'NCBI ENTREZ'\"]"
   ]
  },
  {
   "cell_type": "code",
   "execution_count": 91,
   "metadata": {},
   "outputs": [
    {
     "data": {
      "text/html": [
       "<div>\n",
       "<style scoped>\n",
       "    .dataframe tbody tr th:only-of-type {\n",
       "        vertical-align: middle;\n",
       "    }\n",
       "\n",
       "    .dataframe tbody tr th {\n",
       "        vertical-align: top;\n",
       "    }\n",
       "\n",
       "    .dataframe thead th {\n",
       "        text-align: right;\n",
       "    }\n",
       "</style>\n",
       "<table border=\"1\" class=\"dataframe\">\n",
       "  <thead>\n",
       "    <tr style=\"text-align: right;\">\n",
       "      <th></th>\n",
       "      <th>id</th>\n",
       "      <th>bool</th>\n",
       "      <th>source_organism</th>\n",
       "      <th>'RefSeq'</th>\n",
       "      <th>'NCBI'</th>\n",
       "      <th>'NCBI ENTREZ'</th>\n",
       "      <th>'NCBITAXONOMY'</th>\n",
       "      <th>'NCBI gene'</th>\n",
       "      <th>'NCBI RefSeq'</th>\n",
       "    </tr>\n",
       "  </thead>\n",
       "  <tbody>\n",
       "    <tr>\n",
       "      <th>0</th>\n",
       "      <td>MCSG-APC60832-1</td>\n",
       "      <td>1.0</td>\n",
       "      <td>Nitrosomonas europaea ATCC 19718</td>\n",
       "      <td>na</td>\n",
       "      <td>CAD85401.1</td>\n",
       "      <td>na</td>\n",
       "      <td>na</td>\n",
       "      <td>na</td>\n",
       "      <td>na</td>\n",
       "    </tr>\n",
       "    <tr>\n",
       "      <th>3</th>\n",
       "      <td>MCSG-APC62631.1-1</td>\n",
       "      <td>1.0</td>\n",
       "      <td>Clostridium difficile 630</td>\n",
       "      <td>na</td>\n",
       "      <td>CAJ67297.1</td>\n",
       "      <td>na</td>\n",
       "      <td>na</td>\n",
       "      <td>na</td>\n",
       "      <td>na</td>\n",
       "    </tr>\n",
       "    <tr>\n",
       "      <th>5</th>\n",
       "      <td>MCSG-APC83984-1</td>\n",
       "      <td>1.0</td>\n",
       "      <td>Neisseria meningitidis MC58</td>\n",
       "      <td>na</td>\n",
       "      <td>AAF40564.1</td>\n",
       "      <td>na</td>\n",
       "      <td>na</td>\n",
       "      <td>na</td>\n",
       "      <td>na</td>\n",
       "    </tr>\n",
       "    <tr>\n",
       "      <th>6</th>\n",
       "      <td>MCSG-APC22678-1</td>\n",
       "      <td>1.0</td>\n",
       "      <td>Bacillus cereus</td>\n",
       "      <td>na</td>\n",
       "      <td>AAP07159</td>\n",
       "      <td>na</td>\n",
       "      <td>na</td>\n",
       "      <td>na</td>\n",
       "      <td>na</td>\n",
       "    </tr>\n",
       "    <tr>\n",
       "      <th>10</th>\n",
       "      <td>MCSG-APC80163-1</td>\n",
       "      <td>1.0</td>\n",
       "      <td>Streptococcus pyogenes M1 GAS</td>\n",
       "      <td>na</td>\n",
       "      <td>AAK34817</td>\n",
       "      <td>na</td>\n",
       "      <td>na</td>\n",
       "      <td>na</td>\n",
       "      <td>na</td>\n",
       "    </tr>\n",
       "    <tr>\n",
       "      <th>...</th>\n",
       "      <td>...</td>\n",
       "      <td>...</td>\n",
       "      <td>...</td>\n",
       "      <td>...</td>\n",
       "      <td>...</td>\n",
       "      <td>...</td>\n",
       "      <td>...</td>\n",
       "      <td>...</td>\n",
       "      <td>...</td>\n",
       "    </tr>\n",
       "    <tr>\n",
       "      <th>83000</th>\n",
       "      <td>MCSG-APC66101.0-1</td>\n",
       "      <td>1.0</td>\n",
       "      <td>Cytophaga hutchinsonii ATCC 33406</td>\n",
       "      <td>na</td>\n",
       "      <td>ABG58603</td>\n",
       "      <td>na</td>\n",
       "      <td>na</td>\n",
       "      <td>na</td>\n",
       "      <td>na</td>\n",
       "    </tr>\n",
       "    <tr>\n",
       "      <th>83002</th>\n",
       "      <td>MCSG-APC40952.2-1</td>\n",
       "      <td>1.0</td>\n",
       "      <td>Streptomyces coelicolor A3</td>\n",
       "      <td>na</td>\n",
       "      <td>NP_733508</td>\n",
       "      <td>na</td>\n",
       "      <td>na</td>\n",
       "      <td>na</td>\n",
       "      <td>na</td>\n",
       "    </tr>\n",
       "    <tr>\n",
       "      <th>83004</th>\n",
       "      <td>MCSG-APC38975.2-1</td>\n",
       "      <td>1.0</td>\n",
       "      <td>Chromobacterium violaceum ATCC 12472</td>\n",
       "      <td>na</td>\n",
       "      <td>AAQ60656.1</td>\n",
       "      <td>na</td>\n",
       "      <td>na</td>\n",
       "      <td>na</td>\n",
       "      <td>na</td>\n",
       "    </tr>\n",
       "    <tr>\n",
       "      <th>83007</th>\n",
       "      <td>MCSG-APC23605-1</td>\n",
       "      <td>1.0</td>\n",
       "      <td>Salmonella typhimurium LT2</td>\n",
       "      <td>na</td>\n",
       "      <td>NP_461555</td>\n",
       "      <td>na</td>\n",
       "      <td>na</td>\n",
       "      <td>na</td>\n",
       "      <td>na</td>\n",
       "    </tr>\n",
       "    <tr>\n",
       "      <th>83008</th>\n",
       "      <td>MCSG-APC38450.3-1</td>\n",
       "      <td>1.0</td>\n",
       "      <td>Rhodobacter sphaeroides ATCC 17025</td>\n",
       "      <td>na</td>\n",
       "      <td>ABP72858.1</td>\n",
       "      <td>na</td>\n",
       "      <td>na</td>\n",
       "      <td>na</td>\n",
       "      <td>na</td>\n",
       "    </tr>\n",
       "  </tbody>\n",
       "</table>\n",
       "<p>30061 rows × 9 columns</p>\n",
       "</div>"
      ],
      "text/plain": [
       "                      id  bool                       source_organism 'RefSeq'  \\\n",
       "0        MCSG-APC60832-1   1.0      Nitrosomonas europaea ATCC 19718       na   \n",
       "3      MCSG-APC62631.1-1   1.0             Clostridium difficile 630       na   \n",
       "5        MCSG-APC83984-1   1.0           Neisseria meningitidis MC58       na   \n",
       "6        MCSG-APC22678-1   1.0                       Bacillus cereus       na   \n",
       "10       MCSG-APC80163-1   1.0         Streptococcus pyogenes M1 GAS       na   \n",
       "...                  ...   ...                                   ...      ...   \n",
       "83000  MCSG-APC66101.0-1   1.0     Cytophaga hutchinsonii ATCC 33406       na   \n",
       "83002  MCSG-APC40952.2-1   1.0            Streptomyces coelicolor A3       na   \n",
       "83004  MCSG-APC38975.2-1   1.0  Chromobacterium violaceum ATCC 12472       na   \n",
       "83007    MCSG-APC23605-1   1.0            Salmonella typhimurium LT2       na   \n",
       "83008  MCSG-APC38450.3-1   1.0    Rhodobacter sphaeroides ATCC 17025       na   \n",
       "\n",
       "           'NCBI' 'NCBI ENTREZ' 'NCBITAXONOMY' 'NCBI gene' 'NCBI RefSeq'  \n",
       "0      CAD85401.1            na             na          na            na  \n",
       "3      CAJ67297.1            na             na          na            na  \n",
       "5      AAF40564.1            na             na          na            na  \n",
       "6        AAP07159            na             na          na            na  \n",
       "10       AAK34817            na             na          na            na  \n",
       "...           ...           ...            ...         ...           ...  \n",
       "83000    ABG58603            na             na          na            na  \n",
       "83002   NP_733508            na             na          na            na  \n",
       "83004  AAQ60656.1            na             na          na            na  \n",
       "83007   NP_461555            na             na          na            na  \n",
       "83008  ABP72858.1            na             na          na            na  \n",
       "\n",
       "[30061 rows x 9 columns]"
      ]
     },
     "execution_count": 91,
     "metadata": {},
     "output_type": "execute_result"
    }
   ],
   "source": [
    "ncbi_ent_df"
   ]
  },
  {
   "cell_type": "code",
   "execution_count": 96,
   "metadata": {},
   "outputs": [],
   "source": [
    "with open('refseq.txt','w') as w:\n",
    "    for ele in ref_seq_id_list:\n",
    "        w.write(ele)\n",
    "        w.write('\\n')\n",
    "        continue"
   ]
  },
  {
   "cell_type": "code",
   "execution_count": 97,
   "metadata": {},
   "outputs": [],
   "source": [
    "with open('ncbi_rest.txt','w') as w:\n",
    "    for ele in ncbi_ent_df[\"'NCBI'\"].tolist():\n",
    "        w.write(ele)\n",
    "        w.write('\\n')\n",
    "        continue"
   ]
  },
  {
   "cell_type": "code",
   "execution_count": 98,
   "metadata": {},
   "outputs": [],
   "source": [
    "data_frame1 = pd.read_excel('/Users/liusifan/Desktop/refseq.xlsx',sheet_name='Sheet0')\n",
    "data_frame2 = pd.read_excel('/Users/liusifan/Desktop/ncbi_rest.xlsx',sheet_name='Sheet0')"
   ]
  },
  {
   "cell_type": "code",
   "execution_count": 100,
   "metadata": {},
   "outputs": [],
   "source": [
    "df = data_frame1.append(data_frame2)"
   ]
  },
  {
   "cell_type": "code",
   "execution_count": 102,
   "metadata": {},
   "outputs": [],
   "source": [
    "df.to_csv('refseq2uni.csv',sep=',',index=False,header=True)"
   ]
  },
  {
   "cell_type": "code",
   "execution_count": 3,
   "metadata": {},
   "outputs": [],
   "source": [
    "data_frame1 = pd.read_excel('/Users/liusifan/Desktop/refseq.xlsx',sheet_name='Sheet1')\n",
    "data_frame2 = pd.read_excel('/Users/liusifan/Desktop/ncbi_rest.xlsx',sheet_name='Sheet1')"
   ]
  },
  {
   "cell_type": "code",
   "execution_count": 4,
   "metadata": {},
   "outputs": [],
   "source": [
    "df = data_frame1.append(data_frame2)"
   ]
  },
  {
   "cell_type": "code",
   "execution_count": 5,
   "metadata": {},
   "outputs": [],
   "source": [
    "df.to_csv('refseq2uni_biodb.csv',sep=',',index=False,header=True)"
   ]
  },
  {
   "cell_type": "code",
   "execution_count": 14,
   "metadata": {},
   "outputs": [
    {
     "data": {
      "text/html": [
       "<div>\n",
       "<style scoped>\n",
       "    .dataframe tbody tr th:only-of-type {\n",
       "        vertical-align: middle;\n",
       "    }\n",
       "\n",
       "    .dataframe tbody tr th {\n",
       "        vertical-align: top;\n",
       "    }\n",
       "\n",
       "    .dataframe thead th {\n",
       "        text-align: right;\n",
       "    }\n",
       "</style>\n",
       "<table border=\"1\" class=\"dataframe\">\n",
       "  <thead>\n",
       "    <tr style=\"text-align: right;\">\n",
       "      <th></th>\n",
       "      <th>ref_id</th>\n",
       "      <th>Entry</th>\n",
       "    </tr>\n",
       "  </thead>\n",
       "  <tbody>\n",
       "    <tr>\n",
       "      <th>0</th>\n",
       "      <td>NP_266633</td>\n",
       "      <td>Q9CI89</td>\n",
       "    </tr>\n",
       "    <tr>\n",
       "      <th>1</th>\n",
       "      <td>NP_579755</td>\n",
       "      <td>-</td>\n",
       "    </tr>\n",
       "    <tr>\n",
       "      <th>2</th>\n",
       "      <td>NP_471517</td>\n",
       "      <td>-</td>\n",
       "    </tr>\n",
       "    <tr>\n",
       "      <th>3</th>\n",
       "      <td>NP_763683</td>\n",
       "      <td>A0A0H2VE63</td>\n",
       "    </tr>\n",
       "    <tr>\n",
       "      <th>4</th>\n",
       "      <td>NP_244237</td>\n",
       "      <td>-</td>\n",
       "    </tr>\n",
       "    <tr>\n",
       "      <th>...</th>\n",
       "      <td>...</td>\n",
       "      <td>...</td>\n",
       "    </tr>\n",
       "    <tr>\n",
       "      <th>20678</th>\n",
       "      <td>AAW85234</td>\n",
       "      <td>-</td>\n",
       "    </tr>\n",
       "    <tr>\n",
       "      <th>20679</th>\n",
       "      <td>AAK74880</td>\n",
       "      <td>-</td>\n",
       "    </tr>\n",
       "    <tr>\n",
       "      <th>20680</th>\n",
       "      <td>ABG58603</td>\n",
       "      <td>-</td>\n",
       "    </tr>\n",
       "    <tr>\n",
       "      <th>20681</th>\n",
       "      <td>NP_733508</td>\n",
       "      <td>Q8CK51</td>\n",
       "    </tr>\n",
       "    <tr>\n",
       "      <th>20682</th>\n",
       "      <td>NP_461555</td>\n",
       "      <td>-</td>\n",
       "    </tr>\n",
       "  </tbody>\n",
       "</table>\n",
       "<p>40612 rows × 2 columns</p>\n",
       "</div>"
      ],
      "text/plain": [
       "          ref_id       Entry\n",
       "0      NP_266633      Q9CI89\n",
       "1      NP_579755           -\n",
       "2      NP_471517           -\n",
       "3      NP_763683  A0A0H2VE63\n",
       "4      NP_244237           -\n",
       "...          ...         ...\n",
       "20678   AAW85234           -\n",
       "20679   AAK74880           -\n",
       "20680   ABG58603           -\n",
       "20681  NP_733508      Q8CK51\n",
       "20682  NP_461555           -\n",
       "\n",
       "[40612 rows x 2 columns]"
      ]
     },
     "execution_count": 14,
     "metadata": {},
     "output_type": "execute_result"
    }
   ],
   "source": [
    "df"
   ]
  },
  {
   "cell_type": "code",
   "execution_count": 2,
   "metadata": {},
   "outputs": [],
   "source": [
    "unique_df = pd.read_csv('seq&idens_unique.csv',low_memory=False)"
   ]
  },
  {
   "cell_type": "code",
   "execution_count": 3,
   "metadata": {},
   "outputs": [],
   "source": [
    "unique_df = unique_df.iloc[:,[0,1]]"
   ]
  },
  {
   "cell_type": "code",
   "execution_count": 4,
   "metadata": {},
   "outputs": [],
   "source": [
    "import re"
   ]
  },
  {
   "cell_type": "code",
   "execution_count": 5,
   "metadata": {},
   "outputs": [],
   "source": [
    "with open('unique_seqs.fasta','w') as w:\n",
    "    for ind,row in unique_df.iterrows():\n",
    "        w.write('>' + row['id'])\n",
    "        w.write('\\n')\n",
    "        w.write(re.sub(r'[ *_]','',row['seq']))\n",
    "        w.write('\\n')\n",
    "    "
   ]
  },
  {
   "cell_type": "code",
   "execution_count": 2,
   "metadata": {},
   "outputs": [],
   "source": [
    "uni_tt_df = pd.read_csv('uniprot_tt.csv',low_memory=False)\n",
    "uni_re_df = pd.read_csv('uniprot_rest.csv',low_memory=False)"
   ]
  },
  {
   "cell_type": "code",
   "execution_count": 4,
   "metadata": {},
   "outputs": [],
   "source": [
    "unidf = pd.DataFrame(columns=['id','uniprot'])"
   ]
  },
  {
   "cell_type": "code",
   "execution_count": 6,
   "metadata": {},
   "outputs": [],
   "source": [
    "id_list = []\n",
    "uniprot_list = []"
   ]
  },
  {
   "cell_type": "code",
   "execution_count": 9,
   "metadata": {},
   "outputs": [],
   "source": [
    "for ind,row in uni_tt_df.iterrows():\n",
    "    id_list.append(row['id'])\n",
    "    uniprot_list.append(row['UniProt'])\n",
    "    \n",
    "for ind,row in uni_re_df.iterrows():\n",
    "    id_list.append(row['id'])\n",
    "    uniprot_list.append(row['entrze'])"
   ]
  },
  {
   "cell_type": "code",
   "execution_count": 11,
   "metadata": {},
   "outputs": [],
   "source": [
    "esm_df = pd.read_csv('/Users/liusifan/Desktop/esm_clean_output.csv',low_memory=False)"
   ]
  },
  {
   "cell_type": "code",
   "execution_count": 14,
   "metadata": {},
   "outputs": [],
   "source": [
    "for i in range(1280):\n",
    "    esm_df = esm_df.drop(columns=['esm_'+str(i)])"
   ]
  },
  {
   "cell_type": "code",
   "execution_count": 15,
   "metadata": {},
   "outputs": [],
   "source": [
    "unidf['id'] = id_list\n",
    "unidf['uniprot'] = uniprot_list\n",
    "merge_uni_df = pd.merge(esm_df,unidf,on='id')"
   ]
  },
  {
   "cell_type": "code",
   "execution_count": 16,
   "metadata": {
    "collapsed": true,
    "jupyter": {
     "outputs_hidden": true
    }
   },
   "outputs": [
    {
     "data": {
      "text/html": [
       "<div>\n",
       "<style scoped>\n",
       "    .dataframe tbody tr th:only-of-type {\n",
       "        vertical-align: middle;\n",
       "    }\n",
       "\n",
       "    .dataframe tbody tr th {\n",
       "        vertical-align: top;\n",
       "    }\n",
       "\n",
       "    .dataframe thead th {\n",
       "        text-align: right;\n",
       "    }\n",
       "</style>\n",
       "<table border=\"1\" class=\"dataframe\">\n",
       "  <thead>\n",
       "    <tr style=\"text-align: right;\">\n",
       "      <th></th>\n",
       "      <th>id</th>\n",
       "      <th>seqs</th>\n",
       "      <th>lab</th>\n",
       "      <th>symbol</th>\n",
       "      <th>protein_name</th>\n",
       "      <th>source_organism</th>\n",
       "      <th>MEGA</th>\n",
       "      <th>Swiss-Prot</th>\n",
       "      <th>ATCC</th>\n",
       "      <th>SWISSPROT</th>\n",
       "      <th>...</th>\n",
       "      <th>GOS</th>\n",
       "      <th>PFAM</th>\n",
       "      <th>TSRI</th>\n",
       "      <th>GNF</th>\n",
       "      <th>TubercuList</th>\n",
       "      <th>UNIPROTKB</th>\n",
       "      <th>PepcDB-CloneId</th>\n",
       "      <th>ViPR</th>\n",
       "      <th>HGNC</th>\n",
       "      <th>uniprot</th>\n",
       "    </tr>\n",
       "  </thead>\n",
       "  <tbody>\n",
       "    <tr>\n",
       "      <th>0</th>\n",
       "      <td>NESG-BcR202-1</td>\n",
       "      <td>MKIVGIYLAAGKSRRTGPGLHKLYLPTGNTLLGNKALHTSLSSNLS...</td>\n",
       "      <td>NESG</td>\n",
       "      <td>1.0</td>\n",
       "      <td>NaN</td>\n",
       "      <td>Bacillus cereus</td>\n",
       "      <td>NaN</td>\n",
       "      <td>NaN</td>\n",
       "      <td>NaN</td>\n",
       "      <td>NaN</td>\n",
       "      <td>...</td>\n",
       "      <td>NaN</td>\n",
       "      <td>PF12804</td>\n",
       "      <td>NaN</td>\n",
       "      <td>NaN</td>\n",
       "      <td>NaN</td>\n",
       "      <td>NaN</td>\n",
       "      <td>NaN</td>\n",
       "      <td>NaN</td>\n",
       "      <td>NaN</td>\n",
       "      <td>Q81BJ3</td>\n",
       "    </tr>\n",
       "    <tr>\n",
       "      <th>1</th>\n",
       "      <td>NESG-BcR202-1</td>\n",
       "      <td>MKIVGIYLAAGKSRRTGPGLHKLYLPTGNTLLGNKALHTSLSSNLS...</td>\n",
       "      <td>NESG</td>\n",
       "      <td>1.0</td>\n",
       "      <td>NaN</td>\n",
       "      <td>Bacillus cereus</td>\n",
       "      <td>NaN</td>\n",
       "      <td>NaN</td>\n",
       "      <td>NaN</td>\n",
       "      <td>NaN</td>\n",
       "      <td>...</td>\n",
       "      <td>NaN</td>\n",
       "      <td>PF12804</td>\n",
       "      <td>NaN</td>\n",
       "      <td>NaN</td>\n",
       "      <td>NaN</td>\n",
       "      <td>NaN</td>\n",
       "      <td>NaN</td>\n",
       "      <td>NaN</td>\n",
       "      <td>NaN</td>\n",
       "      <td>Q81BJ3</td>\n",
       "    </tr>\n",
       "    <tr>\n",
       "      <th>2</th>\n",
       "      <td>NESG-FR834A-5</td>\n",
       "      <td>MSGLNDIFEAQKIEWHEHHHHHHENLYFQSHMPPPPYCEKYLRRTE...</td>\n",
       "      <td>NESG</td>\n",
       "      <td>1.0</td>\n",
       "      <td>NaN</td>\n",
       "      <td>Drosophila melanogaster</td>\n",
       "      <td>NaN</td>\n",
       "      <td>NaN</td>\n",
       "      <td>NaN</td>\n",
       "      <td>NaN</td>\n",
       "      <td>...</td>\n",
       "      <td>NaN</td>\n",
       "      <td>PF00856</td>\n",
       "      <td>NaN</td>\n",
       "      <td>NaN</td>\n",
       "      <td>NaN</td>\n",
       "      <td>NaN</td>\n",
       "      <td>NaN</td>\n",
       "      <td>NaN</td>\n",
       "      <td>NaN</td>\n",
       "      <td>Q9VW15</td>\n",
       "    </tr>\n",
       "    <tr>\n",
       "      <th>3</th>\n",
       "      <td>NESG-FR834A-5</td>\n",
       "      <td>MSGLNDIFEAQKIEWHEHHHHHHENLYFQSHMPPPPYCEKYLRRTE...</td>\n",
       "      <td>NESG</td>\n",
       "      <td>1.0</td>\n",
       "      <td>NaN</td>\n",
       "      <td>Drosophila melanogaster</td>\n",
       "      <td>NaN</td>\n",
       "      <td>NaN</td>\n",
       "      <td>NaN</td>\n",
       "      <td>NaN</td>\n",
       "      <td>...</td>\n",
       "      <td>NaN</td>\n",
       "      <td>PF00856</td>\n",
       "      <td>NaN</td>\n",
       "      <td>NaN</td>\n",
       "      <td>NaN</td>\n",
       "      <td>NaN</td>\n",
       "      <td>NaN</td>\n",
       "      <td>NaN</td>\n",
       "      <td>NaN</td>\n",
       "      <td>Q9VW15</td>\n",
       "    </tr>\n",
       "    <tr>\n",
       "      <th>4</th>\n",
       "      <td>NESG-SR672-1</td>\n",
       "      <td>MIPLVSIIVPMYNVEPFIEECIDSLLRQTLSDIEIILVNDGTPDRS...</td>\n",
       "      <td>NESG</td>\n",
       "      <td>1.0</td>\n",
       "      <td>NaN</td>\n",
       "      <td>Bacillus subtilis</td>\n",
       "      <td>NaN</td>\n",
       "      <td>NaN</td>\n",
       "      <td>NaN</td>\n",
       "      <td>NaN</td>\n",
       "      <td>...</td>\n",
       "      <td>NaN</td>\n",
       "      <td>PF00535</td>\n",
       "      <td>NaN</td>\n",
       "      <td>NaN</td>\n",
       "      <td>NaN</td>\n",
       "      <td>NaN</td>\n",
       "      <td>NaN</td>\n",
       "      <td>NaN</td>\n",
       "      <td>NaN</td>\n",
       "      <td>P71059</td>\n",
       "    </tr>\n",
       "    <tr>\n",
       "      <th>...</th>\n",
       "      <td>...</td>\n",
       "      <td>...</td>\n",
       "      <td>...</td>\n",
       "      <td>...</td>\n",
       "      <td>...</td>\n",
       "      <td>...</td>\n",
       "      <td>...</td>\n",
       "      <td>...</td>\n",
       "      <td>...</td>\n",
       "      <td>...</td>\n",
       "      <td>...</td>\n",
       "      <td>...</td>\n",
       "      <td>...</td>\n",
       "      <td>...</td>\n",
       "      <td>...</td>\n",
       "      <td>...</td>\n",
       "      <td>...</td>\n",
       "      <td>...</td>\n",
       "      <td>...</td>\n",
       "      <td>...</td>\n",
       "      <td>...</td>\n",
       "    </tr>\n",
       "    <tr>\n",
       "      <th>47089</th>\n",
       "      <td>NESG-RiR103-1</td>\n",
       "      <td>METKGEPYSEPCEFFNSILTGSVSRKMRLPRMGIRNFIGTSRLHFA...</td>\n",
       "      <td>NESG</td>\n",
       "      <td>1.0</td>\n",
       "      <td>NaN</td>\n",
       "      <td>Agrobacterium vitis</td>\n",
       "      <td>NaN</td>\n",
       "      <td>NaN</td>\n",
       "      <td>NaN</td>\n",
       "      <td>NaN</td>\n",
       "      <td>...</td>\n",
       "      <td>NaN</td>\n",
       "      <td>PF03135</td>\n",
       "      <td>NaN</td>\n",
       "      <td>NaN</td>\n",
       "      <td>NaN</td>\n",
       "      <td>NaN</td>\n",
       "      <td>NaN</td>\n",
       "      <td>NaN</td>\n",
       "      <td>NaN</td>\n",
       "      <td>B9K5Z5</td>\n",
       "    </tr>\n",
       "    <tr>\n",
       "      <th>47090</th>\n",
       "      <td>NESG-RiR103-1</td>\n",
       "      <td>METKGEPYSEPCEFFNSILTGSVSRKMRLPRMGIRNFIGTSRLHFA...</td>\n",
       "      <td>NESG</td>\n",
       "      <td>1.0</td>\n",
       "      <td>NaN</td>\n",
       "      <td>Agrobacterium vitis</td>\n",
       "      <td>NaN</td>\n",
       "      <td>NaN</td>\n",
       "      <td>NaN</td>\n",
       "      <td>NaN</td>\n",
       "      <td>...</td>\n",
       "      <td>NaN</td>\n",
       "      <td>PF03135</td>\n",
       "      <td>NaN</td>\n",
       "      <td>NaN</td>\n",
       "      <td>NaN</td>\n",
       "      <td>NaN</td>\n",
       "      <td>NaN</td>\n",
       "      <td>NaN</td>\n",
       "      <td>NaN</td>\n",
       "      <td>B9K5Z5</td>\n",
       "    </tr>\n",
       "    <tr>\n",
       "      <th>47091</th>\n",
       "      <td>NESG-SR664D-1</td>\n",
       "      <td>MTNFILIIEEINRANAASVFGDIFQLLDRNKNGESDYPVTFGPDIM...</td>\n",
       "      <td>NESG</td>\n",
       "      <td>1.0</td>\n",
       "      <td>NaN</td>\n",
       "      <td>Bacillus subtilis</td>\n",
       "      <td>NaN</td>\n",
       "      <td>NaN</td>\n",
       "      <td>NaN</td>\n",
       "      <td>NaN</td>\n",
       "      <td>...</td>\n",
       "      <td>NaN</td>\n",
       "      <td>PF07728</td>\n",
       "      <td>NaN</td>\n",
       "      <td>NaN</td>\n",
       "      <td>NaN</td>\n",
       "      <td>NaN</td>\n",
       "      <td>NaN</td>\n",
       "      <td>NaN</td>\n",
       "      <td>NaN</td>\n",
       "      <td>O34885</td>\n",
       "    </tr>\n",
       "    <tr>\n",
       "      <th>47092</th>\n",
       "      <td>NESG-SR664D-1</td>\n",
       "      <td>MTNFILIIEEINRANAASVFGDIFQLLDRNKNGESDYPVTFGPDIM...</td>\n",
       "      <td>NESG</td>\n",
       "      <td>1.0</td>\n",
       "      <td>NaN</td>\n",
       "      <td>Bacillus subtilis</td>\n",
       "      <td>NaN</td>\n",
       "      <td>NaN</td>\n",
       "      <td>NaN</td>\n",
       "      <td>NaN</td>\n",
       "      <td>...</td>\n",
       "      <td>NaN</td>\n",
       "      <td>PF07728</td>\n",
       "      <td>NaN</td>\n",
       "      <td>NaN</td>\n",
       "      <td>NaN</td>\n",
       "      <td>NaN</td>\n",
       "      <td>NaN</td>\n",
       "      <td>NaN</td>\n",
       "      <td>NaN</td>\n",
       "      <td>O34885</td>\n",
       "    </tr>\n",
       "    <tr>\n",
       "      <th>47093</th>\n",
       "      <td>NESG-HR4619-53</td>\n",
       "      <td>MWSHPQFEKAMKIEEGKLVIWINGDKGYNGLAEVGKKFEKDTGIKV...</td>\n",
       "      <td>NESG</td>\n",
       "      <td>1.0</td>\n",
       "      <td>NaN</td>\n",
       "      <td>Homo sapiens</td>\n",
       "      <td>NaN</td>\n",
       "      <td>NaN</td>\n",
       "      <td>NaN</td>\n",
       "      <td>NaN</td>\n",
       "      <td>...</td>\n",
       "      <td>NaN</td>\n",
       "      <td>PF08934</td>\n",
       "      <td>NaN</td>\n",
       "      <td>NaN</td>\n",
       "      <td>NaN</td>\n",
       "      <td>NaN</td>\n",
       "      <td>NaN</td>\n",
       "      <td>NaN</td>\n",
       "      <td>RB1</td>\n",
       "      <td>P06400</td>\n",
       "    </tr>\n",
       "  </tbody>\n",
       "</table>\n",
       "<p>47094 rows × 55 columns</p>\n",
       "</div>"
      ],
      "text/plain": [
       "                   id                                               seqs  \\\n",
       "0       NESG-BcR202-1  MKIVGIYLAAGKSRRTGPGLHKLYLPTGNTLLGNKALHTSLSSNLS...   \n",
       "1       NESG-BcR202-1  MKIVGIYLAAGKSRRTGPGLHKLYLPTGNTLLGNKALHTSLSSNLS...   \n",
       "2       NESG-FR834A-5  MSGLNDIFEAQKIEWHEHHHHHHENLYFQSHMPPPPYCEKYLRRTE...   \n",
       "3       NESG-FR834A-5  MSGLNDIFEAQKIEWHEHHHHHHENLYFQSHMPPPPYCEKYLRRTE...   \n",
       "4        NESG-SR672-1  MIPLVSIIVPMYNVEPFIEECIDSLLRQTLSDIEIILVNDGTPDRS...   \n",
       "...               ...                                                ...   \n",
       "47089   NESG-RiR103-1  METKGEPYSEPCEFFNSILTGSVSRKMRLPRMGIRNFIGTSRLHFA...   \n",
       "47090   NESG-RiR103-1  METKGEPYSEPCEFFNSILTGSVSRKMRLPRMGIRNFIGTSRLHFA...   \n",
       "47091   NESG-SR664D-1  MTNFILIIEEINRANAASVFGDIFQLLDRNKNGESDYPVTFGPDIM...   \n",
       "47092   NESG-SR664D-1  MTNFILIIEEINRANAASVFGDIFQLLDRNKNGESDYPVTFGPDIM...   \n",
       "47093  NESG-HR4619-53  MWSHPQFEKAMKIEEGKLVIWINGDKGYNGLAEVGKKFEKDTGIKV...   \n",
       "\n",
       "        lab  symbol protein_name          source_organism MEGA Swiss-Prot  \\\n",
       "0      NESG     1.0          NaN          Bacillus cereus  NaN        NaN   \n",
       "1      NESG     1.0          NaN          Bacillus cereus  NaN        NaN   \n",
       "2      NESG     1.0          NaN  Drosophila melanogaster  NaN        NaN   \n",
       "3      NESG     1.0          NaN  Drosophila melanogaster  NaN        NaN   \n",
       "4      NESG     1.0          NaN        Bacillus subtilis  NaN        NaN   \n",
       "...     ...     ...          ...                      ...  ...        ...   \n",
       "47089  NESG     1.0          NaN      Agrobacterium vitis  NaN        NaN   \n",
       "47090  NESG     1.0          NaN      Agrobacterium vitis  NaN        NaN   \n",
       "47091  NESG     1.0          NaN        Bacillus subtilis  NaN        NaN   \n",
       "47092  NESG     1.0          NaN        Bacillus subtilis  NaN        NaN   \n",
       "47093  NESG     1.0          NaN             Homo sapiens  NaN        NaN   \n",
       "\n",
       "       ATCC SWISSPROT  ...  GOS     PFAM TSRI  GNF  TubercuList UNIPROTKB  \\\n",
       "0       NaN       NaN  ...  NaN  PF12804  NaN  NaN          NaN       NaN   \n",
       "1       NaN       NaN  ...  NaN  PF12804  NaN  NaN          NaN       NaN   \n",
       "2       NaN       NaN  ...  NaN  PF00856  NaN  NaN          NaN       NaN   \n",
       "3       NaN       NaN  ...  NaN  PF00856  NaN  NaN          NaN       NaN   \n",
       "4       NaN       NaN  ...  NaN  PF00535  NaN  NaN          NaN       NaN   \n",
       "...     ...       ...  ...  ...      ...  ...  ...          ...       ...   \n",
       "47089   NaN       NaN  ...  NaN  PF03135  NaN  NaN          NaN       NaN   \n",
       "47090   NaN       NaN  ...  NaN  PF03135  NaN  NaN          NaN       NaN   \n",
       "47091   NaN       NaN  ...  NaN  PF07728  NaN  NaN          NaN       NaN   \n",
       "47092   NaN       NaN  ...  NaN  PF07728  NaN  NaN          NaN       NaN   \n",
       "47093   NaN       NaN  ...  NaN  PF08934  NaN  NaN          NaN       NaN   \n",
       "\n",
       "       PepcDB-CloneId ViPR HGNC uniprot  \n",
       "0                 NaN  NaN  NaN  Q81BJ3  \n",
       "1                 NaN  NaN  NaN  Q81BJ3  \n",
       "2                 NaN  NaN  NaN  Q9VW15  \n",
       "3                 NaN  NaN  NaN  Q9VW15  \n",
       "4                 NaN  NaN  NaN  P71059  \n",
       "...               ...  ...  ...     ...  \n",
       "47089             NaN  NaN  NaN  B9K5Z5  \n",
       "47090             NaN  NaN  NaN  B9K5Z5  \n",
       "47091             NaN  NaN  NaN  O34885  \n",
       "47092             NaN  NaN  NaN  O34885  \n",
       "47093             NaN  NaN  RB1  P06400  \n",
       "\n",
       "[47094 rows x 55 columns]"
      ]
     },
     "execution_count": 16,
     "metadata": {},
     "output_type": "execute_result"
    }
   ],
   "source": [
    "merge_uni_df"
   ]
  },
  {
   "cell_type": "code",
   "execution_count": 17,
   "metadata": {},
   "outputs": [],
   "source": [
    "pdb_df = pd.read_csv('pdb2uni_kws.csv',low_memory=False)\n",
    "ref2uni_df = pd.read_csv('extracted_ref2uni_tt.csv',low_memory=False)"
   ]
  },
  {
   "cell_type": "code",
   "execution_count": 19,
   "metadata": {},
   "outputs": [],
   "source": [
    "pdb_df = pdb_df.fillna('na')\n",
    "for ind,row in pdb_df.iterrows():\n",
    "    if row['mf'] == 'na' and row['bp'] == 'na' and row['cc'] == 'na':\n",
    "        pdb_df = pdb_df.drop([ind])\n",
    "pdf = pd.DataFrame(columns=['PDB','uniprot'])\n",
    "pdf['PDB'] = pdb_df['pdb']\n",
    "pdf['uniprot'] = pdb_df['Entry']\n",
    "merge_pdb_df = pd.merge(esm_df,pdf,on='PDB')"
   ]
  },
  {
   "cell_type": "code",
   "execution_count": 21,
   "metadata": {},
   "outputs": [
    {
     "data": {
      "text/html": [
       "<div>\n",
       "<style scoped>\n",
       "    .dataframe tbody tr th:only-of-type {\n",
       "        vertical-align: middle;\n",
       "    }\n",
       "\n",
       "    .dataframe tbody tr th {\n",
       "        vertical-align: top;\n",
       "    }\n",
       "\n",
       "    .dataframe thead th {\n",
       "        text-align: right;\n",
       "    }\n",
       "</style>\n",
       "<table border=\"1\" class=\"dataframe\">\n",
       "  <thead>\n",
       "    <tr style=\"text-align: right;\">\n",
       "      <th></th>\n",
       "      <th>ref_id</th>\n",
       "      <th>Entry</th>\n",
       "      <th>mf</th>\n",
       "      <th>bp</th>\n",
       "      <th>cc</th>\n",
       "    </tr>\n",
       "  </thead>\n",
       "  <tbody>\n",
       "    <tr>\n",
       "      <th>0</th>\n",
       "      <td>NP_215425.1</td>\n",
       "      <td>P9WJ05</td>\n",
       "      <td>na</td>\n",
       "      <td>Toxin-antitoxin system</td>\n",
       "      <td>na</td>\n",
       "    </tr>\n",
       "    <tr>\n",
       "      <th>1</th>\n",
       "      <td>NP_010090.1</td>\n",
       "      <td>P0CX84</td>\n",
       "      <td>Ribonucleoprotein</td>\n",
       "      <td>na</td>\n",
       "      <td>Cytoplasm</td>\n",
       "    </tr>\n",
       "    <tr>\n",
       "      <th>2</th>\n",
       "      <td>NP_010145.1</td>\n",
       "      <td>P0CX84</td>\n",
       "      <td>Ribonucleoprotein</td>\n",
       "      <td>na</td>\n",
       "      <td>Cytoplasm</td>\n",
       "    </tr>\n",
       "    <tr>\n",
       "      <th>3</th>\n",
       "      <td>NP_010090.1</td>\n",
       "      <td>P0CX85</td>\n",
       "      <td>Ribonucleoprotein</td>\n",
       "      <td>na</td>\n",
       "      <td>Cytoplasm</td>\n",
       "    </tr>\n",
       "    <tr>\n",
       "      <th>4</th>\n",
       "      <td>NP_010145.1</td>\n",
       "      <td>P0CX85</td>\n",
       "      <td>Ribonucleoprotein</td>\n",
       "      <td>na</td>\n",
       "      <td>Cytoplasm</td>\n",
       "    </tr>\n",
       "    <tr>\n",
       "      <th>...</th>\n",
       "      <td>...</td>\n",
       "      <td>...</td>\n",
       "      <td>...</td>\n",
       "      <td>...</td>\n",
       "      <td>...</td>\n",
       "    </tr>\n",
       "    <tr>\n",
       "      <th>4864</th>\n",
       "      <td>NP_799982</td>\n",
       "      <td>Q87IY4</td>\n",
       "      <td>na</td>\n",
       "      <td>na</td>\n",
       "      <td>Membrane</td>\n",
       "    </tr>\n",
       "    <tr>\n",
       "      <th>4865</th>\n",
       "      <td>NP_249255</td>\n",
       "      <td>Q9I5X2</td>\n",
       "      <td>DNA-binding</td>\n",
       "      <td>Transcription</td>\n",
       "      <td>na</td>\n",
       "    </tr>\n",
       "    <tr>\n",
       "      <th>4866</th>\n",
       "      <td>NP_213575</td>\n",
       "      <td>O67014</td>\n",
       "      <td>na</td>\n",
       "      <td>Cell shape</td>\n",
       "      <td>na</td>\n",
       "    </tr>\n",
       "    <tr>\n",
       "      <th>4867</th>\n",
       "      <td>NP_800388</td>\n",
       "      <td>Q87HS8</td>\n",
       "      <td>na</td>\n",
       "      <td>na</td>\n",
       "      <td>Membrane</td>\n",
       "    </tr>\n",
       "    <tr>\n",
       "      <th>4868</th>\n",
       "      <td>NP_733508</td>\n",
       "      <td>Q8CK51</td>\n",
       "      <td>Lyase</td>\n",
       "      <td>na</td>\n",
       "      <td>na</td>\n",
       "    </tr>\n",
       "  </tbody>\n",
       "</table>\n",
       "<p>4869 rows × 5 columns</p>\n",
       "</div>"
      ],
      "text/plain": [
       "           ref_id   Entry                 mf                      bp  \\\n",
       "0     NP_215425.1  P9WJ05                 na  Toxin-antitoxin system   \n",
       "1     NP_010090.1  P0CX84  Ribonucleoprotein                      na   \n",
       "2     NP_010145.1  P0CX84  Ribonucleoprotein                      na   \n",
       "3     NP_010090.1  P0CX85  Ribonucleoprotein                      na   \n",
       "4     NP_010145.1  P0CX85  Ribonucleoprotein                      na   \n",
       "...           ...     ...                ...                     ...   \n",
       "4864    NP_799982  Q87IY4                 na                      na   \n",
       "4865    NP_249255  Q9I5X2        DNA-binding           Transcription   \n",
       "4866    NP_213575  O67014                 na              Cell shape   \n",
       "4867    NP_800388  Q87HS8                 na                      na   \n",
       "4868    NP_733508  Q8CK51              Lyase                      na   \n",
       "\n",
       "             cc  \n",
       "0            na  \n",
       "1     Cytoplasm  \n",
       "2     Cytoplasm  \n",
       "3     Cytoplasm  \n",
       "4     Cytoplasm  \n",
       "...         ...  \n",
       "4864   Membrane  \n",
       "4865         na  \n",
       "4866         na  \n",
       "4867   Membrane  \n",
       "4868         na  \n",
       "\n",
       "[4869 rows x 5 columns]"
      ]
     },
     "execution_count": 21,
     "metadata": {},
     "output_type": "execute_result"
    }
   ],
   "source": [
    "ref2uni_df"
   ]
  },
  {
   "cell_type": "code",
   "execution_count": 22,
   "metadata": {},
   "outputs": [
    {
     "data": {
      "text/plain": [
       "Index(['id', 'seqs', 'lab', 'symbol', 'protein_name', 'source_organism',\n",
       "       'MEGA', 'Swiss-Prot', 'ATCC', 'SWISSPROT', 'WormBase', 'MCSGdb', 'PDB',\n",
       "       'PATRIC ID', 'EFI', 'NCBI gene', 'SuperFamily', 'TIGR',\n",
       "       'Genome Project', 'PUMA2', 'RefSeq', 'SPINE', 'UniProt', 'NCBI RefSeq',\n",
       "       'PFAM-B', 'NCBI', 'seguid', 'PSI-MR', 'NCBI ENTREZ', 'ORNL', 'OrthoMCL',\n",
       "       'PSICNT', 'EuPathDB', 'NCBITAXONOMY', 'INTERPRO', 'target', 'NYSGRC',\n",
       "       'BMRB', 'CATH', 'CSGID', 'GOA', 'Stanford SGD', 'GenBank', 'BIG',\n",
       "       'Genbank', 'GOS', 'PFAM', 'TSRI', 'GNF', 'TubercuList', 'UNIPROTKB',\n",
       "       'PepcDB-CloneId', 'ViPR', 'HGNC'],\n",
       "      dtype='object')"
      ]
     },
     "execution_count": 22,
     "metadata": {},
     "output_type": "execute_result"
    }
   ],
   "source": [
    "esm_df.columns"
   ]
  },
  {
   "cell_type": "code",
   "execution_count": 23,
   "metadata": {},
   "outputs": [],
   "source": [
    "esm_df['uniprot'] = ['']*len(esm_df)"
   ]
  },
  {
   "cell_type": "code",
   "execution_count": 40,
   "metadata": {},
   "outputs": [],
   "source": [
    "refid_list = ref2uni_df['ref_id'].tolist()\n",
    "refuni_list = ref2uni_df['Entry'].tolist()"
   ]
  },
  {
   "cell_type": "code",
   "execution_count": 42,
   "metadata": {},
   "outputs": [
    {
     "name": "stderr",
     "output_type": "stream",
     "text": [
      "<ipython-input-42-74657296ce57>:5: SettingWithCopyWarning: \n",
      "A value is trying to be set on a copy of a slice from a DataFrame\n",
      "\n",
      "See the caveats in the documentation: https://pandas.pydata.org/pandas-docs/stable/user_guide/indexing.html#returning-a-view-versus-a-copy\n",
      "  esm_df['uniprot'][ind] = refuni_list[refid_list.index(row['NCBI RefSeq'])]\n",
      "<ipython-input-42-74657296ce57>:7: SettingWithCopyWarning: \n",
      "A value is trying to be set on a copy of a slice from a DataFrame\n",
      "\n",
      "See the caveats in the documentation: https://pandas.pydata.org/pandas-docs/stable/user_guide/indexing.html#returning-a-view-versus-a-copy\n",
      "  esm_df['uniprot'][ind] = refuni_list[refid_list.index(row['NCBI'])]\n",
      "<ipython-input-42-74657296ce57>:3: SettingWithCopyWarning: \n",
      "A value is trying to be set on a copy of a slice from a DataFrame\n",
      "\n",
      "See the caveats in the documentation: https://pandas.pydata.org/pandas-docs/stable/user_guide/indexing.html#returning-a-view-versus-a-copy\n",
      "  esm_df['uniprot'][ind] = refuni_list[refid_list.index(row['RefSeq'])]\n",
      "<ipython-input-42-74657296ce57>:11: SettingWithCopyWarning: \n",
      "A value is trying to be set on a copy of a slice from a DataFrame\n",
      "\n",
      "See the caveats in the documentation: https://pandas.pydata.org/pandas-docs/stable/user_guide/indexing.html#returning-a-view-versus-a-copy\n",
      "  esm_df['uniprot'][ind] = refuni_list[refid_list.index(row['NCBI ENTREZ'])]\n"
     ]
    }
   ],
   "source": [
    "for ind,row in esm_df.iterrows():\n",
    "    if row['RefSeq'] in refid_list:\n",
    "        esm_df['uniprot'][ind] = refuni_list[refid_list.index(row['RefSeq'])]\n",
    "    elif row['NCBI RefSeq'] in refid_list:\n",
    "        esm_df['uniprot'][ind] = refuni_list[refid_list.index(row['NCBI RefSeq'])]\n",
    "    elif row['NCBI'] in refid_list:\n",
    "        esm_df['uniprot'][ind] = refuni_list[refid_list.index(row['NCBI'])]\n",
    "    elif row['NCBI gene'] in refid_list:\n",
    "        esm_df['uniprot'][ind] = refuni_list[refid_list.index(row['NCBI gene'])]\n",
    "    elif row['NCBI ENTREZ'] in refid_list:\n",
    "        esm_df['uniprot'][ind] = refuni_list[refid_list.index(row['NCBI ENTREZ'])]\n",
    "    elif row['NCBITAXONOMY'] in refid_list:\n",
    "        esm_df['uniprot'][ind] = refuni_list[refid_list.index(row['NCBITAXONOMY'])]   "
   ]
  },
  {
   "cell_type": "code",
   "execution_count": 46,
   "metadata": {},
   "outputs": [],
   "source": [
    "merge_ref2uni_df = esm_df\n",
    "for ind,row in merge_ref2uni_df.iterrows():\n",
    "    if row['uniprot'] == '':\n",
    "        merge_ref2uni_df = merge_ref2uni_df.drop([ind])"
   ]
  },
  {
   "cell_type": "code",
   "execution_count": 48,
   "metadata": {},
   "outputs": [],
   "source": [
    "merge_ref2uni_df = merge_ref2uni_df.reset_index(drop=True)"
   ]
  },
  {
   "cell_type": "code",
   "execution_count": 50,
   "metadata": {},
   "outputs": [],
   "source": [
    "merge_df = merge_uni_df.append(merge_pdb_df)\n",
    "merge_df = merge_df.append(merge_ref2uni_df)"
   ]
  },
  {
   "cell_type": "code",
   "execution_count": 52,
   "metadata": {},
   "outputs": [],
   "source": [
    "merge_df = merge_df.reset_index(drop=True)"
   ]
  },
  {
   "cell_type": "code",
   "execution_count": 53,
   "metadata": {},
   "outputs": [],
   "source": [
    "merge_df.to_csv('all_uni_idens.csv',sep=',',header=True,index=False)"
   ]
  },
  {
   "cell_type": "code",
   "execution_count": 2,
   "metadata": {},
   "outputs": [],
   "source": [
    "merge_df = pd.read_csv('all_uni_idens.csv',low_memory=False)"
   ]
  },
  {
   "cell_type": "code",
   "execution_count": 5,
   "metadata": {},
   "outputs": [],
   "source": [
    "merge_df = merge_df.iloc[:,[0,3,54]]"
   ]
  },
  {
   "cell_type": "code",
   "execution_count": 8,
   "metadata": {},
   "outputs": [],
   "source": [
    "uni_list = merge_df['uniprot'].tolist()"
   ]
  },
  {
   "cell_type": "code",
   "execution_count": 9,
   "metadata": {},
   "outputs": [],
   "source": [
    "unique_uni_list = list(set(uni_list))"
   ]
  },
  {
   "cell_type": "code",
   "execution_count": 10,
   "metadata": {},
   "outputs": [
    {
     "data": {
      "text/plain": [
       "15349"
      ]
     },
     "execution_count": 10,
     "metadata": {},
     "output_type": "execute_result"
    }
   ],
   "source": [
    "len(unique_uni_list)"
   ]
  },
  {
   "cell_type": "code",
   "execution_count": 44,
   "metadata": {},
   "outputs": [],
   "source": [
    "tid_l = list(set(merge_df['id'].tolist()))\n",
    "merge_df1 = pd.DataFrame(columns=['id','symbol','uniprot'])\n",
    "il = []\n",
    "sl =[]\n",
    "ul = []\n",
    "for ele in tid_l:\n",
    "    sub_df = merge_df[merge_df.id == ele]\n",
    "    il.append(ele)\n",
    "    sl.append(sub_df['symbol'].tolist()[0])\n",
    "    ul.append(sub_df['uniprot'].tolist()[0])"
   ]
  },
  {
   "cell_type": "code",
   "execution_count": 45,
   "metadata": {},
   "outputs": [],
   "source": [
    "merge_df1['id'] = il\n",
    "merge_df1['uniprot'] = ul\n",
    "merge_df1['symbol'] = sl"
   ]
  },
  {
   "cell_type": "code",
   "execution_count": 46,
   "metadata": {
    "collapsed": true,
    "jupyter": {
     "outputs_hidden": true
    }
   },
   "outputs": [
    {
     "data": {
      "text/html": [
       "<div>\n",
       "<style scoped>\n",
       "    .dataframe tbody tr th:only-of-type {\n",
       "        vertical-align: middle;\n",
       "    }\n",
       "\n",
       "    .dataframe tbody tr th {\n",
       "        vertical-align: top;\n",
       "    }\n",
       "\n",
       "    .dataframe thead th {\n",
       "        text-align: right;\n",
       "    }\n",
       "</style>\n",
       "<table border=\"1\" class=\"dataframe\">\n",
       "  <thead>\n",
       "    <tr style=\"text-align: right;\">\n",
       "      <th></th>\n",
       "      <th>id</th>\n",
       "      <th>symbol</th>\n",
       "      <th>uniprot</th>\n",
       "    </tr>\n",
       "  </thead>\n",
       "  <tbody>\n",
       "    <tr>\n",
       "      <th>0</th>\n",
       "      <td>MCSG-APC1582-1</td>\n",
       "      <td>1.0</td>\n",
       "      <td>O34528</td>\n",
       "    </tr>\n",
       "    <tr>\n",
       "      <th>1</th>\n",
       "      <td>NESG-MlR121A-2</td>\n",
       "      <td>1.0</td>\n",
       "      <td>Q98E68</td>\n",
       "    </tr>\n",
       "    <tr>\n",
       "      <th>2</th>\n",
       "      <td>EFI-510239-1</td>\n",
       "      <td>0.0</td>\n",
       "      <td>Q16C67</td>\n",
       "    </tr>\n",
       "    <tr>\n",
       "      <th>3</th>\n",
       "      <td>NYSGRC-019936-1</td>\n",
       "      <td>0.0</td>\n",
       "      <td>Q9JZ42</td>\n",
       "    </tr>\n",
       "    <tr>\n",
       "      <th>4</th>\n",
       "      <td>NESG-HR3029F-20</td>\n",
       "      <td>1.0</td>\n",
       "      <td>P41279</td>\n",
       "    </tr>\n",
       "    <tr>\n",
       "      <th>...</th>\n",
       "      <td>...</td>\n",
       "      <td>...</td>\n",
       "      <td>...</td>\n",
       "    </tr>\n",
       "    <tr>\n",
       "      <th>28089</th>\n",
       "      <td>NESG-HR6414A-5</td>\n",
       "      <td>1.0</td>\n",
       "      <td>O60936</td>\n",
       "    </tr>\n",
       "    <tr>\n",
       "      <th>28090</th>\n",
       "      <td>NESG-EwR26-1</td>\n",
       "      <td>1.0</td>\n",
       "      <td>Q6D3L3</td>\n",
       "    </tr>\n",
       "    <tr>\n",
       "      <th>28091</th>\n",
       "      <td>NESG-MvR97-1</td>\n",
       "      <td>1.0</td>\n",
       "      <td>Q8TL25</td>\n",
       "    </tr>\n",
       "    <tr>\n",
       "      <th>28092</th>\n",
       "      <td>MCSG-APC85412-1</td>\n",
       "      <td>1.0</td>\n",
       "      <td>P39796</td>\n",
       "    </tr>\n",
       "    <tr>\n",
       "      <th>28093</th>\n",
       "      <td>NESG-CtR6-1</td>\n",
       "      <td>1.0</td>\n",
       "      <td>Q8KFV8</td>\n",
       "    </tr>\n",
       "  </tbody>\n",
       "</table>\n",
       "<p>28094 rows × 3 columns</p>\n",
       "</div>"
      ],
      "text/plain": [
       "                    id  symbol uniprot\n",
       "0       MCSG-APC1582-1     1.0  O34528\n",
       "1       NESG-MlR121A-2     1.0  Q98E68\n",
       "2         EFI-510239-1     0.0  Q16C67\n",
       "3      NYSGRC-019936-1     0.0  Q9JZ42\n",
       "4      NESG-HR3029F-20     1.0  P41279\n",
       "...                ...     ...     ...\n",
       "28089   NESG-HR6414A-5     1.0  O60936\n",
       "28090     NESG-EwR26-1     1.0  Q6D3L3\n",
       "28091     NESG-MvR97-1     1.0  Q8TL25\n",
       "28092  MCSG-APC85412-1     1.0  P39796\n",
       "28093      NESG-CtR6-1     1.0  Q8KFV8\n",
       "\n",
       "[28094 rows x 3 columns]"
      ]
     },
     "execution_count": 46,
     "metadata": {},
     "output_type": "execute_result"
    }
   ],
   "source": [
    "merge_df1"
   ]
  },
  {
   "cell_type": "code",
   "execution_count": 52,
   "metadata": {},
   "outputs": [],
   "source": [
    "merge_0_df = merge_df1[merge_df1.symbol == 0]\n",
    "merge_1_df = merge_df1[merge_df1.symbol == 1]\n",
    "unique_0_list = list(set(merge_0_df['uniprot'].tolist()))\n",
    "unique_1_list = list(set(merge_1_df['uniprot'].tolist()))"
   ]
  },
  {
   "cell_type": "code",
   "execution_count": 53,
   "metadata": {},
   "outputs": [
    {
     "data": {
      "text/plain": [
       "(879, 14467)"
      ]
     },
     "execution_count": 53,
     "metadata": {},
     "output_type": "execute_result"
    }
   ],
   "source": [
    "len(unique_0_list),len(unique_1_list) # before: 1.0: 14467, 0.0: 879"
   ]
  },
  {
   "cell_type": "code",
   "execution_count": 54,
   "metadata": {},
   "outputs": [
    {
     "data": {
      "text/plain": [
       "58"
      ]
     },
     "execution_count": 54,
     "metadata": {},
     "output_type": "execute_result"
    }
   ],
   "source": [
    "# for trials that belong to same uniprot id but have contrary label 1 or 0\n",
    "statistic_df = pd.DataFrame(columns=['trial_id','uniprot'])\n",
    "trial_id_list = []\n",
    "uniprot_l = []\n",
    "for ele in unique_uni_list:\n",
    "    sub_df = merge_df1[merge_df1.uniprot == ele]\n",
    "    symbol_list = list(set(sub_df['symbol'].tolist()))\n",
    "    if len(symbol_list) == 2:\n",
    "        trial_id_list.append('$'.join(sub_df['id'].tolist()))\n",
    "        uniprot_l.append(ele)\n",
    "        \n",
    "statistic_df['trial_id'] = trial_id_list\n",
    "statistic_df['uniprot'] = uniprot_l\n",
    "len(trial_id_list)"
   ]
  },
  {
   "cell_type": "code",
   "execution_count": 55,
   "metadata": {
    "collapsed": true,
    "jupyter": {
     "outputs_hidden": true
    }
   },
   "outputs": [
    {
     "data": {
      "text/plain": [
       "['NESG-SR661-1$NYSGRC-024761-1',\n",
       " 'NESG-SR528-1$NYSGRC-016480-2',\n",
       " 'NYSGRC-020037-1$NESG-BtR51-1',\n",
       " 'NYSGRC-024782-1$NESG-XcR218-1',\n",
       " 'NYSGRC-026060-4$NESG-VR78-1',\n",
       " 'NYSGRC-016567-1$NESG-CgR38-1',\n",
       " 'NESG-ER457-9$NESG-ER457-14$NESG-ER457-18$NESG-ER457-1$NYSGRC-031515-1',\n",
       " 'MCSG-APC37783.1-1$NYSGRC-030651-2',\n",
       " 'NESG-HR3072A-3$NESG-HR3072B-1$NESG-HR3072A-1$NYSGRC-033855-1$NESG-HR3072B-3',\n",
       " 'NESG-IR7-1$NYSGRC-019973-1',\n",
       " 'NESG-PaR130-1$NYSGRC-031678-1',\n",
       " 'NYSGRC-200960-1$NESG-BcR270C-1$NESG-BcR270A-1$NESG-BcR270B-2',\n",
       " 'NESG-BcR127-1$NYSGRC-016856-1',\n",
       " 'NYSGRC-031342-1$NESG-PaT34-2',\n",
       " 'NESG-HR8970B-2$NESG-HR8970B-6$NESG-HR8970-16$NESG-HR8970-2$NESG-HR8970-10$NYSGRC-033779-3$NESG-HR8970-22$NESG-HR8970-5$NESG-HR8970A-1$NESG-HR8970-7$NESG-HR8970-13$NESG-HR8970B-3$NESG-HR8970-3$NESG-HR8970-26',\n",
       " 'JCSG-379859-1$NYSGRC-200048-2',\n",
       " 'NESG-HR4-1$NYSGRC-033760-1',\n",
       " 'NESG-HR3417C-1$NESG-HR3417C-3$NYSGRC-010986-4',\n",
       " 'NYSGRC-016522-1$NESG-IR98-2',\n",
       " 'NESG-SoR18-3$NESG-SoR18-1$NYSGRC-016650-1',\n",
       " 'NESG-LgR50-1$NYSGRC-020130-1',\n",
       " 'NYSGRC-033806-1$NESG-HR8848-1',\n",
       " 'NESG-LgR52-1$NYSGRC-020132-1',\n",
       " 'NESG-ET29-4$NYSGRC-019964-1',\n",
       " 'NESG-HR4606C-4$NESG-HR5528A-1$NESG-HR4606D-1$NESG-HR4606C-2$NYSGRC-033727-1$NESG-HR4606C-7',\n",
       " 'NYSGRC-031624-1$MCSG-APC5544-1',\n",
       " 'NYSGRC-021555-2$MCSG-APC65357.2-1',\n",
       " 'MCSG-APC1761-1$NYSGRC-016492-1',\n",
       " 'NYSGRC-031082-1$MCSG-APC22975-1',\n",
       " 'NESG-PsR129-1$NYSGRC-020031-1',\n",
       " 'NESG-HR3463G-2$NYSGRC-010863-3$NESG-HR3463G-3',\n",
       " 'NESG-IR99-2$EFI-508487-1',\n",
       " 'MCSG-APC64948.1-1$NYSGRC-020022-1$MCSG-APC64948.2-1',\n",
       " 'MCSG-APC64411-1$NYSGRC-019942-1',\n",
       " 'NYSGRC-016487-1$NESG-SR666-1',\n",
       " 'NESG-SR670-1$NYSGRC-016490-1',\n",
       " 'MCSG-APC24100-1$NYSGRC-016544-1',\n",
       " 'EFI-501054-11$MCSG-APC5626-1',\n",
       " 'NESG-HR2087-1$NYSGRC-010988-3',\n",
       " 'NESG-HR8554-1$NYSGRC-010822-3$NYSGRC-010822-5$NYSGRC-010822-2',\n",
       " 'NYSGRC-020531-3$MCSG-APC7394-1',\n",
       " 'NESG-IR6-2$NESG-IR6-1$NYSGRC-019981-1',\n",
       " 'NYSGRC-031677-1$NESG-PaT62-2',\n",
       " 'NYSGRC-033820-1$NESG-HR1419-1',\n",
       " 'NESG-HR9002C-7$NESG-HR9002A-3$NYSGRC-033733-1$NESG-HR9002B-5$NESG-HR9002A-1$NESG-HR9002C-1$NESG-HR9002B-1$NESG-HR9002C-2$NESG-HR9002A-5$NESG-HR9002B-2',\n",
       " 'NYSGRC-016484-1$NESG-SR264-1$NESG-SR264A-3',\n",
       " 'NESG-HR9066-4$NESG-HR9066A-3$NYSGRC-010880-1$NESG-HR9066-1$NESG-HR9066A-1$NESG-HR9066B-3$NESG-HR9066B-5',\n",
       " 'NESG-ER148A-1$NYSGRC-031664-1',\n",
       " 'NYSGRC-031080-1$MCSG-APC64906.4-1$MCSG-APC64906.5-1',\n",
       " 'NESG-RhR46-1$NYSGRC-020186-1',\n",
       " 'NESG-HR3551B-1$NYSGRC-033725-1',\n",
       " 'NYSGRC-031478-1$NESG-BcR66-1',\n",
       " 'MCSG-APC237-1$NYSGRC-016504-1',\n",
       " 'NYSGRC-031675-1$NESG-PaR128-1',\n",
       " 'NYSGRC-010710-7$NESG-HR9054A-9$NESG-HR9054A-11$NYSGRC-010710-5$NESG-HR9054A-3$NYSGRC-010710-3$NYSGRC-010710-1$NESG-HR9054A-1$NESG-HR9054A-2$NESG-HR9054A-4',\n",
       " 'NESG-HR4495C-1$NESG-HR4495E-1$NESG-HR4495E-10$NYSGRC-010778-5$NESG-HR4495C-3$NYSGRC-010778-2$NESG-HR4495D-1',\n",
       " 'NESG-StR267-1$NYSGRC-016529-3',\n",
       " 'MCSG-APC65359-1$NYSGRC-021554-3$MCSG-APC65359.2-1']"
      ]
     },
     "execution_count": 55,
     "metadata": {},
     "output_type": "execute_result"
    }
   ],
   "source": [
    "trial_id_list"
   ]
  },
  {
   "cell_type": "code",
   "execution_count": 21,
   "metadata": {},
   "outputs": [
    {
     "data": {
      "text/plain": [
       "(12460, 2831)"
      ]
     },
     "execution_count": 21,
     "metadata": {},
     "output_type": "execute_result"
    }
   ],
   "source": [
    "rest_df = merge_df\n",
    "for ind,row in rest_df.iterrows():\n",
    "    if row['uniprot'] in uniprot_l:\n",
    "        rest_df = rest_df.drop([ind])\n",
    "\n",
    "unique_uni_list1 = list(set(rest_df['uniprot'].tolist()))\n",
    "\n",
    "# for trials that belong to same uniprot id and have the same label 1 or 0\n",
    "statistic_df1 = pd.DataFrame(columns=['trial_id','uniprot'])\n",
    "trial_id_list1 = []\n",
    "uniprot_l1 = []\n",
    "# for trials that belong to a uniprot id, unique\n",
    "statistic_df2 = pd.DataFrame(columns=['trial_id','uniprot'])\n",
    "trial_id_list2 = []\n",
    "uniprot_l2 = []\n",
    "\n",
    "for ele in unique_uni_list1:\n",
    "    sub_df = merge_df[merge_df.uniprot == ele]\n",
    "    symbol_list = sub_df['symbol'].tolist()\n",
    "    if len(symbol_list) > 1:\n",
    "        trial_id_list1.append('$'.join(sub_df['id'].tolist()))\n",
    "        uniprot_l1.append(ele)\n",
    "    if len(symbol_list) == 1:\n",
    "        trial_id_list2.append(sub_df['id'].tolist()[0])\n",
    "        uniprot_l2.append(ele)\n",
    "        \n",
    "statistic_df1['trial_id'] = trial_id_list1\n",
    "statistic_df1['uniprot'] = uniprot_l1\n",
    "statistic_df2['trial_id'] = trial_id_list2\n",
    "statistic_df2['uniprot'] = uniprot_l2\n",
    "len(trial_id_list1),len(trial_id_list2)"
   ]
  },
  {
   "cell_type": "code",
   "execution_count": 24,
   "metadata": {},
   "outputs": [],
   "source": [
    "unique_trial_df = pd.merge(merge_df,statistic_df2,on='uniprot')"
   ]
  },
  {
   "cell_type": "code",
   "execution_count": 26,
   "metadata": {},
   "outputs": [],
   "source": [
    "unique_trial_df = unique_trial_df.drop(columns=['trial_id'])"
   ]
  },
  {
   "cell_type": "code",
   "execution_count": 27,
   "metadata": {},
   "outputs": [
    {
     "data": {
      "text/plain": [
       "Counter({1.0: 2102, 0.0: 729})"
      ]
     },
     "execution_count": 27,
     "metadata": {},
     "output_type": "execute_result"
    }
   ],
   "source": [
    "Counter(unique_trial_df['symbol'].tolist())"
   ]
  },
  {
   "cell_type": "code",
   "execution_count": 28,
   "metadata": {},
   "outputs": [],
   "source": [
    "unique_trial_df.to_csv('trial_with_idens_unique.csv',sep=',',header=True,index=False)"
   ]
  },
  {
   "cell_type": "code",
   "execution_count": 29,
   "metadata": {},
   "outputs": [],
   "source": [
    "repeat_df = statistic_df1\n",
    "for ind,row in repeat_df.iterrows():\n",
    "    repeat_df['trial_id'][ind] = row['trial_id'].split('$')[0]"
   ]
  },
  {
   "cell_type": "code",
   "execution_count": 33,
   "metadata": {},
   "outputs": [],
   "source": [
    "repeat_df = repeat_df.rename(columns={'trial_id':'id'})"
   ]
  },
  {
   "cell_type": "code",
   "execution_count": 47,
   "metadata": {},
   "outputs": [],
   "source": [
    "repeat_trial_df = pd.merge(merge_df1,repeat_df,on='id')"
   ]
  },
  {
   "cell_type": "code",
   "execution_count": 48,
   "metadata": {},
   "outputs": [
    {
     "data": {
      "text/plain": [
       "Counter({1.0: 12366, 0.0: 94})"
      ]
     },
     "execution_count": 48,
     "metadata": {},
     "output_type": "execute_result"
    }
   ],
   "source": [
    "repeat_trial_df = repeat_trial_df.drop(columns=['uniprot_y'])\n",
    "repeat_trial_df = repeat_trial_df.rename(columns={'uniprot_x':'uniprot'})\n",
    "Counter(repeat_trial_df['symbol'].tolist())"
   ]
  },
  {
   "cell_type": "code",
   "execution_count": 49,
   "metadata": {},
   "outputs": [],
   "source": [
    "repeat_trial_df.to_csv('trial_with_idens_repeat_rm.csv',sep=',',header=True,index=False)"
   ]
  },
  {
   "cell_type": "code",
   "execution_count": null,
   "metadata": {},
   "outputs": [],
   "source": [
    "# trials have uniprot identifiers\n",
    "# 1.0: 14467, 0.0: 879\n",
    "# unique identifiers\n",
    "# 1.0: 2102, 0.0: 729\n",
    "# repeat trials with identical label for one identifier, redudancy removed\n",
    "# 1.0: 12366, 0.0: 94\n",
    "# repeat trials with contrary label for one identifier\n",
    "# 58"
   ]
  },
  {
   "cell_type": "code",
   "execution_count": 57,
   "metadata": {},
   "outputs": [],
   "source": [
    "statistic_df.to_csv('trials_contrary_idens.csv',sep=',',header=True,index=False)\n",
    "statistic_df1.to_csv('trials_repeat_idens.csv',sep=',',header=True,index=False)\n",
    "statistic_df2.to_csv('trials_unique_idens.csv',sep=',',header=True,index=False)"
   ]
  },
  {
   "cell_type": "code",
   "execution_count": 58,
   "metadata": {},
   "outputs": [],
   "source": [
    "contrary_df = pd.merge(merge_df1, statistic_df, on='uniprot')"
   ]
  },
  {
   "cell_type": "code",
   "execution_count": 60,
   "metadata": {},
   "outputs": [],
   "source": [
    "contrary_df = contrary_df.drop(columns=['trial_id'])"
   ]
  },
  {
   "cell_type": "code",
   "execution_count": 61,
   "metadata": {},
   "outputs": [],
   "source": [
    "contrary_df.to_csv('contrary_idens.csv',sep=',',header=True,index=False)"
   ]
  },
  {
   "cell_type": "markdown",
   "metadata": {},
   "source": [
    "# statistic based on all available identifiers from various databases"
   ]
  },
  {
   "cell_type": "code",
   "execution_count": 68,
   "metadata": {},
   "outputs": [],
   "source": [
    "unique_df = pd.read_csv('seq&idens_unique.csv',low_memory=False)"
   ]
  },
  {
   "cell_type": "code",
   "execution_count": 69,
   "metadata": {
    "collapsed": true,
    "jupyter": {
     "outputs_hidden": true
    }
   },
   "outputs": [
    {
     "data": {
      "text/plain": [
       "Index(['id', 'seq', 'bool', 'source_organism', 'database_info', 'BMRB', 'ViPR',\n",
       "       'PDB', 'Swiss-Prot', 'INTERPRO', 'RefSeq', 'ORNL', 'NCBI', 'CATH',\n",
       "       'GenBank', 'EFI', 'HGNC', 'OrthoMCL', 'NCBI ENTREZ', 'PepcDB-CloneId',\n",
       "       'MEGA', 'WormBase', 'NCBITAXONOMY', 'ATCC', 'GOA', 'UNIPROTKB',\n",
       "       'PATRIC ID', 'BIG', 'SuperFamily', 'WUSTL J. Gordon', 'EuPathDB',\n",
       "       'Genbank', 'TIGR', 'NCBI gene', 'Protocol_56', 'TubercuList', 'PUMA2',\n",
       "       'Stanford SGD', 'Protocol_73', 'UniProt', 'CSGID', 'MCSGdb',\n",
       "       'SWISSPROT', 'Genome Project', 'TSRI', 'SPINE', 'PFAM', 'NCBI RefSeq',\n",
       "       'seguid', 'PFAM-B', 'GNF', 'GOS', 'target', 'PSICNT', 'PSI-MR',\n",
       "       'NYSGRC'],\n",
       "      dtype='object')"
      ]
     },
     "execution_count": 69,
     "metadata": {},
     "output_type": "execute_result"
    }
   ],
   "source": [
    "unique_df.columns"
   ]
  },
  {
   "cell_type": "code",
   "execution_count": 70,
   "metadata": {},
   "outputs": [],
   "source": [
    "unique_df=unique_df.fillna('na')"
   ]
  },
  {
   "cell_type": "code",
   "execution_count": 71,
   "metadata": {},
   "outputs": [],
   "source": [
    "unique_df=unique_df.drop(columns=['database_info'])"
   ]
  },
  {
   "cell_type": "code",
   "execution_count": 78,
   "metadata": {},
   "outputs": [],
   "source": [
    "entry_df = pd.DataFrame(columns=['id','symbol','entry'])"
   ]
  },
  {
   "cell_type": "code",
   "execution_count": 73,
   "metadata": {},
   "outputs": [],
   "source": [
    "uniprot_df = unique_df[unique_df.UniProt != 'na']"
   ]
  },
  {
   "cell_type": "code",
   "execution_count": 79,
   "metadata": {},
   "outputs": [],
   "source": [
    "entry_df['id'] = uniprot_df['id']\n",
    "entry_df['symbol'] = uniprot_df['bool']\n",
    "entry_df['entry'] = uniprot_df['UniProt']"
   ]
  },
  {
   "cell_type": "code",
   "execution_count": 75,
   "metadata": {},
   "outputs": [],
   "source": [
    "rest_df = unique_df[unique_df.UniProt == 'na']"
   ]
  },
  {
   "cell_type": "code",
   "execution_count": 76,
   "metadata": {},
   "outputs": [],
   "source": [
    "swissprot_df = rest_df[rest_df.SWISSPROT != 'na']"
   ]
  },
  {
   "cell_type": "code",
   "execution_count": 81,
   "metadata": {},
   "outputs": [],
   "source": [
    "swissprot_df = swissprot_df.rename(columns={'bool':'symbol','SWISSPROT':'entry'})"
   ]
  },
  {
   "cell_type": "code",
   "execution_count": 82,
   "metadata": {},
   "outputs": [],
   "source": [
    "swissprot_df = swissprot_df.iloc[:,[0,2,41]]"
   ]
  },
  {
   "cell_type": "code",
   "execution_count": 84,
   "metadata": {},
   "outputs": [],
   "source": [
    "swissprot_df = swissprot_df.reset_index(drop=True)\n",
    "entry_df = entry_df.append(swissprot_df)"
   ]
  },
  {
   "cell_type": "code",
   "execution_count": 85,
   "metadata": {},
   "outputs": [],
   "source": [
    "rest_df = rest_df[rest_df.SWISSPROT == 'na']"
   ]
  },
  {
   "cell_type": "code",
   "execution_count": 88,
   "metadata": {},
   "outputs": [
    {
     "data": {
      "text/html": [
       "<div>\n",
       "<style scoped>\n",
       "    .dataframe tbody tr th:only-of-type {\n",
       "        vertical-align: middle;\n",
       "    }\n",
       "\n",
       "    .dataframe tbody tr th {\n",
       "        vertical-align: top;\n",
       "    }\n",
       "\n",
       "    .dataframe thead th {\n",
       "        text-align: right;\n",
       "    }\n",
       "</style>\n",
       "<table border=\"1\" class=\"dataframe\">\n",
       "  <thead>\n",
       "    <tr style=\"text-align: right;\">\n",
       "      <th></th>\n",
       "      <th>id</th>\n",
       "      <th>symbol</th>\n",
       "      <th>entry</th>\n",
       "    </tr>\n",
       "  </thead>\n",
       "  <tbody>\n",
       "    <tr>\n",
       "      <th>4271</th>\n",
       "      <td>JCSG-400696-1</td>\n",
       "      <td>1.0</td>\n",
       "      <td>Q8TD30</td>\n",
       "    </tr>\n",
       "    <tr>\n",
       "      <th>56970</th>\n",
       "      <td>JCSG-356241-1</td>\n",
       "      <td>1.0</td>\n",
       "      <td>P35236</td>\n",
       "    </tr>\n",
       "    <tr>\n",
       "      <th>68934</th>\n",
       "      <td>JCSG-356240-1</td>\n",
       "      <td>1.0</td>\n",
       "      <td>P35236</td>\n",
       "    </tr>\n",
       "    <tr>\n",
       "      <th>75884</th>\n",
       "      <td>JCSG-356239-1</td>\n",
       "      <td>1.0</td>\n",
       "      <td>P35236</td>\n",
       "    </tr>\n",
       "  </tbody>\n",
       "</table>\n",
       "</div>"
      ],
      "text/plain": [
       "                  id  symbol   entry\n",
       "4271   JCSG-400696-1     1.0  Q8TD30\n",
       "56970  JCSG-356241-1     1.0  P35236\n",
       "68934  JCSG-356240-1     1.0  P35236\n",
       "75884  JCSG-356239-1     1.0  P35236"
      ]
     },
     "execution_count": 88,
     "metadata": {},
     "output_type": "execute_result"
    }
   ],
   "source": [
    "rest_df = rest_df.rename(columns={'bool':'symbol','Swiss-Prot':'entry'})\n",
    "Swiss_Prot_df = rest_df[rest_df.entry != 'na']\n",
    "Swiss_Prot_df = Swiss_Prot_df.iloc[:,[0,2,7]]\n",
    "Swiss_Prot_df"
   ]
  },
  {
   "cell_type": "code",
   "execution_count": 89,
   "metadata": {},
   "outputs": [],
   "source": [
    "Swiss_Prot_df = Swiss_Prot_df.reset_index(drop=True)\n",
    "entry_df = entry_df.append(Swiss_Prot_df)"
   ]
  },
  {
   "cell_type": "code",
   "execution_count": 91,
   "metadata": {},
   "outputs": [],
   "source": [
    "rest_df = rest_df.drop(columns=['seq','source_organism','SWISSPROT','UniProt'])"
   ]
  },
  {
   "cell_type": "code",
   "execution_count": 215,
   "metadata": {},
   "outputs": [],
   "source": [
    "rest_df = rest_df.drop(columns=['PSI_MR'])"
   ]
  },
  {
   "cell_type": "code",
   "execution_count": 203,
   "metadata": {},
   "outputs": [],
   "source": [
    "rest_df = rest_df.rename(columns={'PATRIC ID':'PATRIC_ID','Stanford SGD':'Stanford_SGD','Genome Project':'Genome_Project','PSI-MR':'PSI_MR'})\n"
   ]
  },
  {
   "cell_type": "code",
   "execution_count": 237,
   "metadata": {},
   "outputs": [
    {
     "data": {
      "text/plain": [
       "Index(['id', 'symbol', 'ORNL', 'TubercuList', 'entry'], dtype='object')"
      ]
     },
     "execution_count": 237,
     "metadata": {},
     "output_type": "execute_result"
    }
   ],
   "source": [
    "rest_df.columns"
   ]
  },
  {
   "cell_type": "code",
   "execution_count": 95,
   "metadata": {
    "collapsed": true,
    "jupyter": {
     "outputs_hidden": true,
     "source_hidden": true
    }
   },
   "outputs": [
    {
     "data": {
      "text/html": [
       "<div>\n",
       "<style scoped>\n",
       "    .dataframe tbody tr th:only-of-type {\n",
       "        vertical-align: middle;\n",
       "    }\n",
       "\n",
       "    .dataframe tbody tr th {\n",
       "        vertical-align: top;\n",
       "    }\n",
       "\n",
       "    .dataframe thead th {\n",
       "        text-align: right;\n",
       "    }\n",
       "</style>\n",
       "<table border=\"1\" class=\"dataframe\">\n",
       "  <thead>\n",
       "    <tr style=\"text-align: right;\">\n",
       "      <th></th>\n",
       "      <th>id</th>\n",
       "      <th>symbol</th>\n",
       "      <th>entry</th>\n",
       "    </tr>\n",
       "  </thead>\n",
       "  <tbody>\n",
       "    <tr>\n",
       "      <th>928</th>\n",
       "      <td>TB-Rv0921-1</td>\n",
       "      <td>1.0</td>\n",
       "      <td>O05913</td>\n",
       "    </tr>\n",
       "    <tr>\n",
       "      <th>2078</th>\n",
       "      <td>TB-Rv2919c-1</td>\n",
       "      <td>1.0</td>\n",
       "      <td>P64249</td>\n",
       "    </tr>\n",
       "    <tr>\n",
       "      <th>2282</th>\n",
       "      <td>TB-Rv2671-1</td>\n",
       "      <td>1.0</td>\n",
       "      <td>P71968</td>\n",
       "    </tr>\n",
       "    <tr>\n",
       "      <th>2997</th>\n",
       "      <td>TB-Rv0300-1</td>\n",
       "      <td>1.0</td>\n",
       "      <td>O07227</td>\n",
       "    </tr>\n",
       "    <tr>\n",
       "      <th>3755</th>\n",
       "      <td>TB-Rv3336c-1</td>\n",
       "      <td>1.0</td>\n",
       "      <td>P67590</td>\n",
       "    </tr>\n",
       "    <tr>\n",
       "      <th>...</th>\n",
       "      <td>...</td>\n",
       "      <td>...</td>\n",
       "      <td>...</td>\n",
       "    </tr>\n",
       "    <tr>\n",
       "      <th>81110</th>\n",
       "      <td>TB-Rv1095-1</td>\n",
       "      <td>1.0</td>\n",
       "      <td>O53443</td>\n",
       "    </tr>\n",
       "    <tr>\n",
       "      <th>81125</th>\n",
       "      <td>TB-Rv1489-1</td>\n",
       "      <td>1.0</td>\n",
       "      <td>Q8VK13</td>\n",
       "    </tr>\n",
       "    <tr>\n",
       "      <th>81316</th>\n",
       "      <td>TB-Rv1284-1</td>\n",
       "      <td>1.0</td>\n",
       "      <td>P64797</td>\n",
       "    </tr>\n",
       "    <tr>\n",
       "      <th>82399</th>\n",
       "      <td>TB-Rv0594-1</td>\n",
       "      <td>1.0</td>\n",
       "      <td>O07784</td>\n",
       "    </tr>\n",
       "    <tr>\n",
       "      <th>82465</th>\n",
       "      <td>TB-Rv3436c-1</td>\n",
       "      <td>1.0</td>\n",
       "      <td>P0A588</td>\n",
       "    </tr>\n",
       "  </tbody>\n",
       "</table>\n",
       "<p>171 rows × 3 columns</p>\n",
       "</div>"
      ],
      "text/plain": [
       "                 id  symbol   entry\n",
       "928     TB-Rv0921-1     1.0  O05913\n",
       "2078   TB-Rv2919c-1     1.0  P64249\n",
       "2282    TB-Rv2671-1     1.0  P71968\n",
       "2997    TB-Rv0300-1     1.0  O07227\n",
       "3755   TB-Rv3336c-1     1.0  P67590\n",
       "...             ...     ...     ...\n",
       "81110   TB-Rv1095-1     1.0  O53443\n",
       "81125   TB-Rv1489-1     1.0  Q8VK13\n",
       "81316   TB-Rv1284-1     1.0  P64797\n",
       "82399   TB-Rv0594-1     1.0  O07784\n",
       "82465  TB-Rv3436c-1     1.0  P0A588\n",
       "\n",
       "[171 rows x 3 columns]"
      ]
     },
     "execution_count": 95,
     "metadata": {},
     "output_type": "execute_result"
    }
   ],
   "source": [
    "rest_df = rest_df[rest_df.entry == 'na']\n",
    "rest_df = rest_df.drop(columns=['entry'])\n",
    "rest_df = rest_df.rename(columns={'UNIPROTKB':'entry'})\n",
    "UNIPROTKB_df = rest_df[rest_df.entry != 'na']\n",
    "UNIPROTKB_df = UNIPROTKB_df.iloc[:,[0,1,21]]\n",
    "UNIPROTKB_df"
   ]
  },
  {
   "cell_type": "code",
   "execution_count": 96,
   "metadata": {
    "jupyter": {
     "source_hidden": true
    }
   },
   "outputs": [],
   "source": [
    "UNIPROTKB_df = UNIPROTKB_df.reset_index(drop=True)\n",
    "entry_df = entry_df.append(UNIPROTKB_df)"
   ]
  },
  {
   "cell_type": "code",
   "execution_count": 98,
   "metadata": {
    "jupyter": {
     "source_hidden": true
    }
   },
   "outputs": [],
   "source": [
    "rest_df = rest_df[rest_df.entry == 'na']\n",
    "rest_df = rest_df.drop(columns=['entry'])\n",
    "rest_df = rest_df.rename(columns={'PDB':'entry'})\n",
    "PDB_df = rest_df[rest_df.entry != 'na']\n",
    "PDB_df = PDB_df.iloc[:,[0,1,4]]\n",
    "PDB_df = PDB_df.reset_index(drop=True)\n",
    "entry_df = entry_df.append(PDB_df)"
   ]
  },
  {
   "cell_type": "code",
   "execution_count": 100,
   "metadata": {
    "jupyter": {
     "source_hidden": true
    }
   },
   "outputs": [],
   "source": [
    "rest_df = rest_df[rest_df.entry == 'na']\n",
    "rest_df = rest_df.drop(columns=['entry'])\n",
    "rest_df = rest_df.rename(columns={'HGNC':'entry'})\n",
    "HGNC_df = rest_df[rest_df.entry != 'na']\n",
    "HGNC_df = HGNC_df.iloc[:,[0,1,11]]\n",
    "HGNC_df = HGNC_df.reset_index(drop=True)\n",
    "entry_df = entry_df.append(HGNC_df)"
   ]
  },
  {
   "cell_type": "code",
   "execution_count": 103,
   "metadata": {
    "jupyter": {
     "source_hidden": true
    }
   },
   "outputs": [],
   "source": [
    "rest_df = rest_df[rest_df.entry == 'na']\n",
    "rest_df = rest_df.drop(columns=['entry'])\n",
    "rest_df = rest_df.rename(columns={'PFAM':'entry'})\n",
    "PFAM_df = rest_df[rest_df.entry != 'na']\n",
    "PFAM_df = PFAM_df.iloc[:,[0,1,37]]\n",
    "PFAM_df = PFAM_df.reset_index(drop=True)\n",
    "entry_df = entry_df.append(PFAM_df)"
   ]
  },
  {
   "cell_type": "code",
   "execution_count": 106,
   "metadata": {
    "jupyter": {
     "source_hidden": true
    }
   },
   "outputs": [],
   "source": [
    "rest_df = rest_df[rest_df.entry == 'na']\n",
    "rest_df = rest_df.drop(columns=['entry'])\n",
    "rest_df = rest_df.rename(columns={'PFAM-B':'entry'})\n",
    "PFAMB_df = rest_df[rest_df.entry != 'na']\n",
    "PFAMB_df = PFAMB_df.iloc[:,[0,1,39]]\n",
    "PFAMB_df = PFAMB_df.reset_index(drop=True)\n",
    "entry_df = entry_df.append(PFAMB_df)"
   ]
  },
  {
   "cell_type": "code",
   "execution_count": 109,
   "metadata": {
    "jupyter": {
     "source_hidden": true
    }
   },
   "outputs": [],
   "source": [
    "rest_df = rest_df[rest_df.entry == 'na']\n",
    "rest_df = rest_df.drop(columns=['entry'])\n",
    "rest_df = rest_df.rename(columns={'GenBank':'entry'})\n",
    "GenBank_df = rest_df[rest_df.entry != 'na']\n",
    "GenBank_df = GenBank_df.iloc[:,[0,1,9]]\n",
    "GenBank_df = GenBank_df.reset_index(drop=True)\n",
    "entry_df = entry_df.append(GenBank_df)"
   ]
  },
  {
   "cell_type": "code",
   "execution_count": 111,
   "metadata": {
    "jupyter": {
     "source_hidden": true
    }
   },
   "outputs": [],
   "source": [
    "rest_df = rest_df[rest_df.entry == 'na']\n",
    "rest_df = rest_df.drop(columns=['entry'])\n",
    "rest_df = rest_df.rename(columns={'Genbank':'entry'})\n",
    "Genbank_df = rest_df[rest_df.entry != 'na']\n",
    "Genbank_df = Genbank_df.iloc[:,[0,1,23]]\n",
    "Genbank_df = Genbank_df.reset_index(drop=True)\n",
    "entry_df = entry_df.append(Genbank_df)"
   ]
  },
  {
   "cell_type": "code",
   "execution_count": 239,
   "metadata": {},
   "outputs": [],
   "source": [
    "rest_df = rest_df[rest_df.entry == 'na']\n",
    "rest_df = rest_df.drop(columns=['entry'])\n",
    "rest_df = rest_df.rename(columns={'ORNL':'entry'})\n",
    "RefSeq_df = rest_df[rest_df.entry != 'na']\n",
    "RefSeq_df = RefSeq_df.iloc[:,[0,1,2]]\n",
    "RefSeq_df = RefSeq_df.reset_index(drop=True)\n",
    "entry_df = entry_df.append(RefSeq_df)"
   ]
  },
  {
   "cell_type": "code",
   "execution_count": 241,
   "metadata": {},
   "outputs": [],
   "source": [
    "entry_df = entry_df.reset_index(drop=True)"
   ]
  },
  {
   "cell_type": "code",
   "execution_count": 242,
   "metadata": {},
   "outputs": [],
   "source": [
    "entry_df.to_csv('whole_entrez.csv',sep=',',index=False,header=True)"
   ]
  },
  {
   "cell_type": "code",
   "execution_count": 243,
   "metadata": {},
   "outputs": [
    {
     "data": {
      "text/html": [
       "<div>\n",
       "<style scoped>\n",
       "    .dataframe tbody tr th:only-of-type {\n",
       "        vertical-align: middle;\n",
       "    }\n",
       "\n",
       "    .dataframe tbody tr th {\n",
       "        vertical-align: top;\n",
       "    }\n",
       "\n",
       "    .dataframe thead th {\n",
       "        text-align: right;\n",
       "    }\n",
       "</style>\n",
       "<table border=\"1\" class=\"dataframe\">\n",
       "  <thead>\n",
       "    <tr style=\"text-align: right;\">\n",
       "      <th></th>\n",
       "      <th>id</th>\n",
       "      <th>symbol</th>\n",
       "      <th>entry</th>\n",
       "    </tr>\n",
       "  </thead>\n",
       "  <tbody>\n",
       "    <tr>\n",
       "      <th>0</th>\n",
       "      <td>NESG-HR3083B-1</td>\n",
       "      <td>1.0</td>\n",
       "      <td>Q13112</td>\n",
       "    </tr>\n",
       "    <tr>\n",
       "      <th>1</th>\n",
       "      <td>NESG-HR2955E-2</td>\n",
       "      <td>1.0</td>\n",
       "      <td>Q9NR20</td>\n",
       "    </tr>\n",
       "    <tr>\n",
       "      <th>2</th>\n",
       "      <td>NESG-XR1-2</td>\n",
       "      <td>1.0</td>\n",
       "      <td>Q9YF01</td>\n",
       "    </tr>\n",
       "    <tr>\n",
       "      <th>3</th>\n",
       "      <td>NESG-YR315B-3</td>\n",
       "      <td>1.0</td>\n",
       "      <td>P40458</td>\n",
       "    </tr>\n",
       "    <tr>\n",
       "      <th>4</th>\n",
       "      <td>NESG-HR2177-1</td>\n",
       "      <td>1.0</td>\n",
       "      <td>Q9BQ95</td>\n",
       "    </tr>\n",
       "    <tr>\n",
       "      <th>...</th>\n",
       "      <td>...</td>\n",
       "      <td>...</td>\n",
       "      <td>...</td>\n",
       "    </tr>\n",
       "    <tr>\n",
       "      <th>79173</th>\n",
       "      <td>JCSG-380895-1</td>\n",
       "      <td>1.0</td>\n",
       "      <td>SSUI_28JUL04_CONTIG230_REVISED_GENE847</td>\n",
       "    </tr>\n",
       "    <tr>\n",
       "      <th>79174</th>\n",
       "      <td>JCSG-392817-1</td>\n",
       "      <td>1.0</td>\n",
       "      <td>DHAF_12NOV03_CONTIG1024_REVISED_GENE460</td>\n",
       "    </tr>\n",
       "    <tr>\n",
       "      <th>79175</th>\n",
       "      <td>JCSG-394667-1</td>\n",
       "      <td>1.0</td>\n",
       "      <td>PPEN_30JUL02_SCAFFOLD57_REVISED_GENE1502</td>\n",
       "    </tr>\n",
       "    <tr>\n",
       "      <th>79176</th>\n",
       "      <td>JCSG-376087-1</td>\n",
       "      <td>1.0</td>\n",
       "      <td>NPUN_22DEC03_CONTIG1_REVISED_GENENPR4837</td>\n",
       "    </tr>\n",
       "    <tr>\n",
       "      <th>79177</th>\n",
       "      <td>JCSG-370436-1</td>\n",
       "      <td>1.0</td>\n",
       "      <td>DHAF_12NOV03_CONTIG1083_REVISED_GENE3029</td>\n",
       "    </tr>\n",
       "  </tbody>\n",
       "</table>\n",
       "<p>79178 rows × 3 columns</p>\n",
       "</div>"
      ],
      "text/plain": [
       "                   id  symbol                                     entry\n",
       "0      NESG-HR3083B-1     1.0                                    Q13112\n",
       "1      NESG-HR2955E-2     1.0                                    Q9NR20\n",
       "2          NESG-XR1-2     1.0                                    Q9YF01\n",
       "3       NESG-YR315B-3     1.0                                    P40458\n",
       "4       NESG-HR2177-1     1.0                                    Q9BQ95\n",
       "...               ...     ...                                       ...\n",
       "79173   JCSG-380895-1     1.0    SSUI_28JUL04_CONTIG230_REVISED_GENE847\n",
       "79174   JCSG-392817-1     1.0   DHAF_12NOV03_CONTIG1024_REVISED_GENE460\n",
       "79175   JCSG-394667-1     1.0  PPEN_30JUL02_SCAFFOLD57_REVISED_GENE1502\n",
       "79176   JCSG-376087-1     1.0  NPUN_22DEC03_CONTIG1_REVISED_GENENPR4837\n",
       "79177   JCSG-370436-1     1.0  DHAF_12NOV03_CONTIG1083_REVISED_GENE3029\n",
       "\n",
       "[79178 rows x 3 columns]"
      ]
     },
     "execution_count": 243,
     "metadata": {},
     "output_type": "execute_result"
    }
   ],
   "source": [
    "entry_df"
   ]
  },
  {
   "cell_type": "code",
   "execution_count": 245,
   "metadata": {},
   "outputs": [],
   "source": [
    "uni_ent_l = list(set(entry_df['entry']))"
   ]
  },
  {
   "cell_type": "code",
   "execution_count": 248,
   "metadata": {},
   "outputs": [
    {
     "data": {
      "text/plain": [
       "0"
      ]
     },
     "execution_count": 248,
     "metadata": {},
     "output_type": "execute_result"
    }
   ],
   "source": [
    "stat_df = pd.DataFrame(columns=['trial_id','entry'])\n",
    "trial_id_list = []\n",
    "ent_l = []\n",
    "for ele in uni_ent_l:\n",
    "    sub_df = entry_df[entry_df.entry == ele]\n",
    "    symbol_list = list(set(sub_df['symbol'].tolist()))\n",
    "    if len(symbol_list) == 2:\n",
    "        trial_id_list.append('$'.join(sub_df['id'].tolist()))\n",
    "        ent_l.append(ele)\n",
    "        \n",
    "stat_df['trial_id'] = trial_id_list\n",
    "stat_df['entry'] = ent_l\n",
    "len(trial_id_list)"
   ]
  },
  {
   "cell_type": "code",
   "execution_count": 253,
   "metadata": {},
   "outputs": [
    {
     "data": {
      "text/plain": [
       "(10669, 42918)"
      ]
     },
     "execution_count": 253,
     "metadata": {},
     "output_type": "execute_result"
    }
   ],
   "source": [
    "# for trials that belong to same uniprot id and have the same label 1 or 0\n",
    "stat_df1 = pd.DataFrame(columns=['trial_id','entry'])\n",
    "trial_id_list1 = []\n",
    "ent_l1 = []\n",
    "# for trials that belong to a uniprot id, unique\n",
    "stat_df2 = pd.DataFrame(columns=['trial_id','entry'])\n",
    "trial_id_list2 = []\n",
    "ent_l2 = []\n",
    "\n",
    "for ele in uni_ent_l:\n",
    "    sub_df = entry_df[entry_df.entry == ele]\n",
    "    symbol_list = sub_df['symbol'].tolist()\n",
    "    if len(symbol_list) > 1:\n",
    "        trial_id_list1.append('$'.join(sub_df['id'].tolist()))\n",
    "        ent_l1.append(ele)\n",
    "    if len(symbol_list) == 1:\n",
    "        trial_id_list2.append(sub_df['id'].tolist()[0])\n",
    "        ent_l2.append(ele)\n",
    "        \n",
    "stat_df1['trial_id'] = trial_id_list1\n",
    "stat_df1['entry'] = ent_l1\n",
    "stat_df2['trial_id'] = trial_id_list2\n",
    "stat_df2['entry'] = ent_l2\n",
    "len(trial_id_list1),len(trial_id_list2)"
   ]
  },
  {
   "cell_type": "code",
   "execution_count": 254,
   "metadata": {},
   "outputs": [],
   "source": [
    "unique_dff = pd.merge(entry_df,stat_df2,on='entry')"
   ]
  },
  {
   "cell_type": "code",
   "execution_count": 255,
   "metadata": {},
   "outputs": [
    {
     "data": {
      "text/plain": [
       "Counter({1.0: 29063, 0.0: 13855})"
      ]
     },
     "execution_count": 255,
     "metadata": {},
     "output_type": "execute_result"
    }
   ],
   "source": [
    "Counter(unique_dff['symbol'].tolist())"
   ]
  },
  {
   "cell_type": "code",
   "execution_count": 256,
   "metadata": {},
   "outputs": [
    {
     "data": {
      "text/plain": [
       "Counter({1.0: 34135, 0.0: 2125})"
      ]
     },
     "execution_count": 256,
     "metadata": {},
     "output_type": "execute_result"
    }
   ],
   "source": [
    "repeat_dff = stat_df1\n",
    "for ind,row in repeat_dff.iterrows():\n",
    "    repeat_dff['trial_id'][ind] = row['trial_id'].split('$')[0]"
   ]
  },
  {
   "cell_type": "code",
   "execution_count": 258,
   "metadata": {},
   "outputs": [
    {
     "data": {
      "text/plain": [
       "Counter({1.0: 9749, 0.0: 920})"
      ]
     },
     "execution_count": 258,
     "metadata": {},
     "output_type": "execute_result"
    }
   ],
   "source": [
    "repeat_dff = repeat_dff.rename(columns={'trial_id':'id'})\n",
    "repeat_pick1_df = pd.merge(entry_df,repeat_dff,on='id')\n",
    "Counter(repeat_pick1_df['symbol'].tolist())"
   ]
  },
  {
   "cell_type": "code",
   "execution_count": 260,
   "metadata": {},
   "outputs": [],
   "source": [
    "repeat_pick1_df = repeat_pick1_df.drop(columns=['entry_x'])\n",
    "repeat_pick1_df = repeat_pick1_df.rename(columns={'entry_y':'entry'})"
   ]
  },
  {
   "cell_type": "code",
   "execution_count": 262,
   "metadata": {},
   "outputs": [],
   "source": [
    "unique_dff = unique_dff.drop(columns=['trial_id'])"
   ]
  },
  {
   "cell_type": "code",
   "execution_count": 263,
   "metadata": {},
   "outputs": [],
   "source": [
    "unique_dff.to_csv('unique_dff.csv',sep=',',index=False,header=True)\n",
    "repeat_pick1_df.to_csv('repeat_pick1_df.csv',sep=',',index=False,header=True)"
   ]
  },
  {
   "cell_type": "code",
   "execution_count": 270,
   "metadata": {},
   "outputs": [],
   "source": [
    "unique_df = unique_df.iloc[:,[0,2]]"
   ]
  },
  {
   "cell_type": "markdown",
   "metadata": {},
   "source": [
    "# cd-hit clusters 0.25"
   ]
  },
  {
   "cell_type": "code",
   "execution_count": 264,
   "metadata": {},
   "outputs": [],
   "source": [
    "seq_25 = []\n",
    "ids_25 = []\n",
    "for record in SeqIO.parse('/Users/liusifan/Desktop/1648200357.result/1648200357.fas.1','fasta'):\n",
    "    seq_25.append(str(record.seq))\n",
    "    ids_25.append(str(record.id))"
   ]
  },
  {
   "cell_type": "code",
   "execution_count": 265,
   "metadata": {},
   "outputs": [
    {
     "data": {
      "text/plain": [
       "24214"
      ]
     },
     "execution_count": 265,
     "metadata": {},
     "output_type": "execute_result"
    }
   ],
   "source": [
    "len(ids_25)"
   ]
  },
  {
   "cell_type": "code",
   "execution_count": 271,
   "metadata": {},
   "outputs": [],
   "source": [
    "cp_unique_df = unique_df\n",
    "for ind,row in cp_unique_df.iterrows():\n",
    "    if row['id'] not in ids_25:\n",
    "        cp_unique_df = cp_unique_df.drop([ind])"
   ]
  },
  {
   "cell_type": "code",
   "execution_count": 274,
   "metadata": {},
   "outputs": [
    {
     "data": {
      "text/plain": [
       "Counter({1.0: 18085, 0.0: 6129})"
      ]
     },
     "execution_count": 274,
     "metadata": {},
     "output_type": "execute_result"
    }
   ],
   "source": [
    "Counter(cp_unique_df['bool'])"
   ]
  },
  {
   "cell_type": "code",
   "execution_count": 277,
   "metadata": {},
   "outputs": [
    {
     "data": {
      "text/plain": [
       "(Counter({1.0: 757, 0.0: 213}), Counter({1.0: 3651, 0.0: 15}))"
      ]
     },
     "execution_count": 277,
     "metadata": {},
     "output_type": "execute_result"
    }
   ],
   "source": [
    "cd_unique_df = pd.merge(cp_unique_df,unique_dff,on='id')\n",
    "cd_repeat_df = pd.merge(cp_unique_df,repeat_trial_df,on='id')\n",
    "Counter(cd_unique_df['symbol']),Counter(cd_repeat_df['symbol'])"
   ]
  },
  {
   "cell_type": "code",
   "execution_count": 278,
   "metadata": {},
   "outputs": [
    {
     "data": {
      "text/plain": [
       "(Counter({1.0: 757, 0.0: 213}), Counter({1.0: 1692, 0.0: 170}))"
      ]
     },
     "execution_count": 278,
     "metadata": {},
     "output_type": "execute_result"
    }
   ],
   "source": [
    "cd_unique_df = pd.merge(cp_unique_df,unique_trial_df,on='id')\n",
    "cd_repeat_df = pd.merge(cp_unique_df,repeat_pick1_df,on='id')\n",
    "Counter(cd_unique_df['symbol']),Counter(cd_repeat_df['symbol'])"
   ]
  },
  {
   "cell_type": "markdown",
   "metadata": {},
   "source": [
    "# cd-hit clusters 0.40"
   ]
  },
  {
   "cell_type": "code",
   "execution_count": 266,
   "metadata": {},
   "outputs": [],
   "source": [
    "seq_40 = []\n",
    "ids_40 = []\n",
    "for record in SeqIO.parse('/Users/liusifan/Desktop/1648204456.result/1648204456.fas.1','fasta'):\n",
    "    seq_40.append(str(record.seq))\n",
    "    ids_40.append(str(record.id))"
   ]
  },
  {
   "cell_type": "code",
   "execution_count": 267,
   "metadata": {},
   "outputs": [
    {
     "data": {
      "text/plain": [
       "35274"
      ]
     },
     "execution_count": 267,
     "metadata": {},
     "output_type": "execute_result"
    }
   ],
   "source": [
    "len(ids_40)"
   ]
  },
  {
   "cell_type": "code",
   "execution_count": 279,
   "metadata": {},
   "outputs": [],
   "source": [
    "cpp_unique_df = unique_df\n",
    "for ind,row in cpp_unique_df.iterrows():\n",
    "    if row['id'] not in ids_40:\n",
    "        cpp_unique_df = cpp_unique_df.drop([ind])"
   ]
  },
  {
   "cell_type": "code",
   "execution_count": 281,
   "metadata": {},
   "outputs": [
    {
     "data": {
      "text/plain": [
       "Counter({1.0: 25378, 0.0: 9896})"
      ]
     },
     "execution_count": 281,
     "metadata": {},
     "output_type": "execute_result"
    }
   ],
   "source": [
    "Counter(cpp_unique_df['bool'])"
   ]
  },
  {
   "cell_type": "code",
   "execution_count": null,
   "metadata": {},
   "outputs": [],
   "source": []
  }
 ],
 "metadata": {
  "kernelspec": {
   "display_name": "Python 3",
   "language": "python",
   "name": "python3"
  },
  "language_info": {
   "codemirror_mode": {
    "name": "ipython",
    "version": 3
   },
   "file_extension": ".py",
   "mimetype": "text/x-python",
   "name": "python",
   "nbconvert_exporter": "python",
   "pygments_lexer": "ipython3",
   "version": "3.8.8"
  }
 },
 "nbformat": 4,
 "nbformat_minor": 4
}
