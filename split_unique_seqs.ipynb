{
 "cells": [
  {
   "cell_type": "code",
   "execution_count": 1,
   "metadata": {},
   "outputs": [],
   "source": [
    "import pandas as pd\n",
    "from collections import Counter\n",
    "from pandas import Series, DataFrame\n",
    "from Bio import SeqIO"
   ]
  },
  {
   "cell_type": "code",
   "execution_count": 2,
   "metadata": {},
   "outputs": [
    {
     "name": "stderr",
     "output_type": "stream",
     "text": [
      "/Users/liusifan/opt/anaconda3/envs/pytorch/lib/python3.8/site-packages/IPython/core/interactiveshell.py:3165: DtypeWarning: Columns (5,6,8,14,19,24,29,30,33,35,38,40,43,44,49,51) have mixed types.Specify dtype option on import or set low_memory=False.\n",
      "  has_raised = await self.run_ast_nodes(code_ast.body, cell_name,\n"
     ]
    }
   ],
   "source": [
    "df = pd.read_csv('seq&idens_unique.csv')"
   ]
  },
  {
   "cell_type": "code",
   "execution_count": 4,
   "metadata": {},
   "outputs": [],
   "source": [
    "df = df.iloc[:,[0,1]]"
   ]
  },
  {
   "cell_type": "code",
   "execution_count": 6,
   "metadata": {},
   "outputs": [],
   "source": [
    "names = locals()\n",
    "for i in range(17):\n",
    "    pre_ind = i * 5000\n",
    "    if i == 16:\n",
    "        pos_ind = i * 5000 + 3012\n",
    "    else:\n",
    "        pos_ind = i * 5000 + 5000\n",
    "    \n",
    "    names['sub_seq_df' + str(i)] = df[pre_ind:pos_ind]\n",
    "    \n",
    "    trailid_list = list(names['sub_seq_df' + str(i)]['id'])\n",
    "    \n",
    "    sequence_dict = dict(zip(names['sub_seq_df' + str(i)]['id'],names['sub_seq_df' + str(i)]['seq']))\n",
    "    \n",
    "    with open('/Users/liusifan/Desktop/unique_seqs/subset' + str(i) + '.fasta','w') as fa:\n",
    "        for ids in trailid_list:\n",
    "            fa.write('>'+ids)\n",
    "            fa.write('\\r\\n')\n",
    "            fa.write(sequence_dict[ids])\n",
    "            fa.write('\\r\\n')"
   ]
  },
  {
   "cell_type": "code",
   "execution_count": 9,
   "metadata": {},
   "outputs": [
    {
     "name": "stderr",
     "output_type": "stream",
     "text": [
      "/Users/liusifan/opt/anaconda3/envs/pytorch/lib/python3.8/site-packages/IPython/core/interactiveshell.py:3437: SettingWithCopyWarning: \n",
      "A value is trying to be set on a copy of a slice from a DataFrame\n",
      "\n",
      "See the caveats in the documentation: https://pandas.pydata.org/pandas-docs/stable/user_guide/indexing.html#returning-a-view-versus-a-copy\n",
      "  exec(code_obj, self.user_global_ns, self.user_ns)\n"
     ]
    }
   ],
   "source": [
    "import re\n",
    "for ind,row in df.iterrows():\n",
    "    df['seq'][ind] = re.sub(r'[ *_]','',row['seq'])"
   ]
  },
  {
   "cell_type": "code",
   "execution_count": 11,
   "metadata": {},
   "outputs": [],
   "source": [
    "names = locals()\n",
    "for i in range(17):\n",
    "    pre_ind = i * 5000\n",
    "    if i == 16:\n",
    "        pos_ind = i * 5000 + 3012\n",
    "    else:\n",
    "        pos_ind = i * 5000 + 5000\n",
    "    \n",
    "    names['sub_seq_df' + str(i)] = df[pre_ind:pos_ind]\n",
    "    \n",
    "    trailid_list = list(names['sub_seq_df' + str(i)]['id'])\n",
    "    \n",
    "    sequence_dict = dict(zip(names['sub_seq_df' + str(i)]['id'],names['sub_seq_df' + str(i)]['seq']))\n",
    "    \n",
    "    with open('/Users/liusifan/Desktop/unique_seqs_processed/subset' + str(i) + '.fasta','w') as fa:\n",
    "        for ids in trailid_list:\n",
    "            fa.write('>'+ids)\n",
    "            fa.write('\\r\\n')\n",
    "            fa.write(sequence_dict[ids])\n",
    "            fa.write('\\r\\n')"
   ]
  },
  {
   "cell_type": "code",
   "execution_count": null,
   "metadata": {},
   "outputs": [],
   "source": []
  }
 ],
 "metadata": {
  "kernelspec": {
   "display_name": "Python 3",
   "language": "python",
   "name": "python3"
  },
  "language_info": {
   "codemirror_mode": {
    "name": "ipython",
    "version": 3
   },
   "file_extension": ".py",
   "mimetype": "text/x-python",
   "name": "python",
   "nbconvert_exporter": "python",
   "pygments_lexer": "ipython3",
   "version": "3.8.8"
  }
 },
 "nbformat": 4,
 "nbformat_minor": 4
}
