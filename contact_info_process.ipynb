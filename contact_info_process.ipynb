{
 "cells": [
  {
   "cell_type": "code",
   "execution_count": 1,
   "metadata": {},
   "outputs": [],
   "source": [
    "from lxml import etree\n",
    "import pymysql\n",
    "import time\n",
    "import re\n",
    "import pandas as pd"
   ]
  },
  {
   "cell_type": "code",
   "execution_count": 2,
   "metadata": {},
   "outputs": [],
   "source": [
    "def fast_iter(context, func, func1, *args, **kwargs):\n",
    "\n",
    "    for event, elem in context:\n",
    "        \n",
    "        func(elem, func1, *args, **kwargs)\n",
    "        # reset elements，clear the internal data of the element\n",
    "        elem.clear()\n",
    "\n",
    "    del context\n",
    "    "
   ]
  },
  {
   "cell_type": "code",
   "execution_count": 3,
   "metadata": {},
   "outputs": [],
   "source": [
    "def compare(list1,list2):\n",
    "    if len(list1) < len(list2):\n",
    "        list1.append('NA')\n",
    "    return list1"
   ]
  },
  {
   "cell_type": "code",
   "execution_count": 12,
   "metadata": {},
   "outputs": [],
   "source": [
    "def process_element_contact(elem,func1):\n",
    "\n",
    "    id_list = []\n",
    "    name_list =[]\n",
    "    email_list =[]\n",
    "    organization_list = []\n",
    "    lab_list = []\n",
    "    role_list = []\n",
    "    \n",
    "\n",
    "    for contacts in elem.xpath('.//contactInfo'):\n",
    "        #print(contacts.attrib.values()[0])\n",
    "        ids = contacts.attrib.values()[0]\n",
    "        id_list.append(ids)\n",
    "        for names in contacts.xpath('.//name'):\n",
    "            name_list.append(names.text)\n",
    "        for emails in contacts.xpath('.//email'):\n",
    "            email_list.append(emails.text) \n",
    "        for organizations in contacts.xpath('.//organization'):\n",
    "            organization_list.append(organizations.text)\n",
    "        for labs in contacts.xpath('.//lab'):\n",
    "            lab_list.append(labs.text)\n",
    "        for roles in contacts.xpath('.//role'):\n",
    "            role_list.append(roles.text)\n",
    "    \n",
    "    name_list = func1(name_list,id_list)\n",
    "    email_list = func1(email_list,id_list)\n",
    "    organization_list = func1(organization_list,id_list)\n",
    "    lab_list = func1(lab_list,id_list)\n",
    "    role_list = func1(role_list,id_list)\n",
    "    \n",
    "    contact_info_df = pd.DataFrame(columns=['id', 'name','email','organization','lab','role'])\n",
    "    contact_info_df['id'] = id_list\n",
    "    contact_info_df['name'] = name_list\n",
    "    contact_info_df['email'] = email_list\n",
    "    contact_info_df['organization'] = organization_list\n",
    "    contact_info_df['lab'] = lab_list\n",
    "    contact_info_df['role'] = role_list\n",
    "    outputpath='contact_info.csv'\n",
    "    contact_info_df.to_csv(outputpath,sep=',',index=False,header=True)\n",
    "    return contact_info_df"
   ]
  },
  {
   "cell_type": "code",
   "execution_count": 13,
   "metadata": {},
   "outputs": [
    {
     "name": "stdout",
     "output_type": "stream",
     "text": [
      "start 2022-01-18 12:45:31\n",
      "stop 2022-01-18 12:47:00\n",
      "time 88.72323298454285\n"
     ]
    }
   ],
   "source": [
    "if __name__ == '__main__':\n",
    "    print('start', time.strftime('%Y-%m-%d %H:%M:%S', time.localtime()))\n",
    "    start = time.time()\n",
    "\n",
    "\n",
    "    # By iteratively reading xml, the namespace with the namespace should be added\n",
    "    context_contact = etree.iterparse('tt.xml',events=('end',),encoding='UTF-8',tag='contactInfoList')\n",
    "    #context_trail = etree.iterparse('tt.xml',events=('end',),encoding='UTF-8',tag='targetTrack')\n",
    "    # Quickly read xml data\n",
    "    fast_iter(context_contact, process_element_contact, compare)\n",
    "    #fast_iter(context_protocol, process_element_protocol, compare)\n",
    "\n",
    "    print('stop', time.strftime('%Y-%m-%d %H:%M:%S', time.localtime()))\n",
    "    print('time', time.time()-start)"
   ]
  },
  {
   "cell_type": "code",
   "execution_count": null,
   "metadata": {},
   "outputs": [],
   "source": []
  }
 ],
 "metadata": {
  "kernelspec": {
   "display_name": "Python 3",
   "language": "python",
   "name": "python3"
  },
  "language_info": {
   "codemirror_mode": {
    "name": "ipython",
    "version": 3
   },
   "file_extension": ".py",
   "mimetype": "text/x-python",
   "name": "python",
   "nbconvert_exporter": "python",
   "pygments_lexer": "ipython3",
   "version": "3.8.8"
  }
 },
 "nbformat": 4,
 "nbformat_minor": 4
}
